{
 "cells": [
  {
   "cell_type": "code",
   "execution_count": 1,
   "metadata": {},
   "outputs": [
    {
     "name": "stderr",
     "output_type": "stream",
     "text": [
      "Cropping center patches: 100%|██████████| 6000/6000 [00:20<00:00, 288.94it/s]\n",
      "Cropping center patches: 100%|██████████| 1001/1001 [00:08<00:00, 112.00it/s]\n"
     ]
    }
   ],
   "source": [
    "import os\n",
    "from PIL import Image\n",
    "from tqdm import tqdm\n",
    "\n",
    "def center_crop_and_save(hazy_dir, gt_dir, out_hazy_dir, out_gt_dir, crop_size=(64, 64)):\n",
    "    os.makedirs(out_hazy_dir, exist_ok=True)\n",
    "    os.makedirs(out_gt_dir, exist_ok=True)\n",
    "\n",
    "    valid_ext = ('.jpg', '.jpeg', '.png', '.bmp', '.tiff')\n",
    "    hazy_files = [f for f in os.listdir(hazy_dir) if f.lower().endswith(valid_ext)]\n",
    "\n",
    "    for fname in tqdm(hazy_files, desc=\"Cropping center patches\"):\n",
    "        hazy_path = os.path.join(hazy_dir, fname)\n",
    "        gt_path = os.path.join(gt_dir, fname)\n",
    "\n",
    "        if not os.path.exists(gt_path):\n",
    "            print(f\"⚠️ Missing GT for {fname}, skipping.\")\n",
    "            continue\n",
    "\n",
    "        try:\n",
    "            hazy_img = Image.open(hazy_path).convert('RGB')\n",
    "            gt_img = Image.open(gt_path).convert('RGB')\n",
    "        except:\n",
    "            print(f\"⚠️ Error reading {fname}, skipping.\")\n",
    "            continue\n",
    "\n",
    "        w, h = hazy_img.size\n",
    "        crop_w, crop_h = crop_size\n",
    "\n",
    "        if w < crop_w or h < crop_h:\n",
    "            print(f\"⚠️ {fname} too small for cropping, skipping.\")\n",
    "            continue\n",
    "\n",
    "        x = (w - crop_w) // 2\n",
    "        y = (h - crop_h) // 2\n",
    "\n",
    "        hazy_crop = hazy_img.crop((x, y, x + crop_w, y + crop_h))\n",
    "        gt_crop = gt_img.crop((x, y, x + crop_w, y + crop_h))\n",
    "\n",
    "        hazy_crop.save(os.path.join(out_hazy_dir, fname))\n",
    "        gt_crop.save(os.path.join(out_gt_dir, fname))\n",
    "\n",
    "# === Usage ===\n",
    "train_data_dir = r\"C:\\Users\\abd\\d\\ai\\dehaze\\dataset\\RESIDE-6K\\train\"\n",
    "test_data_dir = r\"C:\\Users\\abd\\d\\ai\\dehaze\\dataset\\RESIDE-6K\\test\"  # <-- adjust if needed\n",
    "# train_data_dir = \"/kaggle/input/reside6k/RESIDE-6K/train\"\n",
    "# val_data_dir = \"/kaggle/input/reside6k/RESIDE-6K/val\"  # <-- adjust if needed\n",
    "\n",
    "\n",
    "out_dir_train = r\"C:\\Users\\abd\\d\\ai\\dehaze\\dataset\\reside_processed\\kaggle\\working\\cropped_t\"\n",
    "out_dir_val = r\"C:\\Users\\abd\\d\\ai\\dehaze\\dataset\\reside_processed\\kaggle\\working\\cropped_v\"\n",
    "crop_size = (128, 128)\n",
    "\n",
    "# Train\n",
    "center_crop_and_save(\n",
    "    hazy_dir=f\"{train_data_dir}/hazy\",\n",
    "    gt_dir=f\"{train_data_dir}/GT\",\n",
    "    out_hazy_dir=f\"{out_dir_train}/hazy\",\n",
    "    out_gt_dir=f\"{out_dir_train}/GT\",\n",
    "    crop_size=crop_size\n",
    ")\n",
    "\n",
    "# Validation\n",
    "center_crop_and_save(\n",
    "    hazy_dir=f\"{test_data_dir}/hazy\",\n",
    "    gt_dir=f\"{test_data_dir}/GT\",\n",
    "    out_hazy_dir=f\"{out_dir_val}/hazy\",\n",
    "    out_gt_dir=f\"{out_dir_val}/GT\",\n",
    "    crop_size=crop_size\n",
    ")\n"
   ]
  }
 ],
 "metadata": {
  "kaggle": {
   "accelerator": "none",
   "dataSources": [
    {
     "datasetId": 937211,
     "sourceId": 1587463,
     "sourceType": "datasetVersion"
    },
    {
     "datasetId": 2813430,
     "sourceId": 4853613,
     "sourceType": "datasetVersion"
    },
    {
     "datasetId": 6456606,
     "sourceId": 10417877,
     "sourceType": "datasetVersion"
    },
    {
     "datasetId": 6464114,
     "sourceId": 10443410,
     "sourceType": "datasetVersion"
    },
    {
     "sourceId": 222875724,
     "sourceType": "kernelVersion"
    },
    {
     "isSourceIdPinned": false,
     "modelId": 268224,
     "modelInstanceId": 246650,
     "sourceId": 287852,
     "sourceType": "modelInstanceVersion"
    },
    {
     "isSourceIdPinned": false,
     "modelId": 269124,
     "modelInstanceId": 247592,
     "sourceId": 288973,
     "sourceType": "modelInstanceVersion"
    },
    {
     "isSourceIdPinned": false,
     "modelId": 269124,
     "modelInstanceId": 247592,
     "sourceId": 297672,
     "sourceType": "modelInstanceVersion"
    },
    {
     "isSourceIdPinned": true,
     "modelId": 269124,
     "modelInstanceId": 247592,
     "sourceId": 299643,
     "sourceType": "modelInstanceVersion"
    }
   ],
   "dockerImageVersionId": 31011,
   "isGpuEnabled": false,
   "isInternetEnabled": true,
   "language": "python",
   "sourceType": "notebook"
  },
  "kernelspec": {
   "display_name": ".venv",
   "language": "python",
   "name": "python3"
  },
  "language_info": {
   "codemirror_mode": {
    "name": "ipython",
    "version": 3
   },
   "file_extension": ".py",
   "mimetype": "text/x-python",
   "name": "python",
   "nbconvert_exporter": "python",
   "pygments_lexer": "ipython3",
   "version": "3.11.9"
  },
  "papermill": {
   "default_parameters": {},
   "duration": null,
   "end_time": null,
   "environment_variables": {},
   "exception": null,
   "input_path": "__notebook__.ipynb",
   "output_path": "__notebook__.ipynb",
   "parameters": {},
   "start_time": "2025-04-12T13:09:18.306161",
   "version": "2.6.0"
  }
 },
 "nbformat": 4,
 "nbformat_minor": 4
}
