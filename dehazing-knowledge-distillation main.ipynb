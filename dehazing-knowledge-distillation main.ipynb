{
 "cells": [
  {
   "cell_type": "code",
   "execution_count": 1,
   "id": "ba2f90d7",
   "metadata": {
    "_cell_guid": "b1076dfc-b9ad-4769-8c92-a6c4dae69d19",
    "_uuid": "8f2839f25d086af736a60e9eeb907d3b93b6e0e5",
    "execution": {
     "iopub.execute_input": "2025-03-10T11:52:03.883455Z",
     "iopub.status.busy": "2025-03-10T11:52:03.883162Z",
     "iopub.status.idle": "2025-03-10T11:52:15.292347Z",
     "shell.execute_reply": "2025-03-10T11:52:15.291617Z"
    },
    "papermill": {
     "duration": 11.419482,
     "end_time": "2025-03-10T11:52:15.293883",
     "exception": false,
     "start_time": "2025-03-10T11:52:03.874401",
     "status": "completed"
    },
    "tags": []
   },
   "outputs": [],
   "source": [
    "import torch\n",
    "import torch.nn as nn\n",
    "import torch.nn.functional as F\n",
    "from torch.utils.data import DataLoader, Dataset\n",
    "import glob\n",
    "import os\n",
    "from torchvision.transforms import Compose, ToTensor, Normalize, ToPILImage\n",
    "from PIL import Image\n",
    "from random import randrange\n",
    "from torch.optim.lr_scheduler import CosineAnnealingLR\n",
    "import matplotlib.pyplot as plt\n",
    "import math\n",
    "from math import log10\n",
    "import numpy as np\n",
    "from torch.nn.init import _calculate_fan_in_and_fan_out\n",
    "from timm.layers import to_2tuple, trunc_normal_\n",
    "import torchvision.utils as utils\n",
    "import torch.utils.data as data\n",
    "from torchvision.models import vgg16\n",
    "from torch.utils.data import Dataset\n",
    "from skimage.metrics import peak_signal_noise_ratio as psnr\n",
    "from skimage.metrics import structural_similarity as ssim\n",
    "import time\n",
    "from skimage import measure\n",
    "import ipywidgets as widgets\n",
    "from IPython.display import display"
   ]
  },
  {
   "cell_type": "code",
   "execution_count": 2,
   "id": "72da51a4",
   "metadata": {
    "execution": {
     "iopub.execute_input": "2025-03-10T11:52:15.309248Z",
     "iopub.status.busy": "2025-03-10T11:52:15.308890Z",
     "iopub.status.idle": "2025-03-10T11:52:15.359826Z",
     "shell.execute_reply": "2025-03-10T11:52:15.359166Z"
    },
    "papermill": {
     "duration": 0.05955,
     "end_time": "2025-03-10T11:52:15.361005",
     "exception": false,
     "start_time": "2025-03-10T11:52:15.301455",
     "status": "completed"
    },
    "tags": []
   },
   "outputs": [],
   "source": [
    "device = torch.device(\"cuda\" if torch.cuda.is_available() else \"cpu\")"
   ]
  },
  {
   "cell_type": "markdown",
   "id": "a7a918e6",
   "metadata": {
    "papermill": {
     "duration": 0.006816,
     "end_time": "2025-03-10T11:52:15.374908",
     "exception": false,
     "start_time": "2025-03-10T11:52:15.368092",
     "status": "completed"
    },
    "tags": []
   },
   "source": [
    "# Basenet"
   ]
  },
  {
   "cell_type": "code",
   "execution_count": 3,
   "id": "d955d926",
   "metadata": {
    "execution": {
     "iopub.execute_input": "2025-03-10T11:52:15.389660Z",
     "iopub.status.busy": "2025-03-10T11:52:15.389430Z",
     "iopub.status.idle": "2025-03-10T11:52:15.597311Z",
     "shell.execute_reply": "2025-03-10T11:52:15.596412Z"
    },
    "papermill": {
     "duration": 0.216843,
     "end_time": "2025-03-10T11:52:15.598696",
     "exception": false,
     "start_time": "2025-03-10T11:52:15.381853",
     "status": "completed"
    },
    "tags": []
   },
   "outputs": [],
   "source": [
    "class RLN(nn.Module):\n",
    "\tr\"\"\"Revised LayerNorm\"\"\"\n",
    "\tdef __init__(self, dim, eps=1e-5, detach_grad=False):\n",
    "\t\tsuper(RLN, self).__init__()\n",
    "\t\tself.eps = eps\n",
    "\t\tself.detach_grad = detach_grad\n",
    "\n",
    "\t\tself.weight = nn.Parameter(torch.ones((1, dim, 1, 1)))\n",
    "\t\tself.bias = nn.Parameter(torch.zeros((1, dim, 1, 1)))\n",
    "\n",
    "\t\tself.meta1 = nn.Conv2d(1, dim, 1)\n",
    "\t\tself.meta2 = nn.Conv2d(1, dim, 1)\n",
    "\n",
    "\t\ttrunc_normal_(self.meta1.weight, std=.02)\n",
    "\t\tnn.init.constant_(self.meta1.bias, 1)\n",
    "\n",
    "\t\ttrunc_normal_(self.meta2.weight, std=.02)\n",
    "\t\tnn.init.constant_(self.meta2.bias, 0)\n",
    "\n",
    "\tdef forward(self, input):\n",
    "\t\tmean = torch.mean(input, dim=(1, 2, 3), keepdim=True)\n",
    "\t\tstd = torch.sqrt((input - mean).pow(2).mean(dim=(1, 2, 3), keepdim=True) + self.eps)\n",
    "\n",
    "\t\tnormalized_input = (input - mean) / std\n",
    "\n",
    "\t\tif self.detach_grad:\n",
    "\t\t\trescale, rebias = self.meta1(std.detach()), self.meta2(mean.detach())\n",
    "\t\telse:\n",
    "\t\t\trescale, rebias = self.meta1(std), self.meta2(mean)\n",
    "\n",
    "\t\tout = normalized_input * self.weight + self.bias\n",
    "\t\treturn out, rescale, rebias\n",
    "\n",
    "\n",
    "class Mlp(nn.Module):\n",
    "\tdef __init__(self, network_depth, in_features, hidden_features=None, out_features=None):\n",
    "\t\tsuper().__init__()\n",
    "\t\tout_features = out_features or in_features\n",
    "\t\thidden_features = hidden_features or in_features\n",
    "\n",
    "\t\tself.network_depth = network_depth\n",
    "\n",
    "\t\tself.mlp = nn.Sequential(\n",
    "\t\t\tnn.Conv2d(in_features, hidden_features, 1),\n",
    "\t\t\tnn.ReLU(True),\n",
    "\t\t\tnn.Conv2d(hidden_features, out_features, 1)\n",
    "\t\t)\n",
    "\n",
    "\t\tself.apply(self._init_weights)\n",
    "\n",
    "\tdef _init_weights(self, m):\n",
    "\t\tif isinstance(m, nn.Conv2d):\n",
    "\t\t\tgain = (8 * self.network_depth) ** (-1/4)\n",
    "\t\t\tfan_in, fan_out = _calculate_fan_in_and_fan_out(m.weight)\n",
    "\t\t\tstd = gain * math.sqrt(2.0 / float(fan_in + fan_out))\n",
    "\t\t\ttrunc_normal_(m.weight, std=std)\n",
    "\t\t\tif m.bias !=   None:\n",
    "\t\t\t\tnn.init.constant_(m.bias, 0)\n",
    "\n",
    "\tdef forward(self, x):\n",
    "\t\treturn self.mlp(x)\n",
    "\n",
    "\n",
    "def window_partition(x, window_size):\n",
    "\tB, H, W, C = x.shape\n",
    "\tx = x.view(B, H // window_size, window_size, W // window_size, window_size, C)\n",
    "\twindows = x.permute(0, 1, 3, 2, 4, 5).contiguous().view(-1, window_size**2, C)\n",
    "\treturn windows\n",
    "\n",
    "\n",
    "def window_reverse(windows, window_size, H, W):\n",
    "\tB = int(windows.shape[0] / (H * W / window_size / window_size))\n",
    "\tx = windows.view(B, H // window_size, W // window_size, window_size, window_size, -1)\n",
    "\tx = x.permute(0, 1, 3, 2, 4, 5).contiguous().view(B, H, W, -1)\n",
    "\treturn x\n",
    "\n",
    "\n",
    "def get_relative_positions(window_size):\n",
    "\tcoords_h = torch.arange(window_size)\n",
    "\tcoords_w = torch.arange(window_size)\n",
    "\n",
    "\tcoords = torch.stack(torch.meshgrid([coords_h, coords_w]))  # 2, Wh, Ww\n",
    "\tcoords_flatten = torch.flatten(coords, 1)  # 2, Wh*Ww\n",
    "\trelative_positions = coords_flatten[:, :, None] - coords_flatten[:, None, :]  # 2, Wh*Ww, Wh*Ww\n",
    "\n",
    "\trelative_positions = relative_positions.permute(1, 2, 0).contiguous()  # Wh*Ww, Wh*Ww, 2\n",
    "\trelative_positions_log  = torch.sign(relative_positions) * torch.log(1. + relative_positions.abs())\n",
    "\n",
    "\treturn relative_positions_log\n",
    "\n",
    "\n",
    "class WindowAttention(nn.Module):\n",
    "\tdef __init__(self, dim, window_size, num_heads):\n",
    "\n",
    "\t\tsuper().__init__()\n",
    "\t\tself.dim = dim\n",
    "\t\tself.window_size = window_size  # Wh, Ww\n",
    "\t\tself.num_heads = num_heads\n",
    "\t\thead_dim = dim // num_heads\n",
    "\t\tself.scale = head_dim ** -0.5\n",
    "\n",
    "\t\trelative_positions = get_relative_positions(self.window_size)\n",
    "\t\tself.register_buffer(\"relative_positions\", relative_positions)\n",
    "\t\tself.meta = nn.Sequential(\n",
    "\t\t\tnn.Linear(2, 256, bias=True),\n",
    "\t\t\tnn.ReLU(True),\n",
    "\t\t\tnn.Linear(256, num_heads, bias=True)\n",
    "\t\t)\n",
    "\n",
    "\t\tself.softmax = nn.Softmax(dim=-1)\n",
    "\n",
    "\tdef forward(self, qkv):\n",
    "\t\tB_, N, _ = qkv.shape\n",
    "\n",
    "\t\tqkv = qkv.reshape(B_, N, 3, self.num_heads, self.dim // self.num_heads).permute(2, 0, 3, 1, 4)\n",
    "\n",
    "\t\tq, k, v = qkv[0], qkv[1], qkv[2]  # make torchscript happy (cannot use tensor as tuple)\n",
    "\n",
    "\t\tq = q * self.scale\n",
    "\t\tattn = (q @ k.transpose(-2, -1))\n",
    "\n",
    "\t\trelative_position_bias = self.meta(self.relative_positions)\n",
    "\t\trelative_position_bias = relative_position_bias.permute(2, 0, 1).contiguous()  # nH, Wh*Ww, Wh*Ww\n",
    "\t\tattn = attn + relative_position_bias.unsqueeze(0)\n",
    "\n",
    "\t\tattn = self.softmax(attn)\n",
    "\n",
    "\t\tx = (attn @ v).transpose(1, 2).reshape(B_, N, self.dim)\n",
    "\t\treturn x\n",
    "\n",
    "\n",
    "class Attention(nn.Module):\n",
    "\tdef __init__(self, network_depth, dim, num_heads, window_size, shift_size, use_attn=False, conv_type=None):\n",
    "\t\tsuper().__init__()\n",
    "\t\tself.dim = dim\n",
    "\t\tself.head_dim = int(dim // num_heads)\n",
    "\t\tself.num_heads = num_heads\n",
    "\n",
    "\t\tself.window_size = window_size\n",
    "\t\tself.shift_size = shift_size\n",
    "\n",
    "\t\tself.network_depth = network_depth\n",
    "\t\tself.use_attn = use_attn\n",
    "\t\tself.conv_type = conv_type\n",
    "\n",
    "\t\tif self.conv_type == 'Conv':\n",
    "\t\t\tself.conv = nn.Sequential(\n",
    "\t\t\t\tnn.Conv2d(dim, dim, kernel_size=3, padding=1, padding_mode='reflect'),\n",
    "\t\t\t\tnn.ReLU(True),\n",
    "\t\t\t\tnn.Conv2d(dim, dim, kernel_size=3, padding=1, padding_mode='reflect')\n",
    "\t\t\t)\n",
    "\n",
    "\t\tif self.conv_type == 'DWConv':\n",
    "\t\t\tself.conv = nn.Conv2d(dim, dim, kernel_size=5, padding=2, groups=dim, padding_mode='reflect')\n",
    "\n",
    "\t\tif self.conv_type == 'DWConv' or self.use_attn:\n",
    "\t\t\tself.V = nn.Conv2d(dim, dim, 1)\n",
    "\t\t\tself.proj = nn.Conv2d(dim, dim, 1)\n",
    "\n",
    "\t\tif self.use_attn:\n",
    "\t\t\tself.QK = nn.Conv2d(dim, dim * 2, 1)\n",
    "\t\t\tself.attn = WindowAttention(dim, window_size, num_heads)\n",
    "\n",
    "\t\tself.apply(self._init_weights)\n",
    "\n",
    "\tdef _init_weights(self, m):\n",
    "\t\tif isinstance(m, nn.Conv2d):\n",
    "\t\t\tw_shape = m.weight.shape\n",
    "\t\t\t\n",
    "\t\t\tif w_shape[0] == self.dim * 2:\t# QK\n",
    "\t\t\t\tfan_in, fan_out = _calculate_fan_in_and_fan_out(m.weight)\n",
    "\t\t\t\tstd = math.sqrt(2.0 / float(fan_in + fan_out))\n",
    "\t\t\t\ttrunc_normal_(m.weight, std=std)\t\t\n",
    "\t\t\telse:\n",
    "\t\t\t\tgain = (8 * self.network_depth) ** (-1/4)\n",
    "\t\t\t\tfan_in, fan_out = _calculate_fan_in_and_fan_out(m.weight)\n",
    "\t\t\t\tstd = gain * math.sqrt(2.0 / float(fan_in + fan_out))\n",
    "\t\t\t\ttrunc_normal_(m.weight, std=std)\n",
    "\n",
    "\t\t\tif m.bias !=  None:\n",
    "\t\t\t\tnn.init.constant_(m.bias, 0)\n",
    "\n",
    "\tdef check_size(self, x, shift=False):\n",
    "\t\t_, _, h, w = x.size()\n",
    "\t\tmod_pad_h = (self.window_size - h % self.window_size) % self.window_size\n",
    "\t\tmod_pad_w = (self.window_size - w % self.window_size) % self.window_size\n",
    "\n",
    "\t\tif shift:\n",
    "\t\t\tx = F.pad(x, (self.shift_size, (self.window_size-self.shift_size+mod_pad_w) % self.window_size,\n",
    "\t\t\t\t\t\t  self.shift_size, (self.window_size-self.shift_size+mod_pad_h) % self.window_size), mode='reflect')\n",
    "\t\telse:\n",
    "\t\t\tx = F.pad(x, (0, mod_pad_w, 0, mod_pad_h), 'reflect')\n",
    "\t\treturn x\n",
    "\n",
    "\tdef forward(self, X):\n",
    "\t\tB, C, H, W = X.shape\n",
    "\n",
    "\t\tif self.conv_type == 'DWConv' or self.use_attn:\n",
    "\t\t\tV = self.V(X)\n",
    "\t\t#print(self.use_attn)\n",
    "\t\tif self.use_attn:\n",
    "\t\t\t#print('attention')      \n",
    "\t\t\tQK = self.QK(X)\n",
    "\t\t\tQKV = torch.cat([QK, V], dim=1)\n",
    "\n",
    "\t\t\t# shift\n",
    "\t\t\tshifted_QKV = self.check_size(QKV, self.shift_size > 0)\n",
    "\t\t\tHt, Wt = shifted_QKV.shape[2:]\n",
    "\n",
    "\t\t\t# partition windows\n",
    "\t\t\tshifted_QKV = shifted_QKV.permute(0, 2, 3, 1)\n",
    "\t\t\tqkv = window_partition(shifted_QKV, self.window_size)  # nW*B, window_size**2, C\n",
    "\n",
    "\t\t\tattn_windows = self.attn(qkv)\n",
    "\n",
    "\t\t\t# merge windows\n",
    "\t\t\tshifted_out = window_reverse(attn_windows, self.window_size, Ht, Wt)  # B H' W' C\n",
    "\n",
    "\t\t\t# reverse cyclic shift\n",
    "\t\t\tout = shifted_out[:, self.shift_size:(self.shift_size+H), self.shift_size:(self.shift_size+W), :]\n",
    "\t\t\tattn_out = out.permute(0, 3, 1, 2)\n",
    "\n",
    "\t\t\tif self.conv_type in ['Conv', 'DWConv']:\n",
    "\t\t\t\tconv_out = self.conv(V)\n",
    "\t\t\t\tout = self.proj(conv_out + attn_out)\n",
    "\t\t\telse:\n",
    "\t\t\t\tout = self.proj(attn_out)\n",
    "\n",
    "\t\telse:\n",
    "\t\t\tif self.conv_type == 'Conv':\n",
    "\t\t\t\tout = self.conv(X)\t\t\t\t# no attention and use conv, no projection\n",
    "\t\t\telif self.conv_type == 'DWConv':\n",
    "\t\t\t\tout = self.proj(self.conv(V))\n",
    "\n",
    "\t\treturn out\n",
    "\n",
    "\n",
    "class TransformerBlock(nn.Module):\n",
    "\tdef __init__(self, network_depth, dim, num_heads, mlp_ratio=4.,\n",
    "\t\t\t\t norm_layer=nn.LayerNorm, mlp_norm=False,\n",
    "\t\t\t\t window_size=8, shift_size=0, use_attn=True, conv_type=None):\n",
    "\t\tsuper().__init__()\n",
    "\t\tself.use_attn = use_attn\n",
    "\t\tself.mlp_norm = mlp_norm\n",
    "\n",
    "\t\tself.norm1 = norm_layer(dim) if use_attn else nn.Identity()\n",
    "\t\tself.attn = Attention(network_depth, dim, num_heads=num_heads, window_size=window_size,\n",
    "\t\t\t\t\t\t\t  shift_size=shift_size, use_attn=use_attn, conv_type=conv_type)\n",
    "\n",
    "\t\tself.norm2 = norm_layer(dim) if use_attn and mlp_norm else nn.Identity()\n",
    "\t\tself.mlp = Mlp(network_depth, dim, hidden_features=int(dim * mlp_ratio))\n",
    "\n",
    "\tdef forward(self, x):\n",
    "\t\tidentity = x\n",
    "\t\tif self.use_attn: x, rescale, rebias = self.norm1(x)\n",
    "\t\tx = self.attn(x)\n",
    "\t\tif self.use_attn: x = x * rescale + rebias\n",
    "\t\tx = identity + x\n",
    "\n",
    "\t\tidentity = x\n",
    "\t\tif self.use_attn and self.mlp_norm: x, rescale, rebias = self.norm2(x)\n",
    "\t\tx = self.mlp(x)\n",
    "\t\tif self.use_attn and self.mlp_norm: x = x * rescale + rebias\n",
    "\t\tx = identity + x\n",
    "\t\treturn x\n",
    "\n",
    "\n",
    "class BasicLayer(nn.Module):\n",
    "\tdef __init__(self, network_depth, dim, depth, num_heads, mlp_ratio=4.,\n",
    "\t\t\t\t norm_layer=nn.LayerNorm, window_size=8,\n",
    "\t\t\t\t attn_ratio=0., attn_loc='last', conv_type=None):\n",
    "\n",
    "\t\tsuper().__init__()\n",
    "\t\tself.dim = dim\n",
    "\t\tself.depth = depth\n",
    "\n",
    "\t\tattn_depth = attn_ratio * depth\n",
    "\n",
    "\t\tif attn_loc == 'last':\n",
    "\t\t\tuse_attns = [i >= depth-attn_depth for i in range(depth)]\n",
    "\t\telif attn_loc == 'first':\n",
    "\t\t\tuse_attns = [i < attn_depth for i in range(depth)]\n",
    "\t\telif attn_loc == 'middle':\n",
    "\t\t\tuse_attns = [i >= (depth-attn_depth)//2 and i < (depth+attn_depth)//2 for i in range(depth)]\n",
    "\n",
    "\t\t# build blocks\n",
    "\t\tself.blocks = nn.ModuleList([\n",
    "\t\t\tTransformerBlock(network_depth=network_depth,\n",
    "\t\t\t\t\t\t\t dim=dim, \n",
    "\t\t\t\t\t\t\t num_heads=num_heads,\n",
    "\t\t\t\t\t\t\t mlp_ratio=mlp_ratio,\n",
    "\t\t\t\t\t\t\t norm_layer=norm_layer,\n",
    "\t\t\t\t\t\t\t window_size=window_size,\n",
    "\t\t\t\t\t\t\t shift_size=0 if (i % 2 == 0) else window_size // 2,\n",
    "\t\t\t\t\t\t\t use_attn=use_attns[i], conv_type=conv_type)\n",
    "\t\t\tfor i in range(depth)])\n",
    "\n",
    "\tdef forward(self, x):\n",
    "\t\tfor blk in self.blocks:\n",
    "\t\t\tx = blk(x)\n",
    "\t\treturn x\n",
    "\n",
    "\n",
    "class PatchEmbed(nn.Module):\n",
    "\tdef __init__(self, patch_size=4, in_chans=3, embed_dim=96, kernel_size=None):\n",
    "\t\tsuper().__init__()\n",
    "\t\tself.in_chans = in_chans\n",
    "\t\tself.embed_dim = embed_dim\n",
    "\n",
    "\t\tif kernel_size is None:\n",
    "\t\t\tkernel_size = patch_size\n",
    "\n",
    "\t\tself.proj = nn.Conv2d(in_chans, embed_dim, kernel_size=kernel_size, stride=patch_size,\n",
    "\t\t\t\t\t\t\t  padding=(kernel_size-patch_size+1)//2, padding_mode='reflect')\n",
    "\n",
    "\tdef forward(self, x):\n",
    "\t\tx = self.proj(x)\n",
    "\t\treturn x\n",
    "\n",
    "\n",
    "class PatchUnEmbed(nn.Module):\n",
    "\tdef __init__(self, patch_size=4, out_chans=3, embed_dim=96, kernel_size=None):\n",
    "\t\tsuper().__init__()\n",
    "\t\tself.out_chans = out_chans\n",
    "\t\tself.embed_dim = embed_dim\n",
    "\n",
    "\t\tif kernel_size is None:\n",
    "\t\t\tkernel_size = 1\n",
    "\n",
    "\t\tself.proj = nn.Sequential(\n",
    "\t\t\tnn.Conv2d(embed_dim, out_chans*patch_size**2, kernel_size=kernel_size,\n",
    "\t\t\t\t\t  padding=kernel_size//2, padding_mode='reflect'),\n",
    "\t\t\tnn.PixelShuffle(patch_size)\n",
    "\t\t)\n",
    "\n",
    "\tdef forward(self, x):\n",
    "\t\tx = self.proj(x)\n",
    "\t\treturn x\n",
    "\n",
    "\n",
    "class SKFusion(nn.Module):\n",
    "\tdef __init__(self, dim, height=2, reduction=8):\n",
    "\t\tsuper(SKFusion, self).__init__()\n",
    "\t\t\n",
    "\t\tself.height = height\n",
    "\t\td = max(int(dim/reduction), 4)\n",
    "\t\t\n",
    "\t\tself.avg_pool = nn.AdaptiveAvgPool2d(1)\n",
    "\t\tself.mlp = nn.Sequential(\n",
    "\t\t\tnn.Conv2d(dim, d, 1, bias=False), \n",
    "\t\t\tnn.ReLU(),\n",
    "\t\t\tnn.Conv2d(d, dim*height, 1, bias=False)\n",
    "\t\t)\n",
    "\t\t\n",
    "\t\tself.softmax = nn.Softmax(dim=1)\n",
    "\n",
    "\tdef forward(self, in_feats):\n",
    "\t\tB, C, H, W = in_feats[0].shape\n",
    "\t\t\n",
    "\t\tin_feats = torch.cat(in_feats, dim=1)\n",
    "\t\tin_feats = in_feats.view(B, self.height, C, H, W)\n",
    "\t\t\n",
    "\t\tfeats_sum = torch.sum(in_feats, dim=1)\n",
    "\t\tattn = self.mlp(self.avg_pool(feats_sum))\n",
    "\t\tattn = self.softmax(attn.view(B, self.height, C, 1, 1))\n",
    "\n",
    "\t\tout = torch.sum(in_feats*attn, dim=1)\n",
    "\t\treturn out      "
   ]
  },
  {
   "cell_type": "code",
   "execution_count": 4,
   "id": "821a2bc9",
   "metadata": {
    "execution": {
     "iopub.execute_input": "2025-03-10T11:52:15.613755Z",
     "iopub.status.busy": "2025-03-10T11:52:15.613507Z",
     "iopub.status.idle": "2025-03-10T11:52:15.626356Z",
     "shell.execute_reply": "2025-03-10T11:52:15.625567Z"
    },
    "papermill": {
     "duration": 0.021779,
     "end_time": "2025-03-10T11:52:15.627717",
     "exception": false,
     "start_time": "2025-03-10T11:52:15.605938",
     "status": "completed"
    },
    "tags": []
   },
   "outputs": [],
   "source": [
    "class DehazeFormer(nn.Module):\n",
    "\tdef __init__(self, in_chans=3, out_chans=4, window_size=8,\n",
    "\t\t\t\t embed_dims=[24, 48, 96, 48, 24],\n",
    "\t\t\t\t mlp_ratios=[2., 4., 4., 2., 2.],\n",
    "\t\t\t\t depths=[16, 16, 16, 8, 8],\n",
    "\t\t\t\t num_heads=[2, 4, 6, 1, 1],\n",
    "\t\t\t\t attn_ratio=[1/4, 1/2, 3/4, 0, 0],\n",
    "\t\t\t\t conv_type=['DWConv', 'DWConv', 'DWConv', 'DWConv', 'DWConv'],\n",
    "\t\t\t\t norm_layer=[RLN, RLN, RLN, RLN, RLN]):\n",
    "\t\tsuper(DehazeFormer, self).__init__()\n",
    "\n",
    "\t\t# setting\n",
    "\t\tself.patch_size = 4\n",
    "\t\tself.window_size = window_size\n",
    "\t\tself.mlp_ratios = mlp_ratios\n",
    "\n",
    "\t\t# split image into non-overlapping patches\n",
    "\t\tself.patch_embed = PatchEmbed(\n",
    "\t\t\tpatch_size=1, in_chans=in_chans, embed_dim=embed_dims[0], kernel_size=3)\n",
    "\n",
    "\t\t# backbone\n",
    "\t\tself.layer1 = BasicLayer(network_depth=sum(depths), dim=embed_dims[0], depth=depths[0],\n",
    "\t\t\t\t\t   \t\t\t num_heads=num_heads[0], mlp_ratio=mlp_ratios[0],\n",
    "\t\t\t\t\t   \t\t\t norm_layer=norm_layer[0], window_size=window_size,\n",
    "\t\t\t\t\t   \t\t\t attn_ratio=attn_ratio[0], attn_loc='last', conv_type=conv_type[0])\n",
    "\n",
    "\t\tself.patch_merge1 = PatchEmbed(\n",
    "\t\t\tpatch_size=2, in_chans=embed_dims[0], embed_dim=embed_dims[1])\n",
    "\n",
    "\t\tself.skip1 = nn.Conv2d(embed_dims[0], embed_dims[0], 1)\n",
    "\n",
    "\t\tself.layer2 = BasicLayer(network_depth=sum(depths), dim=embed_dims[1], depth=depths[1],\n",
    "\t\t\t\t\t\t\t\t num_heads=num_heads[1], mlp_ratio=mlp_ratios[1],\n",
    "\t\t\t\t\t\t\t\t norm_layer=norm_layer[1], window_size=window_size,\n",
    "\t\t\t\t\t\t\t\t attn_ratio=attn_ratio[1], attn_loc='last', conv_type=conv_type[1])\n",
    "\n",
    "\t\tself.patch_merge2 = PatchEmbed(\n",
    "\t\t\tpatch_size=2, in_chans=embed_dims[1], embed_dim=embed_dims[2])\n",
    "\n",
    "\t\tself.skip2 = nn.Conv2d(embed_dims[1], embed_dims[1], 1)\n",
    "\n",
    "\t\tself.layer3 = BasicLayer(network_depth=sum(depths), dim=embed_dims[2], depth=depths[2],\n",
    "\t\t\t\t\t\t\t\t num_heads=num_heads[2], mlp_ratio=mlp_ratios[2],\n",
    "\t\t\t\t\t\t\t\t norm_layer=norm_layer[2], window_size=window_size,\n",
    "\t\t\t\t\t\t\t\t attn_ratio=attn_ratio[2], attn_loc='last', conv_type=conv_type[2])\n",
    "\n",
    "\t\tself.patch_split1 = PatchUnEmbed(\n",
    "\t\t\tpatch_size=2, out_chans=embed_dims[3], embed_dim=embed_dims[2])\n",
    "\n",
    "\t\tassert embed_dims[1] == embed_dims[3]\n",
    "\t\tself.fusion1 = SKFusion(embed_dims[3])\n",
    "\n",
    "\t\tself.layer4 = BasicLayer(network_depth=sum(depths), dim=embed_dims[3], depth=depths[3],\n",
    "\t\t\t\t\t\t\t\t num_heads=num_heads[3], mlp_ratio=mlp_ratios[3],\n",
    "\t\t\t\t\t\t\t\t norm_layer=norm_layer[3], window_size=window_size,\n",
    "\t\t\t\t\t\t\t\t attn_ratio=attn_ratio[3], attn_loc='last', conv_type=conv_type[3])\n",
    "\n",
    "\t\tself.patch_split2 = PatchUnEmbed(\n",
    "\t\t\tpatch_size=2, out_chans=embed_dims[4], embed_dim=embed_dims[3])\n",
    "\n",
    "\t\tassert embed_dims[0] == embed_dims[4]\n",
    "\t\tself.fusion2 = SKFusion(embed_dims[4])\t\t\t\n",
    "\n",
    "\t\tself.layer5 = BasicLayer(network_depth=sum(depths), dim=embed_dims[4], depth=depths[4],\n",
    "\t\t\t\t\t   \t\t\t num_heads=num_heads[4], mlp_ratio=mlp_ratios[4],\n",
    "\t\t\t\t\t   \t\t\t norm_layer=norm_layer[4], window_size=window_size,\n",
    "\t\t\t\t\t   \t\t\t attn_ratio=attn_ratio[4], attn_loc='last', conv_type=conv_type[4])\n",
    "\n",
    "\t\t# merge non-overlapping patches into image\n",
    "\t\tself.patch_unembed = PatchUnEmbed(\n",
    "\t\t\tpatch_size=1, out_chans=out_chans, embed_dim=embed_dims[4], kernel_size=3)\n",
    "\n",
    "\n",
    "\tdef check_image_size(self, x):\n",
    "\t\t# NOTE: for I2I test\n",
    "\t\t_, _, h, w = x.size()\n",
    "\t\tmod_pad_h = (self.patch_size - h % self.patch_size) % self.patch_size\n",
    "\t\tmod_pad_w = (self.patch_size - w % self.patch_size) % self.patch_size\n",
    "\t\tx = F.pad(x, (0, mod_pad_w, 0, mod_pad_h), 'reflect')\n",
    "\t\treturn x\n",
    "\n",
    "\tdef forward_features(self, x):\n",
    "\t\tx = self.patch_embed(x)\n",
    "\t\tx = self.layer1(x)\n",
    "\t\tskip1 = x\n",
    "\n",
    "\t\tx = self.patch_merge1(x)\n",
    "\t\tx = self.layer2(x)\n",
    "\t\tskip2 = x\n",
    "\n",
    "\t\tx = self.patch_merge2(x)\n",
    "\t\tx = self.layer3(x)\n",
    "\t\tx = self.patch_split1(x)\n",
    "\n",
    "\t\tx = self.fusion1([x, self.skip2(skip2)]) + x\n",
    "\t\tx = self.layer4(x)\n",
    "\t\tx = self.patch_split2(x)\n",
    "\n",
    "\t\tx = self.fusion2([x, self.skip1(skip1)]) + x\n",
    "\t\tx = self.layer5(x)\n",
    "\t\tx = self.patch_unembed(x)\n",
    "\t\treturn x\n",
    "\n",
    "\tdef forward(self, x):\n",
    "\t\tH, W = x.shape[2:]\n",
    "\t\tx = self.check_image_size(x)\n",
    "\n",
    "\t\tfeat = self.forward_features(x)\n",
    "\t\tK, B = torch.split(feat, (1, 3), dim=1)\n",
    "\n",
    "\t\tx = K * x - B + x\n",
    "\t\tx = x[:, :, :H, :W]\n",
    "\t\treturn x"
   ]
  },
  {
   "cell_type": "code",
   "execution_count": 5,
   "id": "2d2adf1c",
   "metadata": {
    "execution": {
     "iopub.execute_input": "2025-03-10T11:52:15.642339Z",
     "iopub.status.busy": "2025-03-10T11:52:15.642109Z",
     "iopub.status.idle": "2025-03-10T11:52:15.646012Z",
     "shell.execute_reply": "2025-03-10T11:52:15.645227Z"
    },
    "papermill": {
     "duration": 0.01261,
     "end_time": "2025-03-10T11:52:15.647313",
     "exception": false,
     "start_time": "2025-03-10T11:52:15.634703",
     "status": "completed"
    },
    "tags": []
   },
   "outputs": [],
   "source": [
    "def dehazeformer_m():\n",
    "    return DehazeFormer(\n",
    "\t\tembed_dims=[24, 48, 96, 48, 24],\n",
    "\t\tmlp_ratios=[2., 4., 4., 2., 2.],\n",
    "\t\tdepths=[12, 12, 12, 6, 6],\n",
    "\t\tnum_heads=[2, 4, 6, 1, 1],\n",
    "\t\tattn_ratio=[1/4, 1/2, 3/4, 0, 0],\n",
    "\t\tconv_type=['Conv', 'Conv', 'Conv', 'Conv', 'Conv'])"
   ]
  },
  {
   "cell_type": "markdown",
   "id": "4eca1e78",
   "metadata": {
    "papermill": {
     "duration": 0.006959,
     "end_time": "2025-03-10T11:52:15.661185",
     "exception": false,
     "start_time": "2025-03-10T11:52:15.654226",
     "status": "completed"
    },
    "tags": []
   },
   "source": [
    "# DetailNet"
   ]
  },
  {
   "cell_type": "code",
   "execution_count": 6,
   "id": "322a9860",
   "metadata": {
    "execution": {
     "iopub.execute_input": "2025-03-10T11:52:15.676131Z",
     "iopub.status.busy": "2025-03-10T11:52:15.675906Z",
     "iopub.status.idle": "2025-03-10T11:52:15.682542Z",
     "shell.execute_reply": "2025-03-10T11:52:15.681750Z"
    },
    "papermill": {
     "duration": 0.015487,
     "end_time": "2025-03-10T11:52:15.683771",
     "exception": false,
     "start_time": "2025-03-10T11:52:15.668284",
     "status": "completed"
    },
    "tags": []
   },
   "outputs": [],
   "source": [
    "# -----------------------------\n",
    "# TEACHER MODEL\n",
    "# -----------------------------\n",
    "class SR_model(nn.Module):\n",
    "    def __init__(self, upscale_factor=1):\n",
    "        super(SR_model, self).__init__()\n",
    "        self.downsample = nn.Upsample(\n",
    "            scale_factor=0.5, mode=\"bilinear\", align_corners=True\n",
    "        )\n",
    "        self.feature_extraction = nn.Sequential(\n",
    "            nn.Conv2d(3, 56, kernel_size=5, padding=2),\n",
    "            nn.PReLU()\n",
    "        )\n",
    "        self.shrinking = nn.Sequential(\n",
    "            nn.Conv2d(56, 24, kernel_size=3, padding=1),\n",
    "            nn.PReLU()\n",
    "        )\n",
    "        self.mapping = nn.Sequential(\n",
    "            nn.Conv2d(24, 24, kernel_size=3, padding=1),\n",
    "            nn.PReLU(),\n",
    "            nn.Conv2d(24, 24, kernel_size=3, padding=1),\n",
    "            nn.PReLU(),\n",
    "            nn.Conv2d(24, 24, kernel_size=3, padding=1),\n",
    "            nn.PReLU(),\n",
    "            nn.Conv2d(24, 24, kernel_size=3, padding=1),\n",
    "            nn.PReLU()\n",
    "        )\n",
    "        self.expanding = nn.Sequential(\n",
    "            nn.Conv2d(24, 56, kernel_size=3, padding=1),\n",
    "            nn.PReLU()\n",
    "        )\n",
    "        self.deconvolution = nn.Sequential(\n",
    "            nn.Conv2d(56, 3, kernel_size=3, padding=1),\n",
    "            nn.Tanh()  # Ensure output is normalized\n",
    "        )\n",
    "\n",
    "    def forward(self, x):\n",
    "        x = self.downsample(x)\n",
    "        residual = x  # Store input for residual connection\n",
    "        x = self.feature_extraction(x)\n",
    "        x = self.shrinking(x)\n",
    "        x = self.mapping(x)\n",
    "        x = self.expanding(x)\n",
    "        x = self.deconvolution(x)\n",
    "        return x + residual  # Add residual for stability\n"
   ]
  },
  {
   "cell_type": "code",
   "execution_count": 7,
   "id": "aa608f47",
   "metadata": {
    "execution": {
     "iopub.execute_input": "2025-03-10T11:52:15.698281Z",
     "iopub.status.busy": "2025-03-10T11:52:15.698041Z",
     "iopub.status.idle": "2025-03-10T11:52:15.707383Z",
     "shell.execute_reply": "2025-03-10T11:52:15.706750Z"
    },
    "papermill": {
     "duration": 0.017895,
     "end_time": "2025-03-10T11:52:15.708512",
     "exception": false,
     "start_time": "2025-03-10T11:52:15.690617",
     "status": "completed"
    },
    "tags": []
   },
   "outputs": [],
   "source": [
    "# -----------------------------\n",
    "# STUDENT MODEL\n",
    "# -----------------------------\n",
    "class ResidualBlock(nn.Module):\n",
    "    def __init__(self, channels):\n",
    "        super(ResidualBlock, self).__init__()\n",
    "        self.block = nn.Sequential(\n",
    "            nn.Conv2d(channels, channels, kernel_size=3, padding=1),\n",
    "            nn.ReLU(),\n",
    "            nn.Conv2d(channels, channels, kernel_size=3, padding=1)\n",
    "        )\n",
    "    \n",
    "    def forward(self, x):\n",
    "        return x + self.block(x)  # Residual connection\n",
    "\n",
    "class SpectralAttention(nn.Module):\n",
    "    def __init__(self, channels):\n",
    "        super(SpectralAttention, self).__init__()\n",
    "        self.fc = nn.Sequential(\n",
    "            nn.AdaptiveAvgPool2d(1),\n",
    "            nn.Conv2d(channels, channels // 16, kernel_size=1),\n",
    "            nn.ReLU(),\n",
    "            nn.Conv2d(channels // 16, channels, kernel_size=1),\n",
    "            nn.Sigmoid()\n",
    "        )\n",
    "    \n",
    "    def forward(self, x):\n",
    "        return x * self.fc(x)\n",
    "\n",
    "class SpatialAttention(nn.Module):\n",
    "    def __init__(self, channels):\n",
    "        super(SpatialAttention, self).__init__()\n",
    "        self.conv = nn.Conv2d(channels, 1, kernel_size=1)\n",
    "        self.sigmoid = nn.Sigmoid()\n",
    "    \n",
    "    def forward(self, x):\n",
    "        return x * self.sigmoid(self.conv(x))\n",
    "\n",
    "class MultiScaleFeatureFusion(nn.Module):\n",
    "    def __init__(self, channels):\n",
    "        super(MultiScaleFeatureFusion, self).__init__()\n",
    "        self.conv1 = nn.Conv2d(channels, channels, kernel_size=3, padding=1)\n",
    "        self.conv3 = nn.Conv2d(channels, channels, kernel_size=5, padding=2)\n",
    "        self.conv5 = nn.Conv2d(channels, channels, kernel_size=7, padding=3)\n",
    "    \n",
    "    def forward(self, x):\n",
    "        return self.conv1(x) + self.conv3(x) + self.conv5(x)\n",
    "\n",
    "class DehazingNet(nn.Module):\n",
    "    def __init__(self):\n",
    "        super(DehazingNet, self).__init__()\n",
    "        self.initial_conv = nn.Conv2d(3, 64, kernel_size=3, padding=1)\n",
    "        self.residual_blocks = nn.Sequential(\n",
    "            ResidualBlock(64),\n",
    "            ResidualBlock(64),\n",
    "            ResidualBlock(64)\n",
    "        )\n",
    "        self.downsample = nn.Upsample(\n",
    "            scale_factor=0.5, mode=\"bilinear\", align_corners=True\n",
    "        )\n",
    "        self.spectral_attention = SpectralAttention(64)\n",
    "        self.spatial_attention = SpatialAttention(64)\n",
    "        self.multi_scale_fusion = MultiScaleFeatureFusion(64)\n",
    "        self.final_conv = nn.Conv2d(64, 3, kernel_size=3, padding=1)\n",
    "    \n",
    "    def forward(self, x):\n",
    "        x = self.downsample(x)\n",
    "        x = F.relu(self.initial_conv(x))\n",
    "        x = self.residual_blocks(x)\n",
    "        x = self.spectral_attention(x)\n",
    "        x = self.spatial_attention(x)\n",
    "        x = self.multi_scale_fusion(x)\n",
    "        x = self.final_conv(x)\n",
    "        return x \n"
   ]
  },
  {
   "cell_type": "code",
   "execution_count": null,
   "id": "0d13a1e7",
   "metadata": {},
   "outputs": [],
   "source": [
    "class SelectiveFeatureFusion(nn.Module):\n",
    "    def __init__(self, channels, reduction=16):\n",
    "        super(SelectiveFeatureFusion, self).__init__()\n",
    "        self.avg_pool = nn.AdaptiveAvgPool2d(1)  # Squeeze\n",
    "        self.fc = nn.Sequential(\n",
    "            nn.Linear(channels, channels // reduction, bias=False),\n",
    "            nn.ReLU(inplace=True),\n",
    "            nn.Linear(channels // reduction, channels, bias=False),\n",
    "            nn.Sigmoid()\n",
    "        )\n",
    "\n",
    "    def forward(self, x1, x2):\n",
    "        fused = x1 + x2  # shape: [B, C, H, W]\n",
    "        \n",
    "        # Channel-wise descriptor\n",
    "        b, c, _, _ = fused.size()\n",
    "        y = self.avg_pool(fused).view(b, c)\n",
    "        y = self.fc(y).view(b, c, 1, 1)  # Channel weights\n",
    "        \n",
    "        # Reweight original features\n",
    "        out = x1 * y + x2 * (1 - y)\n",
    "        return out"
   ]
  },
  {
   "cell_type": "code",
   "execution_count": 8,
   "id": "29aeb5fb",
   "metadata": {
    "execution": {
     "iopub.execute_input": "2025-03-10T11:52:15.723047Z",
     "iopub.status.busy": "2025-03-10T11:52:15.722817Z",
     "iopub.status.idle": "2025-03-10T11:52:15.728086Z",
     "shell.execute_reply": "2025-03-10T11:52:15.727386Z"
    },
    "papermill": {
     "duration": 0.013924,
     "end_time": "2025-03-10T11:52:15.729224",
     "exception": false,
     "start_time": "2025-03-10T11:52:15.715300",
     "status": "completed"
    },
    "tags": []
   },
   "outputs": [],
   "source": [
    "# -----------------------------\n",
    "# FEATURE AFFINITY MODULE (FAM) USING KL DIVERGENCE\n",
    "# -----------------------------\n",
    "class FeatureAffinityModule(nn.Module):\n",
    "    def __init__(self):\n",
    "        super(FeatureAffinityModule, self).__init__()\n",
    "        self.pool = nn.AdaptiveAvgPool2d((16, 16))\n",
    "\n",
    "    def forward(self, features_a, features_b):\n",
    "        # Pool and flatten features\n",
    "        feat_a = self.pool(features_a).view(features_a.size(0), -1)\n",
    "        feat_b = self.pool(features_b).view(features_b.size(0), -1)\n",
    "\n",
    "        # Normalize features (important for stable KL divergence)\n",
    "        feat_a = F.normalize(feat_a, p=2, dim=-1)\n",
    "        feat_b = F.normalize(feat_b, p=2, dim=-1)\n",
    "\n",
    "        # Compute normalized affinity matrices\n",
    "        affinity_a = torch.mm(feat_a, feat_a.T) / feat_a.size(1)\n",
    "        affinity_b = torch.mm(feat_b, feat_b.T) / feat_b.size(1)\n",
    "\n",
    "        # Compute symmetric KL divergence loss\n",
    "        loss = 0.5 * (F.kl_div(F.log_softmax(affinity_a, dim=-1), F.softmax(affinity_b, dim=-1), reduction='batchmean') +\n",
    "                      F.kl_div(F.log_softmax(affinity_b, dim=-1), F.softmax(affinity_a, dim=-1), reduction='batchmean'))\n",
    "\n",
    "        return loss\n"
   ]
  },
  {
   "cell_type": "markdown",
   "id": "9670b437",
   "metadata": {
    "papermill": {
     "duration": 0.006824,
     "end_time": "2025-03-10T11:52:15.742895",
     "exception": false,
     "start_time": "2025-03-10T11:52:15.736071",
     "status": "completed"
    },
    "tags": []
   },
   "source": [
    "# Guided Filter"
   ]
  },
  {
   "cell_type": "code",
   "execution_count": 9,
   "id": "dbfc6983",
   "metadata": {
    "execution": {
     "iopub.execute_input": "2025-03-10T11:52:15.758032Z",
     "iopub.status.busy": "2025-03-10T11:52:15.757793Z",
     "iopub.status.idle": "2025-03-10T11:52:15.764584Z",
     "shell.execute_reply": "2025-03-10T11:52:15.763965Z"
    },
    "papermill": {
     "duration": 0.015782,
     "end_time": "2025-03-10T11:52:15.765679",
     "exception": false,
     "start_time": "2025-03-10T11:52:15.749897",
     "status": "completed"
    },
    "tags": []
   },
   "outputs": [],
   "source": [
    "class ConvGuidedFilter(nn.Module):\n",
    "    \"\"\"\n",
    "    Adapted from https://github.com/wuhuikai/DeepGuidedFilter\n",
    "    \"\"\"\n",
    "    def __init__(self, radius=1, norm=nn.BatchNorm2d, conv_a_kernel_size: int = 1):\n",
    "        super(ConvGuidedFilter, self).__init__()\n",
    "\n",
    "        self.box_filter = nn.Conv2d(\n",
    "            3, 3, kernel_size=3, padding=radius, dilation=radius, bias=False, groups=3\n",
    "        )\n",
    "        self.conv_a = nn.Sequential(\n",
    "            nn.Conv2d(\n",
    "                6,\n",
    "                32,\n",
    "                kernel_size=conv_a_kernel_size,\n",
    "                padding=conv_a_kernel_size // 2,\n",
    "                bias=False,\n",
    "            ),\n",
    "            norm(32),\n",
    "            nn.ReLU(inplace=True),\n",
    "            nn.Conv2d(\n",
    "                32,\n",
    "                32,\n",
    "                kernel_size=conv_a_kernel_size,\n",
    "                padding=conv_a_kernel_size // 2,\n",
    "                bias=False,\n",
    "            ),\n",
    "            norm(32),\n",
    "            nn.ReLU(inplace=True),\n",
    "            nn.Conv2d(\n",
    "                32,\n",
    "                3,\n",
    "                kernel_size=conv_a_kernel_size,\n",
    "                padding=conv_a_kernel_size // 2,\n",
    "                bias=False,\n",
    "            ),\n",
    "        )\n",
    "        self.box_filter.weight.data[...] = 1.0\n",
    "\n",
    "    def forward(self, x_lr, y_lr, x_hr):\n",
    "        _, _, h_lrx, w_lrx = x_lr.size()\n",
    "        _, _, h_hrx, w_hrx = x_hr.size()\n",
    "\n",
    "        N = self.box_filter(x_lr.data.new().resize_((1, 3, h_lrx, w_lrx)).fill_(1.0))\n",
    "        ## mean_x\n",
    "        mean_x = self.box_filter(x_lr) / N\n",
    "        ## mean_y\n",
    "        mean_y = self.box_filter(y_lr) / N\n",
    "        ## cov_xy\n",
    "        cov_xy = self.box_filter(x_lr * y_lr) / N - mean_x * mean_y\n",
    "        ## var_x\n",
    "        var_x = self.box_filter(x_lr * x_lr) / N - mean_x * mean_x\n",
    "\n",
    "        ## A\n",
    "        A = self.conv_a(torch.cat([cov_xy, var_x], dim=1))\n",
    "        ## b\n",
    "        b = mean_y - A * mean_x\n",
    "\n",
    "        ## mean_A; mean_b\n",
    "        mean_A = F.interpolate(A, (h_hrx, w_hrx), mode=\"bilinear\", align_corners=True)\n",
    "        mean_b = F.interpolate(b, (h_hrx, w_hrx), mode=\"bilinear\", align_corners=True)\n",
    "\n",
    "        return mean_A * x_hr + mean_b"
   ]
  },
  {
   "cell_type": "code",
   "execution_count": 10,
   "id": "4de8c336",
   "metadata": {
    "execution": {
     "iopub.execute_input": "2025-03-10T11:52:15.780537Z",
     "iopub.status.busy": "2025-03-10T11:52:15.780331Z",
     "iopub.status.idle": "2025-03-10T11:52:15.784230Z",
     "shell.execute_reply": "2025-03-10T11:52:15.783638Z"
    },
    "papermill": {
     "duration": 0.012369,
     "end_time": "2025-03-10T11:52:15.785405",
     "exception": false,
     "start_time": "2025-03-10T11:52:15.773036",
     "status": "completed"
    },
    "tags": []
   },
   "outputs": [],
   "source": [
    "class AdaptiveInstanceNorm(nn.Module):\n",
    "    def __init__(self, n):\n",
    "        super(AdaptiveInstanceNorm, self).__init__()\n",
    "\n",
    "        self.w_0 = nn.Parameter(torch.Tensor([1.0]))\n",
    "        self.w_1 = nn.Parameter(torch.Tensor([0.0]))\n",
    "\n",
    "        self.ins_norm = nn.InstanceNorm2d(n, momentum=0.999, eps=0.001, affine=True)\n",
    "\n",
    "    def forward(self, x):\n",
    "        return self.w_0 * x + self.w_1 * self.ins_norm(x)"
   ]
  },
  {
   "cell_type": "code",
   "execution_count": 11,
   "id": "046e6299",
   "metadata": {
    "execution": {
     "iopub.execute_input": "2025-03-10T11:52:15.799772Z",
     "iopub.status.busy": "2025-03-10T11:52:15.799563Z",
     "iopub.status.idle": "2025-03-10T11:52:15.804265Z",
     "shell.execute_reply": "2025-03-10T11:52:15.803656Z"
    },
    "papermill": {
     "duration": 0.013249,
     "end_time": "2025-03-10T11:52:15.805421",
     "exception": false,
     "start_time": "2025-03-10T11:52:15.792172",
     "status": "completed"
    },
    "tags": []
   },
   "outputs": [],
   "source": [
    "class DeepGuidednew(nn.Module):\n",
    "    def __init__(self, radius=1):\n",
    "        super().__init__()\n",
    "        norm = AdaptiveInstanceNorm\n",
    "        kernel_size=3\n",
    "        depth_rate=16\n",
    "        in_channels=3\n",
    "        num_dense_layer=4\n",
    "        growth_rate=16\n",
    "        growth_rate=16\n",
    "\n",
    "        # self.local = local\n",
    "        \n",
    "        # self.conv_in = nn.Conv2d(in_channels, depth_rate, kernel_size=kernel_size, padding=(kernel_size - 1) // 2)\n",
    "        # self.conv_out = nn.Conv2d(depth_rate, in_channels, kernel_size=kernel_size, padding=(kernel_size - 1) // 2)\n",
    "\n",
    "        self.gf = ConvGuidedFilter(radius, norm=norm)\n",
    "        self.lr = dehazeformer_m()\n",
    "\n",
    "        self.downsample = nn.Upsample(\n",
    "            scale_factor=0.5, mode=\"bilinear\", align_corners=True\n",
    "        )\n",
    "        self.upsample = nn.Upsample(\n",
    "            scale_factor=2, mode=\"bilinear\", align_corners=True\n",
    "        )\n",
    "\n",
    "    def forward(self, x_hr, y_detail):\n",
    "        x_lr = self.downsample(x_hr)\n",
    "        # y_lr=self.conv_in(x_lr)\n",
    "        # y_lr= self.local(y_lr)\n",
    "        # y_detail=self.conv_out(y_lr)\n",
    "        y_base=self.lr(x_lr)\n",
    "        # print(y_base.shape, y_detail.shape)\n",
    "        y_lr=y_base+ y_detail\n",
    "        y_base=self.upsample(y_base)\n",
    "        return  self.gf(x_lr, y_lr, x_hr), y_base      "
   ]
  },
  {
   "cell_type": "markdown",
   "id": "82af74de",
   "metadata": {
    "papermill": {
     "duration": 0.006837,
     "end_time": "2025-03-10T11:52:15.819140",
     "exception": false,
     "start_time": "2025-03-10T11:52:15.812303",
     "status": "completed"
    },
    "tags": []
   },
   "source": [
    "# Data Loading"
   ]
  },
  {
   "cell_type": "code",
   "execution_count": 12,
   "id": "58f73592",
   "metadata": {
    "execution": {
     "iopub.execute_input": "2025-03-10T11:52:15.833433Z",
     "iopub.status.busy": "2025-03-10T11:52:15.833226Z",
     "iopub.status.idle": "2025-03-10T11:52:15.839172Z",
     "shell.execute_reply": "2025-03-10T11:52:15.838530Z"
    },
    "papermill": {
     "duration": 0.014373,
     "end_time": "2025-03-10T11:52:15.840356",
     "exception": false,
     "start_time": "2025-03-10T11:52:15.825983",
     "status": "completed"
    },
    "tags": []
   },
   "outputs": [],
   "source": [
    "# -----------------------------\n",
    "# CUSTOM DATASET LOADER\n",
    "# -----------------------------\n",
    "class TrainData(Dataset):\n",
    "    def __init__(self, crop_size, hazeeffected_images_dir, hazefree_images_dir):\n",
    "        super().__init__()\n",
    "        hazy_data = glob.glob(os.path.join(hazeeffected_images_dir, \"*.*\"))\n",
    "        self.haze_names = [os.path.join(hazeeffected_images_dir, os.path.basename(h)) for h in hazy_data]\n",
    "        self.gt_names = [os.path.join(hazefree_images_dir, os.path.basename(h)) for h in hazy_data]\n",
    "        self.crop_size = crop_size\n",
    "    \n",
    "    def get_images(self, index):\n",
    "        crop_width, crop_height = self.crop_size\n",
    "        haze_img = Image.open(self.haze_names[index]).convert('RGB')\n",
    "        gt_img = Image.open(self.gt_names[index]).convert('RGB')\n",
    "        \n",
    "        width, height = haze_img.size\n",
    "        x, y = randrange(0, width - crop_width + 1), randrange(0, height - crop_height + 1)\n",
    "        haze_crop_img = haze_img.crop((x, y, x + crop_width, y + crop_height))\n",
    "        gt_crop_img = gt_img.crop((x, y, x + crop_width, y + crop_height))\n",
    "        \n",
    "        transform = Compose([ToTensor(), Normalize((0.5, 0.5, 0.5), (0.5, 0.5, 0.5))])\n",
    "        return transform(haze_crop_img), transform(gt_crop_img)\n",
    "\n",
    "    def __getitem__(self, index):\n",
    "        return self.get_images(index)\n",
    "\n",
    "    def __len__(self):\n",
    "        return len(self.haze_names)"
   ]
  },
  {
   "cell_type": "code",
   "execution_count": 13,
   "id": "d1943623",
   "metadata": {
    "execution": {
     "iopub.execute_input": "2025-03-10T11:52:15.855011Z",
     "iopub.status.busy": "2025-03-10T11:52:15.854794Z",
     "iopub.status.idle": "2025-03-10T11:52:15.925743Z",
     "shell.execute_reply": "2025-03-10T11:52:15.925175Z"
    },
    "papermill": {
     "duration": 0.079639,
     "end_time": "2025-03-10T11:52:15.927049",
     "exception": false,
     "start_time": "2025-03-10T11:52:15.847410",
     "status": "completed"
    },
    "tags": []
   },
   "outputs": [],
   "source": [
    "crop_size = (360, 360)\n",
    "# train_data = TrainData(crop_size, '/kaggle/input/nh-dense-haze/Dense-Haze-T/Dense-Haze-T/IN', '/kaggle/input/ nh-dense-haze/Dense-Haze-T/Dense-Haze-T/GT')\n",
    "train_data = TrainData(crop_size, '/kaggle/input/reside6k/RESIDE-6K/train/hazy', '/kaggle/input/reside6k/RESIDE-6K/train/GT')\n",
    "dataloader = DataLoader(train_data, batch_size=4, shuffle=True)"
   ]
  },
  {
   "cell_type": "code",
   "execution_count": 14,
   "id": "6387a6dc",
   "metadata": {
    "execution": {
     "iopub.execute_input": "2025-03-10T11:52:15.941269Z",
     "iopub.status.busy": "2025-03-10T11:52:15.941072Z",
     "iopub.status.idle": "2025-03-10T11:52:16.226835Z",
     "shell.execute_reply": "2025-03-10T11:52:16.225571Z"
    },
    "papermill": {
     "duration": 0.294586,
     "end_time": "2025-03-10T11:52:16.228375",
     "exception": false,
     "start_time": "2025-03-10T11:52:15.933789",
     "status": "completed"
    },
    "tags": []
   },
   "outputs": [
    {
     "name": "stdout",
     "output_type": "stream",
     "text": [
      "Hazy Images Shape: torch.Size([4, 3, 360, 360])\n",
      "Clear Images Shape: torch.Size([4, 3, 360, 360])\n"
     ]
    }
   ],
   "source": [
    "# Get a single batch from the dataloader\n",
    "for hazy_images, clear_images in dataloader:\n",
    "    print(f\"Hazy Images Shape: {hazy_images.shape}\")\n",
    "    print(f\"Clear Images Shape: {clear_images.shape}\")\n",
    "    break  # Only check one batch"
   ]
  },
  {
   "cell_type": "markdown",
   "id": "c8c4d054",
   "metadata": {
    "papermill": {
     "duration": 0.006708,
     "end_time": "2025-03-10T11:52:16.244200",
     "exception": false,
     "start_time": "2025-03-10T11:52:16.237492",
     "status": "completed"
    },
    "tags": []
   },
   "source": [
    "# Perceptual Loss"
   ]
  },
  {
   "cell_type": "code",
   "execution_count": 15,
   "id": "d5d26003",
   "metadata": {
    "execution": {
     "iopub.execute_input": "2025-03-10T11:52:16.258618Z",
     "iopub.status.busy": "2025-03-10T11:52:16.258347Z",
     "iopub.status.idle": "2025-03-10T11:52:20.305595Z",
     "shell.execute_reply": "2025-03-10T11:52:20.304895Z"
    },
    "papermill": {
     "duration": 4.056134,
     "end_time": "2025-03-10T11:52:20.307074",
     "exception": false,
     "start_time": "2025-03-10T11:52:16.250940",
     "status": "completed"
    },
    "tags": []
   },
   "outputs": [
    {
     "name": "stderr",
     "output_type": "stream",
     "text": [
      "/usr/local/lib/python3.10/dist-packages/torchvision/models/_utils.py:208: UserWarning: The parameter 'pretrained' is deprecated since 0.13 and may be removed in the future, please use 'weights' instead.\n",
      "  warnings.warn(\n",
      "/usr/local/lib/python3.10/dist-packages/torchvision/models/_utils.py:223: UserWarning: Arguments other than a weight enum or `None` for 'weights' are deprecated since 0.13 and may be removed in the future. The current behavior is equivalent to passing `weights=VGG16_Weights.IMAGENET1K_V1`. You can also use `weights=VGG16_Weights.DEFAULT` to get the most up-to-date weights.\n",
      "  warnings.warn(msg)\n"
     ]
    },
    {
     "name": "stderr",
     "output_type": "stream",
     "text": [
      "Downloading: \"https://download.pytorch.org/models/vgg16-397923af.pth\" to /root/.cache/torch/hub/checkpoints/vgg16-397923af.pth\n"
     ]
    },
    {
     "name": "stderr",
     "output_type": "stream",
     "text": [
      "\r\n",
      "  0%|          | 0.00/528M [00:00<?, ?B/s]"
     ]
    },
    {
     "name": "stderr",
     "output_type": "stream",
     "text": [
      "\r\n",
      "  2%|▏         | 10.6M/528M [00:00<00:04, 111MB/s]"
     ]
    },
    {
     "name": "stderr",
     "output_type": "stream",
     "text": [
      "\r\n",
      "  4%|▍         | 21.9M/528M [00:00<00:04, 115MB/s]"
     ]
    },
    {
     "name": "stderr",
     "output_type": "stream",
     "text": [
      "\r\n",
      "  8%|▊         | 44.6M/528M [00:00<00:02, 171MB/s]"
     ]
    },
    {
     "name": "stderr",
     "output_type": "stream",
     "text": [
      "\r\n",
      " 13%|█▎        | 67.4M/528M [00:00<00:02, 197MB/s]"
     ]
    },
    {
     "name": "stderr",
     "output_type": "stream",
     "text": [
      "\r\n",
      " 17%|█▋        | 90.5M/528M [00:00<00:02, 213MB/s]"
     ]
    },
    {
     "name": "stderr",
     "output_type": "stream",
     "text": [
      "\r\n",
      " 22%|██▏       | 114M/528M [00:00<00:01, 222MB/s] "
     ]
    },
    {
     "name": "stderr",
     "output_type": "stream",
     "text": [
      "\r\n",
      " 26%|██▌       | 137M/528M [00:00<00:01, 229MB/s]"
     ]
    },
    {
     "name": "stderr",
     "output_type": "stream",
     "text": [
      "\r\n",
      " 30%|███       | 160M/528M [00:00<00:01, 233MB/s]"
     ]
    },
    {
     "name": "stderr",
     "output_type": "stream",
     "text": [
      "\r\n",
      " 35%|███▍      | 183M/528M [00:00<00:01, 236MB/s]"
     ]
    },
    {
     "name": "stderr",
     "output_type": "stream",
     "text": [
      "\r\n",
      " 39%|███▉      | 206M/528M [00:01<00:01, 239MB/s]"
     ]
    },
    {
     "name": "stderr",
     "output_type": "stream",
     "text": [
      "\r\n",
      " 44%|████▎     | 230M/528M [00:01<00:01, 241MB/s]"
     ]
    },
    {
     "name": "stderr",
     "output_type": "stream",
     "text": [
      "\r\n",
      " 48%|████▊     | 253M/528M [00:01<00:01, 242MB/s]"
     ]
    },
    {
     "name": "stderr",
     "output_type": "stream",
     "text": [
      "\r\n",
      " 52%|█████▏    | 277M/528M [00:01<00:01, 243MB/s]"
     ]
    },
    {
     "name": "stderr",
     "output_type": "stream",
     "text": [
      "\r\n",
      " 57%|█████▋    | 300M/528M [00:01<00:00, 242MB/s]"
     ]
    },
    {
     "name": "stderr",
     "output_type": "stream",
     "text": [
      "\r\n",
      " 61%|██████▏   | 323M/528M [00:01<00:00, 243MB/s]"
     ]
    },
    {
     "name": "stderr",
     "output_type": "stream",
     "text": [
      "\r\n",
      " 66%|██████▌   | 347M/528M [00:01<00:00, 243MB/s]"
     ]
    },
    {
     "name": "stderr",
     "output_type": "stream",
     "text": [
      "\r\n",
      " 70%|███████   | 370M/528M [00:01<00:00, 243MB/s]"
     ]
    },
    {
     "name": "stderr",
     "output_type": "stream",
     "text": [
      "\r\n",
      " 75%|███████▍  | 393M/528M [00:01<00:00, 243MB/s]"
     ]
    },
    {
     "name": "stderr",
     "output_type": "stream",
     "text": [
      "\r\n",
      " 79%|███████▉  | 416M/528M [00:01<00:00, 243MB/s]"
     ]
    },
    {
     "name": "stderr",
     "output_type": "stream",
     "text": [
      "\r\n",
      " 83%|████████▎ | 440M/528M [00:02<00:00, 243MB/s]"
     ]
    },
    {
     "name": "stderr",
     "output_type": "stream",
     "text": [
      "\r\n",
      " 88%|████████▊ | 463M/528M [00:02<00:00, 244MB/s]"
     ]
    },
    {
     "name": "stderr",
     "output_type": "stream",
     "text": [
      "\r\n",
      " 92%|█████████▏| 487M/528M [00:02<00:00, 244MB/s]"
     ]
    },
    {
     "name": "stderr",
     "output_type": "stream",
     "text": [
      "\r\n",
      " 97%|█████████▋| 510M/528M [00:02<00:00, 244MB/s]"
     ]
    },
    {
     "name": "stderr",
     "output_type": "stream",
     "text": [
      "\r\n",
      "100%|██████████| 528M/528M [00:02<00:00, 232MB/s]"
     ]
    },
    {
     "name": "stderr",
     "output_type": "stream",
     "text": [
      "\n"
     ]
    }
   ],
   "source": [
    "from torchvision.models import vgg16\n",
    "loss_model = vgg16(pretrained=True)"
   ]
  },
  {
   "cell_type": "code",
   "execution_count": 16,
   "id": "fb73965d",
   "metadata": {
    "execution": {
     "iopub.execute_input": "2025-03-10T11:52:20.325551Z",
     "iopub.status.busy": "2025-03-10T11:52:20.325325Z",
     "iopub.status.idle": "2025-03-10T11:52:20.330686Z",
     "shell.execute_reply": "2025-03-10T11:52:20.330050Z"
    },
    "papermill": {
     "duration": 0.01575,
     "end_time": "2025-03-10T11:52:20.331763",
     "exception": false,
     "start_time": "2025-03-10T11:52:20.316013",
     "status": "completed"
    },
    "tags": []
   },
   "outputs": [
    {
     "data": {
      "text/plain": [
       "VGG(\n",
       "  (features): Sequential(\n",
       "    (0): Conv2d(3, 64, kernel_size=(3, 3), stride=(1, 1), padding=(1, 1))\n",
       "    (1): ReLU(inplace=True)\n",
       "    (2): Conv2d(64, 64, kernel_size=(3, 3), stride=(1, 1), padding=(1, 1))\n",
       "    (3): ReLU(inplace=True)\n",
       "    (4): MaxPool2d(kernel_size=2, stride=2, padding=0, dilation=1, ceil_mode=False)\n",
       "    (5): Conv2d(64, 128, kernel_size=(3, 3), stride=(1, 1), padding=(1, 1))\n",
       "    (6): ReLU(inplace=True)\n",
       "    (7): Conv2d(128, 128, kernel_size=(3, 3), stride=(1, 1), padding=(1, 1))\n",
       "    (8): ReLU(inplace=True)\n",
       "    (9): MaxPool2d(kernel_size=2, stride=2, padding=0, dilation=1, ceil_mode=False)\n",
       "    (10): Conv2d(128, 256, kernel_size=(3, 3), stride=(1, 1), padding=(1, 1))\n",
       "    (11): ReLU(inplace=True)\n",
       "    (12): Conv2d(256, 256, kernel_size=(3, 3), stride=(1, 1), padding=(1, 1))\n",
       "    (13): ReLU(inplace=True)\n",
       "    (14): Conv2d(256, 256, kernel_size=(3, 3), stride=(1, 1), padding=(1, 1))\n",
       "    (15): ReLU(inplace=True)\n",
       "    (16): MaxPool2d(kernel_size=2, stride=2, padding=0, dilation=1, ceil_mode=False)\n",
       "    (17): Conv2d(256, 512, kernel_size=(3, 3), stride=(1, 1), padding=(1, 1))\n",
       "    (18): ReLU(inplace=True)\n",
       "    (19): Conv2d(512, 512, kernel_size=(3, 3), stride=(1, 1), padding=(1, 1))\n",
       "    (20): ReLU(inplace=True)\n",
       "    (21): Conv2d(512, 512, kernel_size=(3, 3), stride=(1, 1), padding=(1, 1))\n",
       "    (22): ReLU(inplace=True)\n",
       "    (23): MaxPool2d(kernel_size=2, stride=2, padding=0, dilation=1, ceil_mode=False)\n",
       "    (24): Conv2d(512, 512, kernel_size=(3, 3), stride=(1, 1), padding=(1, 1))\n",
       "    (25): ReLU(inplace=True)\n",
       "    (26): Conv2d(512, 512, kernel_size=(3, 3), stride=(1, 1), padding=(1, 1))\n",
       "    (27): ReLU(inplace=True)\n",
       "    (28): Conv2d(512, 512, kernel_size=(3, 3), stride=(1, 1), padding=(1, 1))\n",
       "    (29): ReLU(inplace=True)\n",
       "    (30): MaxPool2d(kernel_size=2, stride=2, padding=0, dilation=1, ceil_mode=False)\n",
       "  )\n",
       "  (avgpool): AdaptiveAvgPool2d(output_size=(7, 7))\n",
       "  (classifier): Sequential(\n",
       "    (0): Linear(in_features=25088, out_features=4096, bias=True)\n",
       "    (1): ReLU(inplace=True)\n",
       "    (2): Dropout(p=0.5, inplace=False)\n",
       "    (3): Linear(in_features=4096, out_features=4096, bias=True)\n",
       "    (4): ReLU(inplace=True)\n",
       "    (5): Dropout(p=0.5, inplace=False)\n",
       "    (6): Linear(in_features=4096, out_features=1000, bias=True)\n",
       "  )\n",
       ")"
      ]
     },
     "execution_count": 16,
     "metadata": {},
     "output_type": "execute_result"
    }
   ],
   "source": [
    "loss_model"
   ]
  },
  {
   "cell_type": "code",
   "execution_count": 17,
   "id": "4f7de81d",
   "metadata": {
    "execution": {
     "iopub.execute_input": "2025-03-10T11:52:20.349404Z",
     "iopub.status.busy": "2025-03-10T11:52:20.349193Z",
     "iopub.status.idle": "2025-03-10T11:52:20.541783Z",
     "shell.execute_reply": "2025-03-10T11:52:20.541063Z"
    },
    "papermill": {
     "duration": 0.203102,
     "end_time": "2025-03-10T11:52:20.543362",
     "exception": false,
     "start_time": "2025-03-10T11:52:20.340260",
     "status": "completed"
    },
    "tags": []
   },
   "outputs": [],
   "source": [
    "loss_model = loss_model.features\n",
    "loss_model = loss_model.to(device)\n",
    "for param in loss_model.parameters():\n",
    "    param.requires_grad = False"
   ]
  },
  {
   "cell_type": "code",
   "execution_count": 18,
   "id": "1c98860d",
   "metadata": {
    "execution": {
     "iopub.execute_input": "2025-03-10T11:52:20.561611Z",
     "iopub.status.busy": "2025-03-10T11:52:20.561350Z",
     "iopub.status.idle": "2025-03-10T11:52:20.566892Z",
     "shell.execute_reply": "2025-03-10T11:52:20.566089Z"
    },
    "papermill": {
     "duration": 0.015883,
     "end_time": "2025-03-10T11:52:20.568223",
     "exception": false,
     "start_time": "2025-03-10T11:52:20.552340",
     "status": "completed"
    },
    "tags": []
   },
   "outputs": [],
   "source": [
    "class FeatureLossNetwork(torch.nn.Module):\n",
    "    def __init__(self, feature_extractor):\n",
    "        super(FeatureLossNetwork, self).__init__()\n",
    "        self.feature_layers = feature_extractor\n",
    "        self.layer_name_mapping = {\n",
    "            '1': \"relu1_1\",\n",
    "            # '3': \"relu1_2\",\n",
    "            # '6': \"relu2_1\",\n",
    "            # '8': \"relu2_2\",\n",
    "            # '11': \"relu3_1\",\n",
    "            # '13': \"relu3_2\",\n",
    "            # '15': \"relu3_3\",\n",
    "            '18': \"relu4_1\",\n",
    "            # '20': \"relu4_2\",\n",
    "            # '22': \"relu4_3\",\n",
    "            # '25': \"relu5_1\",\n",
    "            # '27': \"relu5_2\",\n",
    "            '29': \"relu5_3\"\n",
    "        }\n",
    "\n",
    "    def extract_features(self, x):\n",
    "        output = {}\n",
    "        for name, module in self.feature_layers._modules.items():\n",
    "            x = module(x)\n",
    "            if name in self.layer_name_mapping:\n",
    "                output[self.layer_name_mapping[name]] = x\n",
    "        return list(output.values())\n",
    "\n",
    "    def forward(self, predicted, ground_truth):\n",
    "        loss = []\n",
    "        scale_factor = 1000  \n",
    "        predicted_features = self.extract_features(predicted)\n",
    "        ground_truth_features = self.extract_features(ground_truth)\n",
    "        for pred_feature, gt_feature in zip(predicted_features, ground_truth_features):\n",
    "            loss.append(F.mse_loss(pred_feature, gt_feature))\n",
    "\n",
    "        return sum(loss) / (len(loss) * scale_factor)"
   ]
  },
  {
   "cell_type": "code",
   "execution_count": 19,
   "id": "e6f0b290",
   "metadata": {
    "execution": {
     "iopub.execute_input": "2025-03-10T11:52:20.585727Z",
     "iopub.status.busy": "2025-03-10T11:52:20.585520Z",
     "iopub.status.idle": "2025-03-10T11:52:20.590333Z",
     "shell.execute_reply": "2025-03-10T11:52:20.589539Z"
    },
    "papermill": {
     "duration": 0.015144,
     "end_time": "2025-03-10T11:52:20.591638",
     "exception": false,
     "start_time": "2025-03-10T11:52:20.576494",
     "status": "completed"
    },
    "tags": []
   },
   "outputs": [
    {
     "data": {
      "text/plain": [
       "FeatureLossNetwork(\n",
       "  (feature_layers): Sequential(\n",
       "    (0): Conv2d(3, 64, kernel_size=(3, 3), stride=(1, 1), padding=(1, 1))\n",
       "    (1): ReLU(inplace=True)\n",
       "    (2): Conv2d(64, 64, kernel_size=(3, 3), stride=(1, 1), padding=(1, 1))\n",
       "    (3): ReLU(inplace=True)\n",
       "    (4): MaxPool2d(kernel_size=2, stride=2, padding=0, dilation=1, ceil_mode=False)\n",
       "    (5): Conv2d(64, 128, kernel_size=(3, 3), stride=(1, 1), padding=(1, 1))\n",
       "    (6): ReLU(inplace=True)\n",
       "    (7): Conv2d(128, 128, kernel_size=(3, 3), stride=(1, 1), padding=(1, 1))\n",
       "    (8): ReLU(inplace=True)\n",
       "    (9): MaxPool2d(kernel_size=2, stride=2, padding=0, dilation=1, ceil_mode=False)\n",
       "    (10): Conv2d(128, 256, kernel_size=(3, 3), stride=(1, 1), padding=(1, 1))\n",
       "    (11): ReLU(inplace=True)\n",
       "    (12): Conv2d(256, 256, kernel_size=(3, 3), stride=(1, 1), padding=(1, 1))\n",
       "    (13): ReLU(inplace=True)\n",
       "    (14): Conv2d(256, 256, kernel_size=(3, 3), stride=(1, 1), padding=(1, 1))\n",
       "    (15): ReLU(inplace=True)\n",
       "    (16): MaxPool2d(kernel_size=2, stride=2, padding=0, dilation=1, ceil_mode=False)\n",
       "    (17): Conv2d(256, 512, kernel_size=(3, 3), stride=(1, 1), padding=(1, 1))\n",
       "    (18): ReLU(inplace=True)\n",
       "    (19): Conv2d(512, 512, kernel_size=(3, 3), stride=(1, 1), padding=(1, 1))\n",
       "    (20): ReLU(inplace=True)\n",
       "    (21): Conv2d(512, 512, kernel_size=(3, 3), stride=(1, 1), padding=(1, 1))\n",
       "    (22): ReLU(inplace=True)\n",
       "    (23): MaxPool2d(kernel_size=2, stride=2, padding=0, dilation=1, ceil_mode=False)\n",
       "    (24): Conv2d(512, 512, kernel_size=(3, 3), stride=(1, 1), padding=(1, 1))\n",
       "    (25): ReLU(inplace=True)\n",
       "    (26): Conv2d(512, 512, kernel_size=(3, 3), stride=(1, 1), padding=(1, 1))\n",
       "    (27): ReLU(inplace=True)\n",
       "    (28): Conv2d(512, 512, kernel_size=(3, 3), stride=(1, 1), padding=(1, 1))\n",
       "    (29): ReLU(inplace=True)\n",
       "    (30): MaxPool2d(kernel_size=2, stride=2, padding=0, dilation=1, ceil_mode=False)\n",
       "  )\n",
       ")"
      ]
     },
     "execution_count": 19,
     "metadata": {},
     "output_type": "execute_result"
    }
   ],
   "source": [
    "loss_network = FeatureLossNetwork(loss_model)\n",
    "loss_network.eval()"
   ]
  },
  {
   "cell_type": "code",
   "execution_count": 20,
   "id": "d104de7d",
   "metadata": {
    "execution": {
     "iopub.execute_input": "2025-03-10T11:52:20.609483Z",
     "iopub.status.busy": "2025-03-10T11:52:20.609285Z",
     "iopub.status.idle": "2025-03-10T11:52:20.612127Z",
     "shell.execute_reply": "2025-03-10T11:52:20.611501Z"
    },
    "papermill": {
     "duration": 0.013065,
     "end_time": "2025-03-10T11:52:20.613258",
     "exception": false,
     "start_time": "2025-03-10T11:52:20.600193",
     "status": "completed"
    },
    "tags": []
   },
   "outputs": [],
   "source": [
    "# # Test loss network with generated image and original image\n",
    "# if isinstance(dehazed_image, np.ndarray):\n",
    "#     dehazed_image = torch.from_numpy(dehazed_image).float().permute(2, 0, 1).unsqueeze(0).to(device)\n",
    "\n",
    "# if isinstance(image, np.ndarray):\n",
    "#     image = torch.from_numpy(image).float().permute(2, 0, 1).unsqueeze(0).to(device)\n",
    "\n",
    "# # Compute loss\n",
    "# dehazed_image = dehazed_image.to(device)\n",
    "# image.to(device)\n",
    "# loss = loss_network(dehazed_image, image)\n",
    "# print(\"Feature Loss:\", loss.item())"
   ]
  },
  {
   "cell_type": "code",
   "execution_count": 21,
   "id": "35608712",
   "metadata": {
    "execution": {
     "iopub.execute_input": "2025-03-10T11:52:20.630487Z",
     "iopub.status.busy": "2025-03-10T11:52:20.630279Z",
     "iopub.status.idle": "2025-03-10T11:52:20.633172Z",
     "shell.execute_reply": "2025-03-10T11:52:20.632550Z"
    },
    "papermill": {
     "duration": 0.012642,
     "end_time": "2025-03-10T11:52:20.634267",
     "exception": false,
     "start_time": "2025-03-10T11:52:20.621625",
     "status": "completed"
    },
    "tags": []
   },
   "outputs": [],
   "source": [
    "learning_rate = 1e-4"
   ]
  },
  {
   "cell_type": "code",
   "execution_count": 22,
   "id": "a4522e89",
   "metadata": {
    "execution": {
     "iopub.execute_input": "2025-03-10T11:52:20.651623Z",
     "iopub.status.busy": "2025-03-10T11:52:20.651415Z",
     "iopub.status.idle": "2025-03-10T11:52:20.901318Z",
     "shell.execute_reply": "2025-03-10T11:52:20.900161Z"
    },
    "papermill": {
     "duration": 0.260202,
     "end_time": "2025-03-10T11:52:20.902947",
     "exception": false,
     "start_time": "2025-03-10T11:52:20.642745",
     "status": "completed"
    },
    "tags": []
   },
   "outputs": [
    {
     "name": "stdout",
     "output_type": "stream",
     "text": [
      "Total_params: 4637423\n"
     ]
    },
    {
     "name": "stderr",
     "output_type": "stream",
     "text": [
      "/usr/local/lib/python3.10/dist-packages/torch/functional.py:534: UserWarning: torch.meshgrid: in an upcoming release, it will be required to pass the indexing argument. (Triggered internally at ../aten/src/ATen/native/TensorShape.cpp:3595.)\n",
      "  return _VF.meshgrid(tensors, **kwargs)  # type: ignore[attr-defined]\n"
     ]
    }
   ],
   "source": [
    "# --- GPU device --- #\n",
    "device_ids = list(range(torch.cuda.device_count()))\n",
    "device = torch.device(\"cuda:0\" if torch.cuda.is_available() else \"cpu\")\n",
    "\n",
    "# --- Define the network --- #\n",
    "net = DeepGuidednew()\n",
    "\n",
    "# --- Multi-GPU (correct order) --- #\n",
    "net = nn.DataParallel(net, device_ids=device_ids).to(device)\n",
    "\n",
    "# --- Build optimizer --- #\n",
    "optimizer = torch.optim.Adam(net.parameters(), lr=learning_rate)\n",
    "\n",
    "# # --- Define the perceptual loss network --- #\n",
    "# vgg_model = vgg16(pretrained=True).features[:16].to(device)\n",
    "# for param in vgg_model.parameters():\n",
    "#     param.requires_grad = False\n",
    "\n",
    "# loss_network = LossNetwork(vgg_model)\n",
    "# loss_network.eval()\n",
    "\n",
    "# models = 'formernew'\n",
    "\n",
    "# --- Load the network weight --- #\n",
    "# weight_path = \"{}_{}_haze_best_{}\".format(models, category, version)\n",
    "# try:\n",
    "#     net.load_state_dict(torch.load(weight_path))\n",
    "#     print('--- weight loaded ---')\n",
    "# except FileNotFoundError:\n",
    "#     print('--- no weight loaded ---')\n",
    "\n",
    "# --- Calculate all trainable parameters in network --- #\n",
    "pytorch_total_params = sum(p.numel() for p in net.parameters() if p.requires_grad)\n",
    "print(\"Total_params: {}\".format(pytorch_total_params))"
   ]
  },
  {
   "cell_type": "code",
   "execution_count": 23,
   "id": "5bd98197",
   "metadata": {
    "execution": {
     "iopub.execute_input": "2025-03-10T11:52:20.921608Z",
     "iopub.status.busy": "2025-03-10T11:52:20.921369Z",
     "iopub.status.idle": "2025-03-10T11:52:20.925085Z",
     "shell.execute_reply": "2025-03-10T11:52:20.924216Z"
    },
    "papermill": {
     "duration": 0.014188,
     "end_time": "2025-03-10T11:52:20.926315",
     "exception": false,
     "start_time": "2025-03-10T11:52:20.912127",
     "status": "completed"
    },
    "tags": []
   },
   "outputs": [
    {
     "name": "stdout",
     "output_type": "stream",
     "text": [
      "lambda_loss: 0.84\n"
     ]
    }
   ],
   "source": [
    "lambda_loss = 0.84\n",
    "print(f'lambda_loss: {lambda_loss}')"
   ]
  },
  {
   "cell_type": "code",
   "execution_count": 24,
   "id": "5534269f",
   "metadata": {
    "execution": {
     "iopub.execute_input": "2025-03-10T11:52:20.945122Z",
     "iopub.status.busy": "2025-03-10T11:52:20.944906Z",
     "iopub.status.idle": "2025-03-10T11:52:20.954803Z",
     "shell.execute_reply": "2025-03-10T11:52:20.954196Z"
    },
    "papermill": {
     "duration": 0.02033,
     "end_time": "2025-03-10T11:52:20.955913",
     "exception": false,
     "start_time": "2025-03-10T11:52:20.935583",
     "status": "completed"
    },
    "tags": []
   },
   "outputs": [],
   "source": [
    "# -----------------------------\n",
    "# CO-DISTILLATION TRAINING\n",
    "# -----------------------------\n",
    "import torch\n",
    "import torch.nn.functional as F\n",
    "from torch.optim.lr_scheduler import CosineAnnealingLR\n",
    "import csv\n",
    "\n",
    "def calculate_psnr(output, target, max_pixel_value=1.0):\n",
    "    mse = F.mse_loss(output, target)\n",
    "    # print(f\"MSE: {mse.item()}\")\n",
    "    if mse == 0:\n",
    "        return 100  # Avoid log(0) case, return max PSNR\n",
    "    psnr = 20 * math.log10(max_pixel_value) - 10 * math.log10(mse.item())\n",
    "    # print(f\"PSNR: {psnr}\")\n",
    "    return psnr\n",
    "\n",
    "# -----------------------------\n",
    "# CO-DISTILLATION TRAINING\n",
    "# -----------------------------\n",
    "def train(net, teacher, student, fam, dataloader, num_epochs=10, lambda_fam=0.25, log_file=\"training_log.csv\"):\n",
    "    device = torch.device(\"cuda\" if torch.cuda.is_available() else \"cpu\")\n",
    "    print(f\"Using device: {device}\")\n",
    "    # net.to(device).train()\n",
    "    teacher.to(device).train()\n",
    "    student.to(device).train()\n",
    "    fam.to(device)\n",
    "\n",
    "    optimizer_t = torch.optim.Adam(teacher.parameters(), lr=1e-2)\n",
    "    # optimizer_s = torch.optim.Adam(student.parameters(), lr=1e-2)\n",
    "    # optimizer_d = torch.optim.Adam(net.parameters(), lr=1e-2)\n",
    "    \n",
    "    scheduler_t = CosineAnnealingLR(optimizer_t, T_max=num_epochs, eta_min=1e-3)\n",
    "    # scheduler_s = CosineAnnealingLR(optimizer_s, T_max=num_epochs, eta_min=1e-3)\n",
    "    # scheduler_d = CosineAnnealingLR(optimizer_d, T_max=num_epochs, eta_min=1e-3)\n",
    "    \n",
    "    best_loss = float('inf')\n",
    "    best_psnr = 0\n",
    "\n",
    "    with open(log_file, mode='w', newline='') as file:\n",
    "        writer = csv.writer(file)\n",
    "        writer.writerow([\"Epoch\", \"Loss\", \"Teacher PSNR\", \"Student PSNR\"])\n",
    "        \n",
    "        for epoch in range(num_epochs):\n",
    "            print(f\"Epoch {epoch + 1}/{num_epochs}\")\n",
    "            total_loss = 0\n",
    "            total_psnr_t = 0  # Teacher PSNR\n",
    "            # total_psnr_s = 0  # Student PSNR\n",
    "            num_batches = len(dataloader)\n",
    "            teacher_output = 0\n",
    "            # student_output = 0\n",
    "            \n",
    "            for hazy_images, clear_images in dataloader:\n",
    "                hazy_images, clear_images = hazy_images.to(device), clear_images.to(device)\n",
    "                # print(f\"Hazy images shape: {hazy_images.shape}, Clear images shape: {clear_images.shape}\")\n",
    "                \n",
    "                teacher_output = teacher(clear_images)\n",
    "                # student_output = student(hazy_images)\n",
    "                # print(f\"Teacher output shape: {teacher_output.shape}, Student output shape: {student_output.shape}\")\n",
    "\n",
    "                # dehaze,base = net(hazy_images, student_output)\n",
    "                \n",
    "                # base_loss = F.smooth_l1_loss(base, clear_images)\n",
    "                # smooth_loss = F.smooth_l1_loss(dehaze, clear_images)\n",
    "                # perceptual_loss = loss_network(dehaze, clear_images)\n",
    "\n",
    "                # print(\"Type: Teacher:\", type(teacher_output))\n",
    "                # print(\"Type: student_output:\", type(student_output))\n",
    "                # print(\"Type: detail_output:\", type(detail_output))\n",
    "                downsample = nn.Upsample(\n",
    "                    scale_factor=0.5, mode=\"bilinear\", align_corners=True\n",
    "                )\n",
    "                clear_images = downsample(clear_images)\n",
    "\n",
    "                # mse_loss_d = F.mse_loss(detail_output, clear_images)\n",
    "                mse_loss_t = F.mse_loss(teacher_output, clear_images)\n",
    "                perceptual_loss = loss_network(teacher_output, clear_images)\n",
    "            \n",
    "                # mse_loss_s = F.mse_loss(student_output, clear_images)\n",
    "                # print(f\"MSE Loss - Teacher: {mse_loss_t.item()}, Student: {mse_loss_s.item()}\")\n",
    "                \n",
    "                # fam_loss = fam(teacher_output, student_output) \n",
    "                # print(f\"FAM Loss: {fam_loss.item()}\")\n",
    "                \n",
    "                # print(\"Base Loss:\", base_loss)\n",
    "                # print(\"Smooth Loss:\", smooth_loss)\n",
    "                # print(\"Lambda Loss * Perceptual Loss:\", lambda_loss * perceptual_loss)\n",
    "                # print(\"FAM Loss:\", fam_loss)\n",
    "\n",
    "                \n",
    "                loss =  mse_loss_t + lambda_loss * perceptual_loss \n",
    "                # loss = base_loss + smooth_loss + lambda_loss * perceptual_loss + fam_loss \n",
    "                \n",
    "                # loss = base_loss + smooth_loss + lambda_loss * perceptual_loss+ fam_loss + mse_loss_t + mse_loss_s\n",
    "                # print(f\"Total Loss: {loss.item()}\")\n",
    "                \n",
    "                optimizer_t.zero_grad()\n",
    "                # optimizer_s.zero_grad()\n",
    "                # optimizer_d.zero_grad()\n",
    "                loss.backward()\n",
    "                optimizer_t.step()\n",
    "                # optimizer_s.step()\n",
    "                # optimizer_d.step()\n",
    "                \n",
    "                # print(f\"PSNR - Teacher: {psnr_t}, Student: {psnr_s}\")\n",
    "                \n",
    "                total_loss += loss.item()\n",
    "            # Compute PSNR for teacher and student\n",
    "            psnr_t = calculate_psnr(teacher_output, clear_images)\n",
    "            # psnr_s = calculate_psnr(student_output, clear_images)\n",
    "            total_psnr_t += psnr_t\n",
    "            # total_psnr_s += psnr_s\n",
    "\n",
    "            avg_loss = total_loss / num_batches\n",
    "            avg_psnr_t = total_psnr_t / num_batches\n",
    "            # avg_psnr_s = total_psnr_s / num_batches\n",
    "            # print(f\"Epoch {epoch + 1} - Avg Loss: {avg_loss}, Avg PSNR (Teacher): {avg_psnr_t}, Avg PSNR (Student): {avg_psnr_s}\")\n",
    "            print(f\"Epoch {epoch + 1} - Avg Loss: {avg_loss}, Avg PSNR (Teacher): {avg_psnr_t}\")\n",
    "\n",
    "\n",
    "            # log_entry = f\"Epoch {epoch+1}/{num_epochs}, Avg Loss: {avg_loss:.6f}, Avg Teacher PSNR: {avg_psnr_t:.2f}, Avg Student PSNR: {avg_psnr_s:.2f}\"\n",
    "            log_entry = f\"Epoch {epoch+1}/{num_epochs}, Avg Loss: {avg_loss:.6f}, Avg Teacher PSNR: {avg_psnr_t:.2f}\"\n",
    "            print(log_entry)\n",
    "\n",
    "            # Write log to file\n",
    "            # writer.writerow([epoch + 1, avg_loss, avg_psnr_t, avg_psnr_s])\n",
    "            writer.writerow([epoch + 1, avg_loss, avg_psnr_t])\n",
    "\n",
    "            # Update schedulers\n",
    "            scheduler_t.step()\n",
    "            # scheduler_s.step()\n",
    "            # scheduler_d.step()\n",
    "\n",
    "            # Save only if the model improves\n",
    "            # if avg_loss < best_loss or epoch %50 ==0:\n",
    "            best_loss = avg_loss\n",
    "            # best_psnr = avg_psnr_s\n",
    "            best_psnr = avg_psnr_t\n",
    "            # torch.save(student.state_dict(), str(epoch)+\"best_dehazing_student.pth\")\n",
    "            torch.save(teacher.state_dict(), str(epoch)+\"dehazing_teacher.pth\")\n",
    "            # torch.save(teacher.state_dict(), str(epoch)+\"best_sr_teacher.pth\")\n",
    "            # print(f\"Saved Best Model (Loss: {best_loss:.6f}, Student PSNR: {best_psnr:.2f})\")\n",
    "            print(f\"Saved Best Model (Loss: {best_loss:.6f}, PSNR: {best_psnr:.2f})\")\n",
    "\n",
    "    print(\"Training complete. Logs saved in\", log_file)\n"
   ]
  },
  {
   "cell_type": "code",
   "execution_count": 25,
   "id": "b78e91fc",
   "metadata": {
    "execution": {
     "iopub.execute_input": "2025-03-10T11:52:20.974130Z",
     "iopub.status.busy": "2025-03-10T11:52:20.973928Z",
     "iopub.status.idle": "2025-03-10T11:52:20.984323Z",
     "shell.execute_reply": "2025-03-10T11:52:20.983747Z"
    },
    "papermill": {
     "duration": 0.020657,
     "end_time": "2025-03-10T11:52:20.985522",
     "exception": false,
     "start_time": "2025-03-10T11:52:20.964865",
     "status": "completed"
    },
    "tags": []
   },
   "outputs": [],
   "source": [
    "# -----------------------------\n",
    "# TRAINING SETUP \n",
    "# -----------------------------\n",
    "teacher_model = SR_model(upscale_factor=1)\n",
    "student_model = DehazingNet()\n",
    "fam_module = FeatureAffinityModule()"
   ]
  },
  {
   "cell_type": "code",
   "execution_count": 26,
   "id": "bb8f4dbe",
   "metadata": {
    "execution": {
     "iopub.execute_input": "2025-03-10T11:52:21.003252Z",
     "iopub.status.busy": "2025-03-10T11:52:21.003058Z"
    },
    "papermill": {
     "duration": null,
     "end_time": null,
     "exception": false,
     "start_time": "2025-03-10T11:52:20.994175",
     "status": "running"
    },
    "tags": []
   },
   "outputs": [
    {
     "name": "stdout",
     "output_type": "stream",
     "text": [
      "Using device: cuda\n",
      "Epoch 1/500\n"
     ]
    },
    {
     "name": "stdout",
     "output_type": "stream",
     "text": [
      "Epoch 1 - Avg Loss: 0.9989089398376333, Avg PSNR (Teacher): 0.0\n",
      "Epoch 1/500, Avg Loss: 0.998909, Avg Teacher PSNR: 0.00\n",
      "Saved Best Model (Loss: 0.998909, PSNR: 0.00)\n",
      "Epoch 2/500\n"
     ]
    },
    {
     "name": "stdout",
     "output_type": "stream",
     "text": [
      "Epoch 2 - Avg Loss: 1.0011431583563486, Avg PSNR (Teacher): 0.0\n",
      "Epoch 2/500, Avg Loss: 1.001143, Avg Teacher PSNR: 0.00\n",
      "Saved Best Model (Loss: 1.001143, PSNR: 0.00)\n",
      "Epoch 3/500\n"
     ]
    },
    {
     "name": "stdout",
     "output_type": "stream",
     "text": [
      "Epoch 3 - Avg Loss: 1.0011434140205384, Avg PSNR (Teacher): 0.0\n",
      "Epoch 3/500, Avg Loss: 1.001143, Avg Teacher PSNR: 0.00\n",
      "Saved Best Model (Loss: 1.001143, PSNR: 0.00)\n",
      "Epoch 4/500\n"
     ]
    },
    {
     "name": "stdout",
     "output_type": "stream",
     "text": [
      "Epoch 4 - Avg Loss: 1.0011434540748596, Avg PSNR (Teacher): 0.0\n",
      "Epoch 4/500, Avg Loss: 1.001143, Avg Teacher PSNR: 0.00\n",
      "Saved Best Model (Loss: 1.001143, PSNR: 0.00)\n",
      "Epoch 5/500\n"
     ]
    },
    {
     "name": "stdout",
     "output_type": "stream",
     "text": [
      "Epoch 5 - Avg Loss: 1.0011435437997183, Avg PSNR (Teacher): 0.0\n",
      "Epoch 5/500, Avg Loss: 1.001144, Avg Teacher PSNR: 0.00\n",
      "Saved Best Model (Loss: 1.001144, PSNR: 0.00)\n",
      "Epoch 6/500\n"
     ]
    },
    {
     "name": "stdout",
     "output_type": "stream",
     "text": [
      "Epoch 6 - Avg Loss: 1.0011430575847626, Avg PSNR (Teacher): 0.0\n",
      "Epoch 6/500, Avg Loss: 1.001143, Avg Teacher PSNR: 0.00\n",
      "Saved Best Model (Loss: 1.001143, PSNR: 0.00)\n",
      "Epoch 7/500\n"
     ]
    },
    {
     "name": "stdout",
     "output_type": "stream",
     "text": [
      "Epoch 7 - Avg Loss: 1.0011436907450357, Avg PSNR (Teacher): 0.0\n",
      "Epoch 7/500, Avg Loss: 1.001144, Avg Teacher PSNR: 0.00\n",
      "Saved Best Model (Loss: 1.001144, PSNR: 0.00)\n",
      "Epoch 8/500\n"
     ]
    },
    {
     "name": "stdout",
     "output_type": "stream",
     "text": [
      "Epoch 8 - Avg Loss: 1.0011436448891957, Avg PSNR (Teacher): 0.0\n",
      "Epoch 8/500, Avg Loss: 1.001144, Avg Teacher PSNR: 0.00\n",
      "Saved Best Model (Loss: 1.001144, PSNR: 0.00)\n",
      "Epoch 9/500\n"
     ]
    },
    {
     "name": "stdout",
     "output_type": "stream",
     "text": [
      "Epoch 9 - Avg Loss: 1.0011436745325724, Avg PSNR (Teacher): 0.0\n",
      "Epoch 9/500, Avg Loss: 1.001144, Avg Teacher PSNR: 0.00\n",
      "Saved Best Model (Loss: 1.001144, PSNR: 0.00)\n",
      "Epoch 10/500\n"
     ]
    },
    {
     "name": "stdout",
     "output_type": "stream",
     "text": [
      "Epoch 10 - Avg Loss: 1.0011428291002908, Avg PSNR (Teacher): 0.0\n",
      "Epoch 10/500, Avg Loss: 1.001143, Avg Teacher PSNR: 0.00\n",
      "Saved Best Model (Loss: 1.001143, PSNR: 0.00)\n",
      "Epoch 11/500\n"
     ]
    },
    {
     "name": "stdout",
     "output_type": "stream",
     "text": [
      "Epoch 11 - Avg Loss: 1.0011430177688598, Avg PSNR (Teacher): 0.0\n",
      "Epoch 11/500, Avg Loss: 1.001143, Avg Teacher PSNR: 0.00\n",
      "Saved Best Model (Loss: 1.001143, PSNR: 0.00)\n",
      "Epoch 12/500\n"
     ]
    },
    {
     "name": "stdout",
     "output_type": "stream",
     "text": [
      "Epoch 12 - Avg Loss: 1.0011428871949515, Avg PSNR (Teacher): 0.0\n",
      "Epoch 12/500, Avg Loss: 1.001143, Avg Teacher PSNR: 0.00\n",
      "Saved Best Model (Loss: 1.001143, PSNR: 0.00)\n",
      "Epoch 13/500\n"
     ]
    },
    {
     "name": "stdout",
     "output_type": "stream",
     "text": [
      "Epoch 13 - Avg Loss: 1.001143661101659, Avg PSNR (Teacher): 0.0\n",
      "Epoch 13/500, Avg Loss: 1.001144, Avg Teacher PSNR: 0.00\n",
      "Saved Best Model (Loss: 1.001144, PSNR: 0.00)\n",
      "Epoch 14/500\n"
     ]
    },
    {
     "name": "stdout",
     "output_type": "stream",
     "text": [
      "Epoch 14 - Avg Loss: 1.001143125851949, Avg PSNR (Teacher): 0.0\n",
      "Epoch 14/500, Avg Loss: 1.001143, Avg Teacher PSNR: 0.00\n",
      "Saved Best Model (Loss: 1.001143, PSNR: 0.00)\n",
      "Epoch 15/500\n"
     ]
    },
    {
     "name": "stdout",
     "output_type": "stream",
     "text": [
      "Epoch 15 - Avg Loss: 1.0011439828872681, Avg PSNR (Teacher): 0.0\n",
      "Epoch 15/500, Avg Loss: 1.001144, Avg Teacher PSNR: 0.00\n",
      "Saved Best Model (Loss: 1.001144, PSNR: 0.00)\n",
      "Epoch 16/500\n"
     ]
    },
    {
     "name": "stdout",
     "output_type": "stream",
     "text": [
      "Epoch 16 - Avg Loss: 1.0011438629627227, Avg PSNR (Teacher): 0.0\n",
      "Epoch 16/500, Avg Loss: 1.001144, Avg Teacher PSNR: 0.00\n",
      "Saved Best Model (Loss: 1.001144, PSNR: 0.00)\n",
      "Epoch 17/500\n"
     ]
    },
    {
     "name": "stdout",
     "output_type": "stream",
     "text": [
      "Epoch 17 - Avg Loss: 1.0011432440280914, Avg PSNR (Teacher): 0.0\n",
      "Epoch 17/500, Avg Loss: 1.001143, Avg Teacher PSNR: 0.00\n",
      "Saved Best Model (Loss: 1.001143, PSNR: 0.00)\n",
      "Epoch 18/500\n"
     ]
    },
    {
     "name": "stdout",
     "output_type": "stream",
     "text": [
      "Epoch 18 - Avg Loss: 1.0011433668136596, Avg PSNR (Teacher): 0.0\n",
      "Epoch 18/500, Avg Loss: 1.001143, Avg Teacher PSNR: 0.00\n",
      "Saved Best Model (Loss: 1.001143, PSNR: 0.00)\n",
      "Epoch 19/500\n"
     ]
    },
    {
     "name": "stdout",
     "output_type": "stream",
     "text": [
      "Epoch 19 - Avg Loss: 1.0011439905961355, Avg PSNR (Teacher): 0.0\n",
      "Epoch 19/500, Avg Loss: 1.001144, Avg Teacher PSNR: 0.00\n",
      "Saved Best Model (Loss: 1.001144, PSNR: 0.00)\n",
      "Epoch 20/500\n"
     ]
    },
    {
     "name": "stdout",
     "output_type": "stream",
     "text": [
      "Epoch 20 - Avg Loss: 1.0011434559027355, Avg PSNR (Teacher): 0.0\n",
      "Epoch 20/500, Avg Loss: 1.001143, Avg Teacher PSNR: 0.00\n",
      "Saved Best Model (Loss: 1.001143, PSNR: 0.00)\n",
      "Epoch 21/500\n"
     ]
    },
    {
     "name": "stdout",
     "output_type": "stream",
     "text": [
      "Epoch 21 - Avg Loss: 1.0011436353524525, Avg PSNR (Teacher): 0.0\n",
      "Epoch 21/500, Avg Loss: 1.001144, Avg Teacher PSNR: 0.00\n",
      "Saved Best Model (Loss: 1.001144, PSNR: 0.00)\n",
      "Epoch 22/500\n"
     ]
    },
    {
     "name": "stdout",
     "output_type": "stream",
     "text": [
      "Epoch 22 - Avg Loss: 1.0011438961823782, Avg PSNR (Teacher): 0.0\n",
      "Epoch 22/500, Avg Loss: 1.001144, Avg Teacher PSNR: 0.00\n",
      "Saved Best Model (Loss: 1.001144, PSNR: 0.00)\n",
      "Epoch 23/500\n"
     ]
    },
    {
     "name": "stdout",
     "output_type": "stream",
     "text": [
      "Epoch 23 - Avg Loss: 1.001143085718155, Avg PSNR (Teacher): 0.0\n",
      "Epoch 23/500, Avg Loss: 1.001143, Avg Teacher PSNR: 0.00\n",
      "Saved Best Model (Loss: 1.001143, PSNR: 0.00)\n",
      "Epoch 24/500\n"
     ]
    },
    {
     "name": "stdout",
     "output_type": "stream",
     "text": [
      "Epoch 24 - Avg Loss: 1.0011434253056843, Avg PSNR (Teacher): 0.0\n",
      "Epoch 24/500, Avg Loss: 1.001143, Avg Teacher PSNR: 0.00\n",
      "Saved Best Model (Loss: 1.001143, PSNR: 0.00)\n",
      "Epoch 25/500\n"
     ]
    },
    {
     "name": "stdout",
     "output_type": "stream",
     "text": [
      "Epoch 25 - Avg Loss: 1.0011434177557628, Avg PSNR (Teacher): 0.0\n",
      "Epoch 25/500, Avg Loss: 1.001143, Avg Teacher PSNR: 0.00\n",
      "Saved Best Model (Loss: 1.001143, PSNR: 0.00)\n",
      "Epoch 26/500\n"
     ]
    },
    {
     "name": "stdout",
     "output_type": "stream",
     "text": [
      "Epoch 26 - Avg Loss: 1.001143474817276, Avg PSNR (Teacher): 0.0\n",
      "Epoch 26/500, Avg Loss: 1.001143, Avg Teacher PSNR: 0.00\n",
      "Saved Best Model (Loss: 1.001143, PSNR: 0.00)\n",
      "Epoch 27/500\n"
     ]
    },
    {
     "name": "stdout",
     "output_type": "stream",
     "text": [
      "Epoch 27 - Avg Loss: 1.0011434790293376, Avg PSNR (Teacher): 0.0\n",
      "Epoch 27/500, Avg Loss: 1.001143, Avg Teacher PSNR: 0.00\n",
      "Saved Best Model (Loss: 1.001143, PSNR: 0.00)\n",
      "Epoch 28/500\n"
     ]
    },
    {
     "name": "stdout",
     "output_type": "stream",
     "text": [
      "Epoch 28 - Avg Loss: 1.0011433160305023, Avg PSNR (Teacher): 0.0\n",
      "Epoch 28/500, Avg Loss: 1.001143, Avg Teacher PSNR: 0.00\n",
      "Saved Best Model (Loss: 1.001143, PSNR: 0.00)\n",
      "Epoch 29/500\n"
     ]
    },
    {
     "name": "stdout",
     "output_type": "stream",
     "text": [
      "Epoch 29 - Avg Loss: 1.0011437335014344, Avg PSNR (Teacher): 0.0\n",
      "Epoch 29/500, Avg Loss: 1.001144, Avg Teacher PSNR: 0.00\n",
      "Saved Best Model (Loss: 1.001144, PSNR: 0.00)\n",
      "Epoch 30/500\n"
     ]
    },
    {
     "name": "stdout",
     "output_type": "stream",
     "text": [
      "Epoch 30 - Avg Loss: 1.0011431939601898, Avg PSNR (Teacher): 0.0\n",
      "Epoch 30/500, Avg Loss: 1.001143, Avg Teacher PSNR: 0.00\n",
      "Saved Best Model (Loss: 1.001143, PSNR: 0.00)\n",
      "Epoch 31/500\n"
     ]
    },
    {
     "name": "stdout",
     "output_type": "stream",
     "text": [
      "Epoch 31 - Avg Loss: 1.001142941236496, Avg PSNR (Teacher): 0.0\n",
      "Epoch 31/500, Avg Loss: 1.001143, Avg Teacher PSNR: 0.00\n",
      "Saved Best Model (Loss: 1.001143, PSNR: 0.00)\n",
      "Epoch 32/500\n"
     ]
    },
    {
     "name": "stdout",
     "output_type": "stream",
     "text": [
      "Epoch 32 - Avg Loss: 1.0011431874434153, Avg PSNR (Teacher): 0.0\n",
      "Epoch 32/500, Avg Loss: 1.001143, Avg Teacher PSNR: 0.00\n",
      "Saved Best Model (Loss: 1.001143, PSNR: 0.00)\n",
      "Epoch 33/500\n"
     ]
    },
    {
     "name": "stdout",
     "output_type": "stream",
     "text": [
      "Epoch 33 - Avg Loss: 1.001143529256185, Avg PSNR (Teacher): 0.0\n",
      "Epoch 33/500, Avg Loss: 1.001144, Avg Teacher PSNR: 0.00\n",
      "Saved Best Model (Loss: 1.001144, PSNR: 0.00)\n",
      "Epoch 34/500\n"
     ]
    },
    {
     "name": "stdout",
     "output_type": "stream",
     "text": [
      "Epoch 34 - Avg Loss: 1.001143754164378, Avg PSNR (Teacher): 0.0\n",
      "Epoch 34/500, Avg Loss: 1.001144, Avg Teacher PSNR: 0.00\n",
      "Saved Best Model (Loss: 1.001144, PSNR: 0.00)\n",
      "Epoch 35/500\n"
     ]
    },
    {
     "name": "stdout",
     "output_type": "stream",
     "text": [
      "Epoch 35 - Avg Loss: 1.0011438352266948, Avg PSNR (Teacher): 0.0\n",
      "Epoch 35/500, Avg Loss: 1.001144, Avg Teacher PSNR: 0.00\n",
      "Saved Best Model (Loss: 1.001144, PSNR: 0.00)\n",
      "Epoch 36/500\n"
     ]
    },
    {
     "name": "stdout",
     "output_type": "stream",
     "text": [
      "Epoch 36 - Avg Loss: 1.00114293384552, Avg PSNR (Teacher): 0.0\n",
      "Epoch 36/500, Avg Loss: 1.001143, Avg Teacher PSNR: 0.00\n",
      "Saved Best Model (Loss: 1.001143, PSNR: 0.00)\n",
      "Epoch 37/500\n"
     ]
    },
    {
     "name": "stdout",
     "output_type": "stream",
     "text": [
      "Epoch 37 - Avg Loss: 1.001143713792165, Avg PSNR (Teacher): 0.0\n",
      "Epoch 37/500, Avg Loss: 1.001144, Avg Teacher PSNR: 0.00\n",
      "Saved Best Model (Loss: 1.001144, PSNR: 0.00)\n",
      "Epoch 38/500\n"
     ]
    },
    {
     "name": "stdout",
     "output_type": "stream",
     "text": [
      "Epoch 38 - Avg Loss: 1.0011433873971303, Avg PSNR (Teacher): 0.0\n",
      "Epoch 38/500, Avg Loss: 1.001143, Avg Teacher PSNR: 0.00\n",
      "Saved Best Model (Loss: 1.001143, PSNR: 0.00)\n",
      "Epoch 39/500\n"
     ]
    },
    {
     "name": "stdout",
     "output_type": "stream",
     "text": [
      "Epoch 39 - Avg Loss: 1.0011431892712912, Avg PSNR (Teacher): 0.0\n",
      "Epoch 39/500, Avg Loss: 1.001143, Avg Teacher PSNR: 0.00\n",
      "Saved Best Model (Loss: 1.001143, PSNR: 0.00)\n",
      "Epoch 40/500\n"
     ]
    },
    {
     "name": "stdout",
     "output_type": "stream",
     "text": [
      "Epoch 40 - Avg Loss: 1.001143710533778, Avg PSNR (Teacher): 0.0\n",
      "Epoch 40/500, Avg Loss: 1.001144, Avg Teacher PSNR: 0.00\n",
      "Saved Best Model (Loss: 1.001144, PSNR: 0.00)\n",
      "Epoch 41/500\n"
     ]
    },
    {
     "name": "stdout",
     "output_type": "stream",
     "text": [
      "Epoch 41 - Avg Loss: 1.0011437570254007, Avg PSNR (Teacher): 0.0\n",
      "Epoch 41/500, Avg Loss: 1.001144, Avg Teacher PSNR: 0.00\n",
      "Saved Best Model (Loss: 1.001144, PSNR: 0.00)\n",
      "Epoch 42/500\n"
     ]
    },
    {
     "name": "stdout",
     "output_type": "stream",
     "text": [
      "Epoch 42 - Avg Loss: 1.0011432868639627, Avg PSNR (Teacher): 0.0\n",
      "Epoch 42/500, Avg Loss: 1.001143, Avg Teacher PSNR: 0.00\n",
      "Saved Best Model (Loss: 1.001143, PSNR: 0.00)\n",
      "Epoch 43/500\n"
     ]
    },
    {
     "name": "stdout",
     "output_type": "stream",
     "text": [
      "Epoch 43 - Avg Loss: 1.0011432928244273, Avg PSNR (Teacher): 0.0\n",
      "Epoch 43/500, Avg Loss: 1.001143, Avg Teacher PSNR: 0.00\n",
      "Saved Best Model (Loss: 1.001143, PSNR: 0.00)\n",
      "Epoch 44/500\n"
     ]
    },
    {
     "name": "stdout",
     "output_type": "stream",
     "text": [
      "Epoch 44 - Avg Loss: 1.0011434110800426, Avg PSNR (Teacher): 0.0\n",
      "Epoch 44/500, Avg Loss: 1.001143, Avg Teacher PSNR: 0.00\n",
      "Saved Best Model (Loss: 1.001143, PSNR: 0.00)\n",
      "Epoch 45/500\n"
     ]
    },
    {
     "name": "stdout",
     "output_type": "stream",
     "text": [
      "Epoch 45 - Avg Loss: 1.001143706480662, Avg PSNR (Teacher): 0.0\n",
      "Epoch 45/500, Avg Loss: 1.001144, Avg Teacher PSNR: 0.00\n",
      "Saved Best Model (Loss: 1.001144, PSNR: 0.00)\n",
      "Epoch 46/500\n"
     ]
    },
    {
     "name": "stdout",
     "output_type": "stream",
     "text": [
      "Epoch 46 - Avg Loss: 1.0011434403260548, Avg PSNR (Teacher): 0.0\n",
      "Epoch 46/500, Avg Loss: 1.001143, Avg Teacher PSNR: 0.00\n",
      "Saved Best Model (Loss: 1.001143, PSNR: 0.00)\n",
      "Epoch 47/500\n"
     ]
    },
    {
     "name": "stdout",
     "output_type": "stream",
     "text": [
      "Epoch 47 - Avg Loss: 1.0011433234214784, Avg PSNR (Teacher): 0.0\n",
      "Epoch 47/500, Avg Loss: 1.001143, Avg Teacher PSNR: 0.00\n",
      "Saved Best Model (Loss: 1.001143, PSNR: 0.00)\n",
      "Epoch 48/500\n"
     ]
    },
    {
     "name": "stdout",
     "output_type": "stream",
     "text": [
      "Epoch 48 - Avg Loss: 1.0011432463328043, Avg PSNR (Teacher): 0.0\n",
      "Epoch 48/500, Avg Loss: 1.001143, Avg Teacher PSNR: 0.00\n",
      "Saved Best Model (Loss: 1.001143, PSNR: 0.00)\n",
      "Epoch 49/500\n"
     ]
    },
    {
     "name": "stdout",
     "output_type": "stream",
     "text": [
      "Epoch 49 - Avg Loss: 1.0011431771914163, Avg PSNR (Teacher): 0.0\n",
      "Epoch 49/500, Avg Loss: 1.001143, Avg Teacher PSNR: 0.00\n",
      "Saved Best Model (Loss: 1.001143, PSNR: 0.00)\n",
      "Epoch 50/500\n"
     ]
    },
    {
     "name": "stdout",
     "output_type": "stream",
     "text": [
      "Epoch 50 - Avg Loss: 1.0011426396369933, Avg PSNR (Teacher): 0.0\n",
      "Epoch 50/500, Avg Loss: 1.001143, Avg Teacher PSNR: 0.00\n",
      "Saved Best Model (Loss: 1.001143, PSNR: 0.00)\n",
      "Epoch 51/500\n"
     ]
    },
    {
     "name": "stdout",
     "output_type": "stream",
     "text": [
      "Epoch 51 - Avg Loss: 1.0011435018380483, Avg PSNR (Teacher): 0.0\n",
      "Epoch 51/500, Avg Loss: 1.001144, Avg Teacher PSNR: 0.00\n",
      "Saved Best Model (Loss: 1.001144, PSNR: 0.00)\n",
      "Epoch 52/500\n"
     ]
    },
    {
     "name": "stdout",
     "output_type": "stream",
     "text": [
      "Epoch 52 - Avg Loss: 1.0011427762508391, Avg PSNR (Teacher): 0.0\n",
      "Epoch 52/500, Avg Loss: 1.001143, Avg Teacher PSNR: 0.00\n",
      "Saved Best Model (Loss: 1.001143, PSNR: 0.00)\n",
      "Epoch 53/500\n"
     ]
    },
    {
     "name": "stdout",
     "output_type": "stream",
     "text": [
      "Epoch 53 - Avg Loss: 1.001143250465393, Avg PSNR (Teacher): 0.0\n",
      "Epoch 53/500, Avg Loss: 1.001143, Avg Teacher PSNR: 0.00\n",
      "Saved Best Model (Loss: 1.001143, PSNR: 0.00)\n",
      "Epoch 54/500\n"
     ]
    },
    {
     "name": "stdout",
     "output_type": "stream",
     "text": [
      "Epoch 54 - Avg Loss: 1.001143238067627, Avg PSNR (Teacher): 0.0\n",
      "Epoch 54/500, Avg Loss: 1.001143, Avg Teacher PSNR: 0.00\n",
      "Saved Best Model (Loss: 1.001143, PSNR: 0.00)\n",
      "Epoch 55/500\n"
     ]
    },
    {
     "name": "stdout",
     "output_type": "stream",
     "text": [
      "Epoch 55 - Avg Loss: 1.0011438048680623, Avg PSNR (Teacher): 0.0\n",
      "Epoch 55/500, Avg Loss: 1.001144, Avg Teacher PSNR: 0.00\n",
      "Saved Best Model (Loss: 1.001144, PSNR: 0.00)\n",
      "Epoch 56/500\n"
     ]
    },
    {
     "name": "stdout",
     "output_type": "stream",
     "text": [
      "Epoch 56 - Avg Loss: 1.0011429370244345, Avg PSNR (Teacher): 0.0\n",
      "Epoch 56/500, Avg Loss: 1.001143, Avg Teacher PSNR: 0.00\n",
      "Saved Best Model (Loss: 1.001143, PSNR: 0.00)\n",
      "Epoch 57/500\n"
     ]
    },
    {
     "name": "stdout",
     "output_type": "stream",
     "text": [
      "Epoch 57 - Avg Loss: 1.0011436830361684, Avg PSNR (Teacher): 0.0\n",
      "Epoch 57/500, Avg Loss: 1.001144, Avg Teacher PSNR: 0.00\n",
      "Saved Best Model (Loss: 1.001144, PSNR: 0.00)\n",
      "Epoch 58/500\n"
     ]
    },
    {
     "name": "stdout",
     "output_type": "stream",
     "text": [
      "Epoch 58 - Avg Loss: 1.0011435233751933, Avg PSNR (Teacher): 0.0\n",
      "Epoch 58/500, Avg Loss: 1.001144, Avg Teacher PSNR: 0.00\n",
      "Saved Best Model (Loss: 1.001144, PSNR: 0.00)\n",
      "Epoch 59/500\n"
     ]
    },
    {
     "name": "stdout",
     "output_type": "stream",
     "text": [
      "Epoch 59 - Avg Loss: 1.0011437799135845, Avg PSNR (Teacher): 0.0\n",
      "Epoch 59/500, Avg Loss: 1.001144, Avg Teacher PSNR: 0.00\n",
      "Saved Best Model (Loss: 1.001144, PSNR: 0.00)\n",
      "Epoch 60/500\n"
     ]
    },
    {
     "name": "stdout",
     "output_type": "stream",
     "text": [
      "Epoch 60 - Avg Loss: 1.0011430772145589, Avg PSNR (Teacher): 0.0\n",
      "Epoch 60/500, Avg Loss: 1.001143, Avg Teacher PSNR: 0.00\n",
      "Saved Best Model (Loss: 1.001143, PSNR: 0.00)\n",
      "Epoch 61/500\n"
     ]
    },
    {
     "name": "stdout",
     "output_type": "stream",
     "text": [
      "Epoch 61 - Avg Loss: 1.0011430528958638, Avg PSNR (Teacher): 0.0\n",
      "Epoch 61/500, Avg Loss: 1.001143, Avg Teacher PSNR: 0.00\n",
      "Saved Best Model (Loss: 1.001143, PSNR: 0.00)\n",
      "Epoch 62/500\n"
     ]
    },
    {
     "name": "stdout",
     "output_type": "stream",
     "text": [
      "Epoch 62 - Avg Loss: 1.00114297970136, Avg PSNR (Teacher): 0.0\n",
      "Epoch 62/500, Avg Loss: 1.001143, Avg Teacher PSNR: 0.00\n",
      "Saved Best Model (Loss: 1.001143, PSNR: 0.00)\n",
      "Epoch 63/500\n"
     ]
    },
    {
     "name": "stdout",
     "output_type": "stream",
     "text": [
      "Epoch 63 - Avg Loss: 1.0011432367165884, Avg PSNR (Teacher): 0.0\n",
      "Epoch 63/500, Avg Loss: 1.001143, Avg Teacher PSNR: 0.00\n",
      "Saved Best Model (Loss: 1.001143, PSNR: 0.00)\n",
      "Epoch 64/500\n"
     ]
    },
    {
     "name": "stdout",
     "output_type": "stream",
     "text": [
      "Epoch 64 - Avg Loss: 1.0011436851819355, Avg PSNR (Teacher): 0.0\n",
      "Epoch 64/500, Avg Loss: 1.001144, Avg Teacher PSNR: 0.00\n",
      "Saved Best Model (Loss: 1.001144, PSNR: 0.00)\n",
      "Epoch 65/500\n"
     ]
    },
    {
     "name": "stdout",
     "output_type": "stream",
     "text": [
      "Epoch 65 - Avg Loss: 1.001143171707789, Avg PSNR (Teacher): 0.0\n",
      "Epoch 65/500, Avg Loss: 1.001143, Avg Teacher PSNR: 0.00\n",
      "Saved Best Model (Loss: 1.001143, PSNR: 0.00)\n",
      "Epoch 66/500\n"
     ]
    },
    {
     "name": "stdout",
     "output_type": "stream",
     "text": [
      "Epoch 66 - Avg Loss: 1.0011433945496877, Avg PSNR (Teacher): 0.0\n",
      "Epoch 66/500, Avg Loss: 1.001143, Avg Teacher PSNR: 0.00\n",
      "Saved Best Model (Loss: 1.001143, PSNR: 0.00)\n",
      "Epoch 67/500\n"
     ]
    },
    {
     "name": "stdout",
     "output_type": "stream",
     "text": [
      "Epoch 67 - Avg Loss: 1.0011435845692953, Avg PSNR (Teacher): 0.0\n",
      "Epoch 67/500, Avg Loss: 1.001144, Avg Teacher PSNR: 0.00\n",
      "Saved Best Model (Loss: 1.001144, PSNR: 0.00)\n",
      "Epoch 68/500\n"
     ]
    },
    {
     "name": "stdout",
     "output_type": "stream",
     "text": [
      "Epoch 68 - Avg Loss: 1.001143136580785, Avg PSNR (Teacher): 0.0\n",
      "Epoch 68/500, Avg Loss: 1.001143, Avg Teacher PSNR: 0.00\n",
      "Saved Best Model (Loss: 1.001143, PSNR: 0.00)\n",
      "Epoch 69/500\n"
     ]
    },
    {
     "name": "stdout",
     "output_type": "stream",
     "text": [
      "Epoch 69 - Avg Loss: 1.0011429274876913, Avg PSNR (Teacher): 0.0\n",
      "Epoch 69/500, Avg Loss: 1.001143, Avg Teacher PSNR: 0.00\n",
      "Saved Best Model (Loss: 1.001143, PSNR: 0.00)\n",
      "Epoch 70/500\n"
     ]
    },
    {
     "name": "stdout",
     "output_type": "stream",
     "text": [
      "Epoch 70 - Avg Loss: 1.001143406867981, Avg PSNR (Teacher): 0.0\n",
      "Epoch 70/500, Avg Loss: 1.001143, Avg Teacher PSNR: 0.00\n",
      "Saved Best Model (Loss: 1.001143, PSNR: 0.00)\n",
      "Epoch 71/500\n"
     ]
    },
    {
     "name": "stdout",
     "output_type": "stream",
     "text": [
      "Epoch 71 - Avg Loss: 1.0011427862644195, Avg PSNR (Teacher): 0.0\n",
      "Epoch 71/500, Avg Loss: 1.001143, Avg Teacher PSNR: 0.00\n",
      "Saved Best Model (Loss: 1.001143, PSNR: 0.00)\n",
      "Epoch 72/500\n"
     ]
    },
    {
     "name": "stdout",
     "output_type": "stream",
     "text": [
      "Epoch 72 - Avg Loss: 1.0011434706052145, Avg PSNR (Teacher): 0.0\n",
      "Epoch 72/500, Avg Loss: 1.001143, Avg Teacher PSNR: 0.00\n",
      "Saved Best Model (Loss: 1.001143, PSNR: 0.00)\n",
      "Epoch 73/500\n"
     ]
    },
    {
     "name": "stdout",
     "output_type": "stream",
     "text": [
      "Epoch 73 - Avg Loss: 1.0011434631347655, Avg PSNR (Teacher): 0.0\n",
      "Epoch 73/500, Avg Loss: 1.001143, Avg Teacher PSNR: 0.00\n",
      "Saved Best Model (Loss: 1.001143, PSNR: 0.00)\n",
      "Epoch 74/500\n"
     ]
    },
    {
     "name": "stdout",
     "output_type": "stream",
     "text": [
      "Epoch 74 - Avg Loss: 1.0011433850129445, Avg PSNR (Teacher): 0.0\n",
      "Epoch 74/500, Avg Loss: 1.001143, Avg Teacher PSNR: 0.00\n",
      "Saved Best Model (Loss: 1.001143, PSNR: 0.00)\n",
      "Epoch 75/500\n"
     ]
    },
    {
     "name": "stdout",
     "output_type": "stream",
     "text": [
      "Epoch 75 - Avg Loss: 1.00114364027977, Avg PSNR (Teacher): 0.0\n",
      "Epoch 75/500, Avg Loss: 1.001144, Avg Teacher PSNR: 0.00\n",
      "Saved Best Model (Loss: 1.001144, PSNR: 0.00)\n",
      "Epoch 76/500\n"
     ]
    },
    {
     "name": "stdout",
     "output_type": "stream",
     "text": [
      "Epoch 76 - Avg Loss: 1.0011431694030761, Avg PSNR (Teacher): 0.0\n",
      "Epoch 76/500, Avg Loss: 1.001143, Avg Teacher PSNR: 0.00\n",
      "Saved Best Model (Loss: 1.001143, PSNR: 0.00)\n",
      "Epoch 77/500\n"
     ]
    },
    {
     "name": "stdout",
     "output_type": "stream",
     "text": [
      "Epoch 77 - Avg Loss: 1.0011430836518607, Avg PSNR (Teacher): 0.0\n",
      "Epoch 77/500, Avg Loss: 1.001143, Avg Teacher PSNR: 0.00\n",
      "Saved Best Model (Loss: 1.001143, PSNR: 0.00)\n",
      "Epoch 78/500\n"
     ]
    },
    {
     "name": "stdout",
     "output_type": "stream",
     "text": [
      "Epoch 78 - Avg Loss: 1.001143049399058, Avg PSNR (Teacher): 0.0\n",
      "Epoch 78/500, Avg Loss: 1.001143, Avg Teacher PSNR: 0.00\n",
      "Saved Best Model (Loss: 1.001143, PSNR: 0.00)\n",
      "Epoch 79/500\n"
     ]
    },
    {
     "name": "stdout",
     "output_type": "stream",
     "text": [
      "Epoch 79 - Avg Loss: 1.0011430898507436, Avg PSNR (Teacher): 0.0\n",
      "Epoch 79/500, Avg Loss: 1.001143, Avg Teacher PSNR: 0.00\n",
      "Saved Best Model (Loss: 1.001143, PSNR: 0.00)\n",
      "Epoch 80/500\n"
     ]
    },
    {
     "name": "stdout",
     "output_type": "stream",
     "text": [
      "Epoch 80 - Avg Loss: 1.001142988204956, Avg PSNR (Teacher): 0.0\n",
      "Epoch 80/500, Avg Loss: 1.001143, Avg Teacher PSNR: 0.00\n",
      "Saved Best Model (Loss: 1.001143, PSNR: 0.00)\n",
      "Epoch 81/500\n"
     ]
    },
    {
     "name": "stdout",
     "output_type": "stream",
     "text": [
      "Epoch 81 - Avg Loss: 1.0011435726483664, Avg PSNR (Teacher): 0.0\n",
      "Epoch 81/500, Avg Loss: 1.001144, Avg Teacher PSNR: 0.00\n",
      "Saved Best Model (Loss: 1.001144, PSNR: 0.00)\n",
      "Epoch 82/500\n"
     ]
    },
    {
     "name": "stdout",
     "output_type": "stream",
     "text": [
      "Epoch 82 - Avg Loss: 1.001143398920695, Avg PSNR (Teacher): 0.0\n",
      "Epoch 82/500, Avg Loss: 1.001143, Avg Teacher PSNR: 0.00\n",
      "Saved Best Model (Loss: 1.001143, PSNR: 0.00)\n",
      "Epoch 83/500\n"
     ]
    },
    {
     "name": "stdout",
     "output_type": "stream",
     "text": [
      "Epoch 83 - Avg Loss: 1.0011435783704121, Avg PSNR (Teacher): 0.0\n",
      "Epoch 83/500, Avg Loss: 1.001144, Avg Teacher PSNR: 0.00\n",
      "Saved Best Model (Loss: 1.001144, PSNR: 0.00)\n",
      "Epoch 84/500\n"
     ]
    },
    {
     "name": "stdout",
     "output_type": "stream",
     "text": [
      "Epoch 84 - Avg Loss: 1.0011432472864787, Avg PSNR (Teacher): 0.0\n",
      "Epoch 84/500, Avg Loss: 1.001143, Avg Teacher PSNR: 0.00\n",
      "Saved Best Model (Loss: 1.001143, PSNR: 0.00)\n",
      "Epoch 85/500\n"
     ]
    },
    {
     "name": "stdout",
     "output_type": "stream",
     "text": [
      "Epoch 85 - Avg Loss: 1.0011435307661691, Avg PSNR (Teacher): 0.0\n",
      "Epoch 85/500, Avg Loss: 1.001144, Avg Teacher PSNR: 0.00\n",
      "Saved Best Model (Loss: 1.001144, PSNR: 0.00)\n",
      "Epoch 86/500\n"
     ]
    },
    {
     "name": "stdout",
     "output_type": "stream",
     "text": [
      "Epoch 86 - Avg Loss: 1.0011433276335397, Avg PSNR (Teacher): 0.0\n",
      "Epoch 86/500, Avg Loss: 1.001143, Avg Teacher PSNR: 0.00\n",
      "Saved Best Model (Loss: 1.001143, PSNR: 0.00)\n",
      "Epoch 87/500\n"
     ]
    },
    {
     "name": "stdout",
     "output_type": "stream",
     "text": [
      "Epoch 87 - Avg Loss: 1.001143149137497, Avg PSNR (Teacher): 0.0\n",
      "Epoch 87/500, Avg Loss: 1.001143, Avg Teacher PSNR: 0.00\n",
      "Saved Best Model (Loss: 1.001143, PSNR: 0.00)\n",
      "Epoch 88/500\n"
     ]
    },
    {
     "name": "stdout",
     "output_type": "stream",
     "text": [
      "Epoch 88 - Avg Loss: 1.0011434235572816, Avg PSNR (Teacher): 0.0\n",
      "Epoch 88/500, Avg Loss: 1.001143, Avg Teacher PSNR: 0.00\n",
      "Saved Best Model (Loss: 1.001143, PSNR: 0.00)\n",
      "Epoch 89/500\n"
     ]
    },
    {
     "name": "stdout",
     "output_type": "stream",
     "text": [
      "Epoch 89 - Avg Loss: 1.0011432013511659, Avg PSNR (Teacher): 0.0\n",
      "Epoch 89/500, Avg Loss: 1.001143, Avg Teacher PSNR: 0.00\n",
      "Saved Best Model (Loss: 1.001143, PSNR: 0.00)\n",
      "Epoch 90/500\n"
     ]
    },
    {
     "name": "stdout",
     "output_type": "stream",
     "text": [
      "Epoch 90 - Avg Loss: 1.0011431260903676, Avg PSNR (Teacher): 0.0\n",
      "Epoch 90/500, Avg Loss: 1.001143, Avg Teacher PSNR: 0.00\n",
      "Saved Best Model (Loss: 1.001143, PSNR: 0.00)\n",
      "Epoch 91/500\n"
     ]
    },
    {
     "name": "stdout",
     "output_type": "stream",
     "text": [
      "Epoch 91 - Avg Loss: 1.0011432483196259, Avg PSNR (Teacher): 0.0\n",
      "Epoch 91/500, Avg Loss: 1.001143, Avg Teacher PSNR: 0.00\n",
      "Saved Best Model (Loss: 1.001143, PSNR: 0.00)\n",
      "Epoch 92/500\n"
     ]
    },
    {
     "name": "stdout",
     "output_type": "stream",
     "text": [
      "Epoch 92 - Avg Loss: 1.001143336693446, Avg PSNR (Teacher): 0.0\n",
      "Epoch 92/500, Avg Loss: 1.001143, Avg Teacher PSNR: 0.00\n",
      "Saved Best Model (Loss: 1.001143, PSNR: 0.00)\n",
      "Epoch 93/500\n"
     ]
    },
    {
     "name": "stdout",
     "output_type": "stream",
     "text": [
      "Epoch 93 - Avg Loss: 1.0011431817213694, Avg PSNR (Teacher): 0.0\n",
      "Epoch 93/500, Avg Loss: 1.001143, Avg Teacher PSNR: 0.00\n",
      "Saved Best Model (Loss: 1.001143, PSNR: 0.00)\n",
      "Epoch 94/500\n"
     ]
    },
    {
     "name": "stdout",
     "output_type": "stream",
     "text": [
      "Epoch 94 - Avg Loss: 1.0011430152257283, Avg PSNR (Teacher): 0.0\n",
      "Epoch 94/500, Avg Loss: 1.001143, Avg Teacher PSNR: 0.00\n",
      "Saved Best Model (Loss: 1.001143, PSNR: 0.00)\n",
      "Epoch 95/500\n"
     ]
    },
    {
     "name": "stdout",
     "output_type": "stream",
     "text": [
      "Epoch 95 - Avg Loss: 1.0011431227525076, Avg PSNR (Teacher): 0.0\n",
      "Epoch 95/500, Avg Loss: 1.001143, Avg Teacher PSNR: 0.00\n",
      "Saved Best Model (Loss: 1.001143, PSNR: 0.00)\n",
      "Epoch 96/500\n"
     ]
    },
    {
     "name": "stdout",
     "output_type": "stream",
     "text": [
      "Epoch 96 - Avg Loss: 1.0011435300509135, Avg PSNR (Teacher): 0.0\n",
      "Epoch 96/500, Avg Loss: 1.001144, Avg Teacher PSNR: 0.00\n",
      "Saved Best Model (Loss: 1.001144, PSNR: 0.00)\n",
      "Epoch 97/500\n"
     ]
    },
    {
     "name": "stdout",
     "output_type": "stream",
     "text": [
      "Epoch 97 - Avg Loss: 1.001142748594284, Avg PSNR (Teacher): 0.0\n",
      "Epoch 97/500, Avg Loss: 1.001143, Avg Teacher PSNR: 0.00\n",
      "Saved Best Model (Loss: 1.001143, PSNR: 0.00)\n",
      "Epoch 98/500\n"
     ]
    },
    {
     "name": "stdout",
     "output_type": "stream",
     "text": [
      "Epoch 98 - Avg Loss: 1.0011432588895162, Avg PSNR (Teacher): 0.0\n",
      "Epoch 98/500, Avg Loss: 1.001143, Avg Teacher PSNR: 0.00\n",
      "Saved Best Model (Loss: 1.001143, PSNR: 0.00)\n",
      "Epoch 99/500\n"
     ]
    },
    {
     "name": "stdout",
     "output_type": "stream",
     "text": [
      "Epoch 99 - Avg Loss: 1.0011432899634043, Avg PSNR (Teacher): 0.0\n",
      "Epoch 99/500, Avg Loss: 1.001143, Avg Teacher PSNR: 0.00\n",
      "Saved Best Model (Loss: 1.001143, PSNR: 0.00)\n",
      "Epoch 100/500\n"
     ]
    },
    {
     "name": "stdout",
     "output_type": "stream",
     "text": [
      "Epoch 100 - Avg Loss: 1.001143342812856, Avg PSNR (Teacher): 0.0\n",
      "Epoch 100/500, Avg Loss: 1.001143, Avg Teacher PSNR: 0.00\n",
      "Saved Best Model (Loss: 1.001143, PSNR: 0.00)\n",
      "Epoch 101/500\n"
     ]
    },
    {
     "name": "stdout",
     "output_type": "stream",
     "text": [
      "Epoch 101 - Avg Loss: 1.0011434171994527, Avg PSNR (Teacher): 0.0\n",
      "Epoch 101/500, Avg Loss: 1.001143, Avg Teacher PSNR: 0.00\n",
      "Saved Best Model (Loss: 1.001143, PSNR: 0.00)\n",
      "Epoch 102/500\n"
     ]
    },
    {
     "name": "stdout",
     "output_type": "stream",
     "text": [
      "Epoch 102 - Avg Loss: 1.001143136103948, Avg PSNR (Teacher): 0.0\n",
      "Epoch 102/500, Avg Loss: 1.001143, Avg Teacher PSNR: 0.00\n",
      "Saved Best Model (Loss: 1.001143, PSNR: 0.00)\n",
      "Epoch 103/500\n"
     ]
    },
    {
     "name": "stdout",
     "output_type": "stream",
     "text": [
      "Epoch 103 - Avg Loss: 1.0011431290308634, Avg PSNR (Teacher): 0.0\n",
      "Epoch 103/500, Avg Loss: 1.001143, Avg Teacher PSNR: 0.00\n",
      "Saved Best Model (Loss: 1.001143, PSNR: 0.00)\n",
      "Epoch 104/500\n"
     ]
    },
    {
     "name": "stdout",
     "output_type": "stream",
     "text": [
      "Epoch 104 - Avg Loss: 1.0011432936986286, Avg PSNR (Teacher): 0.0\n",
      "Epoch 104/500, Avg Loss: 1.001143, Avg Teacher PSNR: 0.00\n",
      "Saved Best Model (Loss: 1.001143, PSNR: 0.00)\n",
      "Epoch 105/500\n"
     ]
    },
    {
     "name": "stdout",
     "output_type": "stream",
     "text": [
      "Epoch 105 - Avg Loss: 1.001143150806427, Avg PSNR (Teacher): 0.0\n",
      "Epoch 105/500, Avg Loss: 1.001143, Avg Teacher PSNR: 0.00\n",
      "Saved Best Model (Loss: 1.001143, PSNR: 0.00)\n",
      "Epoch 106/500\n"
     ]
    },
    {
     "name": "stdout",
     "output_type": "stream",
     "text": [
      "Epoch 106 - Avg Loss: 1.001143159389496, Avg PSNR (Teacher): 0.0\n",
      "Epoch 106/500, Avg Loss: 1.001143, Avg Teacher PSNR: 0.00\n",
      "Saved Best Model (Loss: 1.001143, PSNR: 0.00)\n",
      "Epoch 107/500\n"
     ]
    },
    {
     "name": "stdout",
     "output_type": "stream",
     "text": [
      "Epoch 107 - Avg Loss: 1.0011432003974914, Avg PSNR (Teacher): 0.0\n",
      "Epoch 107/500, Avg Loss: 1.001143, Avg Teacher PSNR: 0.00\n",
      "Saved Best Model (Loss: 1.001143, PSNR: 0.00)\n",
      "Epoch 108/500\n"
     ]
    },
    {
     "name": "stdout",
     "output_type": "stream",
     "text": [
      "Epoch 108 - Avg Loss: 1.0011432333787282, Avg PSNR (Teacher): 0.0\n",
      "Epoch 108/500, Avg Loss: 1.001143, Avg Teacher PSNR: 0.00\n",
      "Saved Best Model (Loss: 1.001143, PSNR: 0.00)\n",
      "Epoch 109/500\n"
     ]
    },
    {
     "name": "stdout",
     "output_type": "stream",
     "text": [
      "Epoch 109 - Avg Loss: 1.0011430876255036, Avg PSNR (Teacher): 0.0\n",
      "Epoch 109/500, Avg Loss: 1.001143, Avg Teacher PSNR: 0.00\n",
      "Saved Best Model (Loss: 1.001143, PSNR: 0.00)\n",
      "Epoch 110/500\n"
     ]
    },
    {
     "name": "stdout",
     "output_type": "stream",
     "text": [
      "Epoch 110 - Avg Loss: 1.0011432723999023, Avg PSNR (Teacher): 0.0\n",
      "Epoch 110/500, Avg Loss: 1.001143, Avg Teacher PSNR: 0.00\n",
      "Saved Best Model (Loss: 1.001143, PSNR: 0.00)\n",
      "Epoch 111/500\n"
     ]
    },
    {
     "name": "stdout",
     "output_type": "stream",
     "text": [
      "Epoch 111 - Avg Loss: 1.0011436562538147, Avg PSNR (Teacher): 0.0\n",
      "Epoch 111/500, Avg Loss: 1.001144, Avg Teacher PSNR: 0.00\n",
      "Saved Best Model (Loss: 1.001144, PSNR: 0.00)\n",
      "Epoch 112/500\n"
     ]
    },
    {
     "name": "stdout",
     "output_type": "stream",
     "text": [
      "Epoch 112 - Avg Loss: 1.0011432689030966, Avg PSNR (Teacher): 0.0\n",
      "Epoch 112/500, Avg Loss: 1.001143, Avg Teacher PSNR: 0.00\n",
      "Saved Best Model (Loss: 1.001143, PSNR: 0.00)\n",
      "Epoch 113/500\n"
     ]
    },
    {
     "name": "stdout",
     "output_type": "stream",
     "text": [
      "Epoch 113 - Avg Loss: 1.0011428780555724, Avg PSNR (Teacher): 0.0\n",
      "Epoch 113/500, Avg Loss: 1.001143, Avg Teacher PSNR: 0.00\n",
      "Saved Best Model (Loss: 1.001143, PSNR: 0.00)\n",
      "Epoch 114/500\n"
     ]
    },
    {
     "name": "stdout",
     "output_type": "stream",
     "text": [
      "Epoch 114 - Avg Loss: 1.0011428711414336, Avg PSNR (Teacher): 0.0\n",
      "Epoch 114/500, Avg Loss: 1.001143, Avg Teacher PSNR: 0.00\n",
      "Saved Best Model (Loss: 1.001143, PSNR: 0.00)\n",
      "Epoch 115/500\n"
     ]
    },
    {
     "name": "stdout",
     "output_type": "stream",
     "text": [
      "Epoch 115 - Avg Loss: 1.0011428544521332, Avg PSNR (Teacher): 0.0\n",
      "Epoch 115/500, Avg Loss: 1.001143, Avg Teacher PSNR: 0.00\n",
      "Saved Best Model (Loss: 1.001143, PSNR: 0.00)\n",
      "Epoch 116/500\n"
     ]
    },
    {
     "name": "stdout",
     "output_type": "stream",
     "text": [
      "Epoch 116 - Avg Loss: 1.0011432021458944, Avg PSNR (Teacher): 0.0\n",
      "Epoch 116/500, Avg Loss: 1.001143, Avg Teacher PSNR: 0.00\n",
      "Saved Best Model (Loss: 1.001143, PSNR: 0.00)\n",
      "Epoch 117/500\n"
     ]
    },
    {
     "name": "stdout",
     "output_type": "stream",
     "text": [
      "Epoch 117 - Avg Loss: 1.001143283367157, Avg PSNR (Teacher): 0.0\n",
      "Epoch 117/500, Avg Loss: 1.001143, Avg Teacher PSNR: 0.00\n",
      "Saved Best Model (Loss: 1.001143, PSNR: 0.00)\n",
      "Epoch 118/500\n"
     ]
    },
    {
     "name": "stdout",
     "output_type": "stream",
     "text": [
      "Epoch 118 - Avg Loss: 1.001143241405487, Avg PSNR (Teacher): 0.0\n",
      "Epoch 118/500, Avg Loss: 1.001143, Avg Teacher PSNR: 0.00\n",
      "Saved Best Model (Loss: 1.001143, PSNR: 0.00)\n",
      "Epoch 119/500\n"
     ]
    },
    {
     "name": "stdout",
     "output_type": "stream",
     "text": [
      "Epoch 119 - Avg Loss: 1.0011430518627167, Avg PSNR (Teacher): 0.0\n",
      "Epoch 119/500, Avg Loss: 1.001143, Avg Teacher PSNR: 0.00\n",
      "Saved Best Model (Loss: 1.001143, PSNR: 0.00)\n",
      "Epoch 120/500\n"
     ]
    },
    {
     "name": "stdout",
     "output_type": "stream",
     "text": [
      "Epoch 120 - Avg Loss: 1.0011435079574584, Avg PSNR (Teacher): 0.0\n",
      "Epoch 120/500, Avg Loss: 1.001144, Avg Teacher PSNR: 0.00\n",
      "Saved Best Model (Loss: 1.001144, PSNR: 0.00)\n",
      "Epoch 121/500\n"
     ]
    },
    {
     "name": "stdout",
     "output_type": "stream",
     "text": [
      "Epoch 121 - Avg Loss: 1.0011432112058003, Avg PSNR (Teacher): 0.0\n",
      "Epoch 121/500, Avg Loss: 1.001143, Avg Teacher PSNR: 0.00\n",
      "Saved Best Model (Loss: 1.001143, PSNR: 0.00)\n",
      "Epoch 122/500\n"
     ]
    },
    {
     "name": "stdout",
     "output_type": "stream",
     "text": [
      "Epoch 122 - Avg Loss: 1.0011435855229696, Avg PSNR (Teacher): 0.0\n",
      "Epoch 122/500, Avg Loss: 1.001144, Avg Teacher PSNR: 0.00\n",
      "Saved Best Model (Loss: 1.001144, PSNR: 0.00)\n",
      "Epoch 123/500\n"
     ]
    },
    {
     "name": "stdout",
     "output_type": "stream",
     "text": [
      "Epoch 123 - Avg Loss: 1.001143195549647, Avg PSNR (Teacher): 0.0\n",
      "Epoch 123/500, Avg Loss: 1.001143, Avg Teacher PSNR: 0.00\n",
      "Saved Best Model (Loss: 1.001143, PSNR: 0.00)\n",
      "Epoch 124/500\n"
     ]
    },
    {
     "name": "stdout",
     "output_type": "stream",
     "text": [
      "Epoch 124 - Avg Loss: 1.0011436399618785, Avg PSNR (Teacher): 0.0\n",
      "Epoch 124/500, Avg Loss: 1.001144, Avg Teacher PSNR: 0.00\n",
      "Saved Best Model (Loss: 1.001144, PSNR: 0.00)\n",
      "Epoch 125/500\n"
     ]
    },
    {
     "name": "stdout",
     "output_type": "stream",
     "text": [
      "Epoch 125 - Avg Loss: 1.0011428184509277, Avg PSNR (Teacher): 0.0\n",
      "Epoch 125/500, Avg Loss: 1.001143, Avg Teacher PSNR: 0.00\n",
      "Saved Best Model (Loss: 1.001143, PSNR: 0.00)\n",
      "Epoch 126/500\n"
     ]
    },
    {
     "name": "stdout",
     "output_type": "stream",
     "text": [
      "Epoch 126 - Avg Loss: 1.001142979224523, Avg PSNR (Teacher): 0.0\n",
      "Epoch 126/500, Avg Loss: 1.001143, Avg Teacher PSNR: 0.00\n",
      "Saved Best Model (Loss: 1.001143, PSNR: 0.00)\n",
      "Epoch 127/500\n"
     ]
    },
    {
     "name": "stdout",
     "output_type": "stream",
     "text": [
      "Epoch 127 - Avg Loss: 1.001143055677414, Avg PSNR (Teacher): 0.0\n",
      "Epoch 127/500, Avg Loss: 1.001143, Avg Teacher PSNR: 0.00\n",
      "Saved Best Model (Loss: 1.001143, PSNR: 0.00)\n",
      "Epoch 128/500\n"
     ]
    },
    {
     "name": "stdout",
     "output_type": "stream",
     "text": [
      "Epoch 128 - Avg Loss: 1.0011437462170918, Avg PSNR (Teacher): 0.0\n",
      "Epoch 128/500, Avg Loss: 1.001144, Avg Teacher PSNR: 0.00\n",
      "Saved Best Model (Loss: 1.001144, PSNR: 0.00)\n",
      "Epoch 129/500\n"
     ]
    },
    {
     "name": "stdout",
     "output_type": "stream",
     "text": [
      "Epoch 129 - Avg Loss: 1.0011430083910624, Avg PSNR (Teacher): 0.0\n",
      "Epoch 129/500, Avg Loss: 1.001143, Avg Teacher PSNR: 0.00\n",
      "Saved Best Model (Loss: 1.001143, PSNR: 0.00)\n",
      "Epoch 130/500\n"
     ]
    },
    {
     "name": "stdout",
     "output_type": "stream",
     "text": [
      "Epoch 130 - Avg Loss: 1.0011433017253877, Avg PSNR (Teacher): 0.0\n",
      "Epoch 130/500, Avg Loss: 1.001143, Avg Teacher PSNR: 0.00\n",
      "Saved Best Model (Loss: 1.001143, PSNR: 0.00)\n",
      "Epoch 131/500\n"
     ]
    },
    {
     "name": "stdout",
     "output_type": "stream",
     "text": [
      "Epoch 131 - Avg Loss: 1.0011434765656788, Avg PSNR (Teacher): 0.0\n",
      "Epoch 131/500, Avg Loss: 1.001143, Avg Teacher PSNR: 0.00\n",
      "Saved Best Model (Loss: 1.001143, PSNR: 0.00)\n",
      "Epoch 132/500\n"
     ]
    },
    {
     "name": "stdout",
     "output_type": "stream",
     "text": [
      "Epoch 132 - Avg Loss: 1.0011435805161795, Avg PSNR (Teacher): 0.0\n",
      "Epoch 132/500, Avg Loss: 1.001144, Avg Teacher PSNR: 0.00\n",
      "Saved Best Model (Loss: 1.001144, PSNR: 0.00)\n",
      "Epoch 133/500\n"
     ]
    },
    {
     "name": "stdout",
     "output_type": "stream",
     "text": [
      "Epoch 133 - Avg Loss: 1.0011437420050304, Avg PSNR (Teacher): 0.0\n",
      "Epoch 133/500, Avg Loss: 1.001144, Avg Teacher PSNR: 0.00\n",
      "Saved Best Model (Loss: 1.001144, PSNR: 0.00)\n",
      "Epoch 134/500\n"
     ]
    },
    {
     "name": "stdout",
     "output_type": "stream",
     "text": [
      "Epoch 134 - Avg Loss: 1.0011432893276215, Avg PSNR (Teacher): 0.0\n",
      "Epoch 134/500, Avg Loss: 1.001143, Avg Teacher PSNR: 0.00\n",
      "Saved Best Model (Loss: 1.001143, PSNR: 0.00)\n",
      "Epoch 135/500\n"
     ]
    },
    {
     "name": "stdout",
     "output_type": "stream",
     "text": [
      "Epoch 135 - Avg Loss: 1.0011429526805877, Avg PSNR (Teacher): 0.0\n",
      "Epoch 135/500, Avg Loss: 1.001143, Avg Teacher PSNR: 0.00\n",
      "Saved Best Model (Loss: 1.001143, PSNR: 0.00)\n",
      "Epoch 136/500\n"
     ]
    },
    {
     "name": "stdout",
     "output_type": "stream",
     "text": [
      "Epoch 136 - Avg Loss: 1.001142722527186, Avg PSNR (Teacher): 0.0\n",
      "Epoch 136/500, Avg Loss: 1.001143, Avg Teacher PSNR: 0.00\n",
      "Saved Best Model (Loss: 1.001143, PSNR: 0.00)\n",
      "Epoch 137/500\n"
     ]
    },
    {
     "name": "stdout",
     "output_type": "stream",
     "text": [
      "Epoch 137 - Avg Loss: 1.0011438712279002, Avg PSNR (Teacher): 0.0\n",
      "Epoch 137/500, Avg Loss: 1.001144, Avg Teacher PSNR: 0.00\n",
      "Saved Best Model (Loss: 1.001144, PSNR: 0.00)\n",
      "Epoch 138/500\n"
     ]
    },
    {
     "name": "stdout",
     "output_type": "stream",
     "text": [
      "Epoch 138 - Avg Loss: 1.0011432797908784, Avg PSNR (Teacher): 0.0\n",
      "Epoch 138/500, Avg Loss: 1.001143, Avg Teacher PSNR: 0.00\n",
      "Saved Best Model (Loss: 1.001143, PSNR: 0.00)\n",
      "Epoch 139/500\n"
     ]
    },
    {
     "name": "stdout",
     "output_type": "stream",
     "text": [
      "Epoch 139 - Avg Loss: 1.00114342657725, Avg PSNR (Teacher): 0.0\n",
      "Epoch 139/500, Avg Loss: 1.001143, Avg Teacher PSNR: 0.00\n",
      "Saved Best Model (Loss: 1.001143, PSNR: 0.00)\n",
      "Epoch 140/500\n"
     ]
    },
    {
     "name": "stdout",
     "output_type": "stream",
     "text": [
      "Epoch 140 - Avg Loss: 1.001143616437912, Avg PSNR (Teacher): 0.0\n",
      "Epoch 140/500, Avg Loss: 1.001144, Avg Teacher PSNR: 0.00\n",
      "Saved Best Model (Loss: 1.001144, PSNR: 0.00)\n",
      "Epoch 141/500\n"
     ]
    },
    {
     "name": "stdout",
     "output_type": "stream",
     "text": [
      "Epoch 141 - Avg Loss: 1.0011436347166698, Avg PSNR (Teacher): 0.0\n",
      "Epoch 141/500, Avg Loss: 1.001144, Avg Teacher PSNR: 0.00\n",
      "Saved Best Model (Loss: 1.001144, PSNR: 0.00)\n",
      "Epoch 142/500\n"
     ]
    },
    {
     "name": "stdout",
     "output_type": "stream",
     "text": [
      "Epoch 142 - Avg Loss: 1.0011432406107585, Avg PSNR (Teacher): 0.0\n",
      "Epoch 142/500, Avg Loss: 1.001143, Avg Teacher PSNR: 0.00\n",
      "Saved Best Model (Loss: 1.001143, PSNR: 0.00)\n",
      "Epoch 143/500\n"
     ]
    },
    {
     "name": "stdout",
     "output_type": "stream",
     "text": [
      "Epoch 143 - Avg Loss: 1.0011430712540945, Avg PSNR (Teacher): 0.0\n",
      "Epoch 143/500, Avg Loss: 1.001143, Avg Teacher PSNR: 0.00\n",
      "Saved Best Model (Loss: 1.001143, PSNR: 0.00)\n",
      "Epoch 144/500\n"
     ]
    },
    {
     "name": "stdout",
     "output_type": "stream",
     "text": [
      "Epoch 144 - Avg Loss: 1.0011430364449818, Avg PSNR (Teacher): 0.0\n",
      "Epoch 144/500, Avg Loss: 1.001143, Avg Teacher PSNR: 0.00\n",
      "Saved Best Model (Loss: 1.001143, PSNR: 0.00)\n",
      "Epoch 145/500\n"
     ]
    },
    {
     "name": "stdout",
     "output_type": "stream",
     "text": [
      "Epoch 145 - Avg Loss: 1.001143281062444, Avg PSNR (Teacher): 0.0\n",
      "Epoch 145/500, Avg Loss: 1.001143, Avg Teacher PSNR: 0.00\n",
      "Saved Best Model (Loss: 1.001143, PSNR: 0.00)\n",
      "Epoch 146/500\n"
     ]
    },
    {
     "name": "stdout",
     "output_type": "stream",
     "text": [
      "Epoch 146 - Avg Loss: 1.0011432038148245, Avg PSNR (Teacher): 0.0\n",
      "Epoch 146/500, Avg Loss: 1.001143, Avg Teacher PSNR: 0.00\n",
      "Saved Best Model (Loss: 1.001143, PSNR: 0.00)\n",
      "Epoch 147/500\n"
     ]
    },
    {
     "name": "stdout",
     "output_type": "stream",
     "text": [
      "Epoch 147 - Avg Loss: 1.0011435708999634, Avg PSNR (Teacher): 0.0\n",
      "Epoch 147/500, Avg Loss: 1.001144, Avg Teacher PSNR: 0.00\n",
      "Saved Best Model (Loss: 1.001144, PSNR: 0.00)\n",
      "Epoch 148/500\n"
     ]
    },
    {
     "name": "stdout",
     "output_type": "stream",
     "text": [
      "Epoch 148 - Avg Loss: 1.0011435774167379, Avg PSNR (Teacher): 0.0\n",
      "Epoch 148/500, Avg Loss: 1.001144, Avg Teacher PSNR: 0.00\n",
      "Saved Best Model (Loss: 1.001144, PSNR: 0.00)\n",
      "Epoch 149/500\n"
     ]
    },
    {
     "name": "stdout",
     "output_type": "stream",
     "text": [
      "Epoch 149 - Avg Loss: 1.0011434574921927, Avg PSNR (Teacher): 0.0\n",
      "Epoch 149/500, Avg Loss: 1.001143, Avg Teacher PSNR: 0.00\n",
      "Saved Best Model (Loss: 1.001143, PSNR: 0.00)\n",
      "Epoch 150/500\n"
     ]
    },
    {
     "name": "stdout",
     "output_type": "stream",
     "text": [
      "Epoch 150 - Avg Loss: 1.0011431495348613, Avg PSNR (Teacher): 0.0\n",
      "Epoch 150/500, Avg Loss: 1.001143, Avg Teacher PSNR: 0.00\n",
      "Saved Best Model (Loss: 1.001143, PSNR: 0.00)\n",
      "Epoch 151/500\n"
     ]
    },
    {
     "name": "stdout",
     "output_type": "stream",
     "text": [
      "Epoch 151 - Avg Loss: 1.0011427583694459, Avg PSNR (Teacher): 0.0\n",
      "Epoch 151/500, Avg Loss: 1.001143, Avg Teacher PSNR: 0.00\n",
      "Saved Best Model (Loss: 1.001143, PSNR: 0.00)\n",
      "Epoch 152/500\n"
     ]
    },
    {
     "name": "stdout",
     "output_type": "stream",
     "text": [
      "Epoch 152 - Avg Loss: 1.0011430008411408, Avg PSNR (Teacher): 0.0\n",
      "Epoch 152/500, Avg Loss: 1.001143, Avg Teacher PSNR: 0.00\n",
      "Saved Best Model (Loss: 1.001143, PSNR: 0.00)\n",
      "Epoch 153/500\n"
     ]
    },
    {
     "name": "stdout",
     "output_type": "stream",
     "text": [
      "Epoch 153 - Avg Loss: 1.0011432758172354, Avg PSNR (Teacher): 0.0\n",
      "Epoch 153/500, Avg Loss: 1.001143, Avg Teacher PSNR: 0.00\n",
      "Saved Best Model (Loss: 1.001143, PSNR: 0.00)\n",
      "Epoch 154/500\n"
     ]
    },
    {
     "name": "stdout",
     "output_type": "stream",
     "text": [
      "Epoch 154 - Avg Loss: 1.0011435793240866, Avg PSNR (Teacher): 0.0\n",
      "Epoch 154/500, Avg Loss: 1.001144, Avg Teacher PSNR: 0.00\n",
      "Saved Best Model (Loss: 1.001144, PSNR: 0.00)\n",
      "Epoch 155/500\n"
     ]
    },
    {
     "name": "stdout",
     "output_type": "stream",
     "text": [
      "Epoch 155 - Avg Loss: 1.001143755674362, Avg PSNR (Teacher): 0.0\n",
      "Epoch 155/500, Avg Loss: 1.001144, Avg Teacher PSNR: 0.00\n",
      "Saved Best Model (Loss: 1.001144, PSNR: 0.00)\n",
      "Epoch 156/500\n"
     ]
    },
    {
     "name": "stdout",
     "output_type": "stream",
     "text": [
      "Epoch 156 - Avg Loss: 1.0011433781782786, Avg PSNR (Teacher): 0.0\n",
      "Epoch 156/500, Avg Loss: 1.001143, Avg Teacher PSNR: 0.00\n",
      "Saved Best Model (Loss: 1.001143, PSNR: 0.00)\n",
      "Epoch 157/500\n"
     ]
    },
    {
     "name": "stdout",
     "output_type": "stream",
     "text": [
      "Epoch 157 - Avg Loss: 1.0011430377960204, Avg PSNR (Teacher): 0.0\n",
      "Epoch 157/500, Avg Loss: 1.001143, Avg Teacher PSNR: 0.00\n",
      "Saved Best Model (Loss: 1.001143, PSNR: 0.00)\n",
      "Epoch 158/500\n"
     ]
    },
    {
     "name": "stdout",
     "output_type": "stream",
     "text": [
      "Epoch 158 - Avg Loss: 1.0011435248057048, Avg PSNR (Teacher): 0.0\n",
      "Epoch 158/500, Avg Loss: 1.001144, Avg Teacher PSNR: 0.00\n",
      "Saved Best Model (Loss: 1.001144, PSNR: 0.00)\n",
      "Epoch 159/500\n"
     ]
    },
    {
     "name": "stdout",
     "output_type": "stream",
     "text": [
      "Epoch 159 - Avg Loss: 1.0011437615553538, Avg PSNR (Teacher): 0.0\n",
      "Epoch 159/500, Avg Loss: 1.001144, Avg Teacher PSNR: 0.00\n",
      "Saved Best Model (Loss: 1.001144, PSNR: 0.00)\n",
      "Epoch 160/500\n"
     ]
    },
    {
     "name": "stdout",
     "output_type": "stream",
     "text": [
      "Epoch 160 - Avg Loss: 1.0011430002848307, Avg PSNR (Teacher): 0.0\n",
      "Epoch 160/500, Avg Loss: 1.001143, Avg Teacher PSNR: 0.00\n",
      "Saved Best Model (Loss: 1.001143, PSNR: 0.00)\n",
      "Epoch 161/500\n"
     ]
    },
    {
     "name": "stdout",
     "output_type": "stream",
     "text": [
      "Epoch 161 - Avg Loss: 1.0011434044837952, Avg PSNR (Teacher): 0.0\n",
      "Epoch 161/500, Avg Loss: 1.001143, Avg Teacher PSNR: 0.00\n",
      "Saved Best Model (Loss: 1.001143, PSNR: 0.00)\n",
      "Epoch 162/500\n"
     ]
    },
    {
     "name": "stdout",
     "output_type": "stream",
     "text": [
      "Epoch 162 - Avg Loss: 1.0011433543364208, Avg PSNR (Teacher): 0.0\n",
      "Epoch 162/500, Avg Loss: 1.001143, Avg Teacher PSNR: 0.00\n",
      "Saved Best Model (Loss: 1.001143, PSNR: 0.00)\n",
      "Epoch 163/500\n"
     ]
    },
    {
     "name": "stdout",
     "output_type": "stream",
     "text": [
      "Epoch 163 - Avg Loss: 1.0011440140406291, Avg PSNR (Teacher): 0.0\n",
      "Epoch 163/500, Avg Loss: 1.001144, Avg Teacher PSNR: 0.00\n",
      "Saved Best Model (Loss: 1.001144, PSNR: 0.00)\n",
      "Epoch 164/500\n"
     ]
    },
    {
     "name": "stdout",
     "output_type": "stream",
     "text": [
      "Epoch 164 - Avg Loss: 1.0011434814135234, Avg PSNR (Teacher): 0.0\n",
      "Epoch 164/500, Avg Loss: 1.001143, Avg Teacher PSNR: 0.00\n",
      "Saved Best Model (Loss: 1.001143, PSNR: 0.00)\n",
      "Epoch 165/500\n"
     ]
    },
    {
     "name": "stdout",
     "output_type": "stream",
     "text": [
      "Epoch 165 - Avg Loss: 1.001143407901128, Avg PSNR (Teacher): 0.0\n",
      "Epoch 165/500, Avg Loss: 1.001143, Avg Teacher PSNR: 0.00\n",
      "Saved Best Model (Loss: 1.001143, PSNR: 0.00)\n",
      "Epoch 166/500\n"
     ]
    },
    {
     "name": "stdout",
     "output_type": "stream",
     "text": [
      "Epoch 166 - Avg Loss: 1.0011428712209065, Avg PSNR (Teacher): 0.0\n",
      "Epoch 166/500, Avg Loss: 1.001143, Avg Teacher PSNR: 0.00\n",
      "Saved Best Model (Loss: 1.001143, PSNR: 0.00)\n",
      "Epoch 167/500\n"
     ]
    },
    {
     "name": "stdout",
     "output_type": "stream",
     "text": [
      "Epoch 167 - Avg Loss: 1.0011436961491902, Avg PSNR (Teacher): 0.0\n",
      "Epoch 167/500, Avg Loss: 1.001144, Avg Teacher PSNR: 0.00\n",
      "Saved Best Model (Loss: 1.001144, PSNR: 0.00)\n",
      "Epoch 168/500\n"
     ]
    },
    {
     "name": "stdout",
     "output_type": "stream",
     "text": [
      "Epoch 168 - Avg Loss: 1.0011432065963746, Avg PSNR (Teacher): 0.0\n",
      "Epoch 168/500, Avg Loss: 1.001143, Avg Teacher PSNR: 0.00\n",
      "Saved Best Model (Loss: 1.001143, PSNR: 0.00)\n",
      "Epoch 169/500\n"
     ]
    },
    {
     "name": "stdout",
     "output_type": "stream",
     "text": [
      "Epoch 169 - Avg Loss: 1.0011427075068156, Avg PSNR (Teacher): 0.0\n",
      "Epoch 169/500, Avg Loss: 1.001143, Avg Teacher PSNR: 0.00\n",
      "Saved Best Model (Loss: 1.001143, PSNR: 0.00)\n",
      "Epoch 170/500\n"
     ]
    },
    {
     "name": "stdout",
     "output_type": "stream",
     "text": [
      "Epoch 170 - Avg Loss: 1.0011428487300873, Avg PSNR (Teacher): 0.0\n",
      "Epoch 170/500, Avg Loss: 1.001143, Avg Teacher PSNR: 0.00\n",
      "Saved Best Model (Loss: 1.001143, PSNR: 0.00)\n",
      "Epoch 171/500\n"
     ]
    },
    {
     "name": "stdout",
     "output_type": "stream",
     "text": [
      "Epoch 171 - Avg Loss: 1.0011432511806488, Avg PSNR (Teacher): 0.0\n",
      "Epoch 171/500, Avg Loss: 1.001143, Avg Teacher PSNR: 0.00\n",
      "Saved Best Model (Loss: 1.001143, PSNR: 0.00)\n",
      "Epoch 172/500\n"
     ]
    },
    {
     "name": "stdout",
     "output_type": "stream",
     "text": [
      "Epoch 172 - Avg Loss: 1.0011436468760173, Avg PSNR (Teacher): 0.0\n",
      "Epoch 172/500, Avg Loss: 1.001144, Avg Teacher PSNR: 0.00\n",
      "Saved Best Model (Loss: 1.001144, PSNR: 0.00)\n",
      "Epoch 173/500\n"
     ]
    },
    {
     "name": "stdout",
     "output_type": "stream",
     "text": [
      "Epoch 173 - Avg Loss: 1.0011434482733408, Avg PSNR (Teacher): 0.0\n",
      "Epoch 173/500, Avg Loss: 1.001143, Avg Teacher PSNR: 0.00\n",
      "Saved Best Model (Loss: 1.001143, PSNR: 0.00)\n",
      "Epoch 174/500\n"
     ]
    },
    {
     "name": "stdout",
     "output_type": "stream",
     "text": [
      "Epoch 174 - Avg Loss: 1.0011436932086946, Avg PSNR (Teacher): 0.0\n",
      "Epoch 174/500, Avg Loss: 1.001144, Avg Teacher PSNR: 0.00\n",
      "Saved Best Model (Loss: 1.001144, PSNR: 0.00)\n",
      "Epoch 175/500\n"
     ]
    },
    {
     "name": "stdout",
     "output_type": "stream",
     "text": [
      "Epoch 175 - Avg Loss: 1.0011434120337168, Avg PSNR (Teacher): 0.0\n",
      "Epoch 175/500, Avg Loss: 1.001143, Avg Teacher PSNR: 0.00\n",
      "Saved Best Model (Loss: 1.001143, PSNR: 0.00)\n",
      "Epoch 176/500\n"
     ]
    },
    {
     "name": "stdout",
     "output_type": "stream",
     "text": [
      "Epoch 176 - Avg Loss: 1.0011429716746012, Avg PSNR (Teacher): 0.0\n",
      "Epoch 176/500, Avg Loss: 1.001143, Avg Teacher PSNR: 0.00\n",
      "Saved Best Model (Loss: 1.001143, PSNR: 0.00)\n",
      "Epoch 177/500\n"
     ]
    },
    {
     "name": "stdout",
     "output_type": "stream",
     "text": [
      "Epoch 177 - Avg Loss: 1.0011432672341665, Avg PSNR (Teacher): 0.0\n",
      "Epoch 177/500, Avg Loss: 1.001143, Avg Teacher PSNR: 0.00\n",
      "Saved Best Model (Loss: 1.001143, PSNR: 0.00)\n",
      "Epoch 178/500\n"
     ]
    },
    {
     "name": "stdout",
     "output_type": "stream",
     "text": [
      "Epoch 178 - Avg Loss: 1.0011431798934936, Avg PSNR (Teacher): 0.0\n",
      "Epoch 178/500, Avg Loss: 1.001143, Avg Teacher PSNR: 0.00\n",
      "Saved Best Model (Loss: 1.001143, PSNR: 0.00)\n",
      "Epoch 179/500\n"
     ]
    },
    {
     "name": "stdout",
     "output_type": "stream",
     "text": [
      "Epoch 179 - Avg Loss: 1.0011436975797017, Avg PSNR (Teacher): 0.0\n",
      "Epoch 179/500, Avg Loss: 1.001144, Avg Teacher PSNR: 0.00\n",
      "Saved Best Model (Loss: 1.001144, PSNR: 0.00)\n",
      "Epoch 180/500\n"
     ]
    },
    {
     "name": "stdout",
     "output_type": "stream",
     "text": [
      "Epoch 180 - Avg Loss: 1.0011438532670338, Avg PSNR (Teacher): 0.0\n",
      "Epoch 180/500, Avg Loss: 1.001144, Avg Teacher PSNR: 0.00\n",
      "Saved Best Model (Loss: 1.001144, PSNR: 0.00)\n",
      "Epoch 181/500\n"
     ]
    },
    {
     "name": "stdout",
     "output_type": "stream",
     "text": [
      "Epoch 181 - Avg Loss: 1.0011427765687306, Avg PSNR (Teacher): 0.0\n",
      "Epoch 181/500, Avg Loss: 1.001143, Avg Teacher PSNR: 0.00\n",
      "Saved Best Model (Loss: 1.001143, PSNR: 0.00)\n",
      "Epoch 182/500\n"
     ]
    },
    {
     "name": "stdout",
     "output_type": "stream",
     "text": [
      "Epoch 182 - Avg Loss: 1.0011429119904836, Avg PSNR (Teacher): 0.0\n",
      "Epoch 182/500, Avg Loss: 1.001143, Avg Teacher PSNR: 0.00\n",
      "Saved Best Model (Loss: 1.001143, PSNR: 0.00)\n",
      "Epoch 183/500\n"
     ]
    },
    {
     "name": "stdout",
     "output_type": "stream",
     "text": [
      "Epoch 183 - Avg Loss: 1.0011430587768555, Avg PSNR (Teacher): 0.0\n",
      "Epoch 183/500, Avg Loss: 1.001143, Avg Teacher PSNR: 0.00\n",
      "Saved Best Model (Loss: 1.001143, PSNR: 0.00)\n",
      "Epoch 184/500\n"
     ]
    },
    {
     "name": "stdout",
     "output_type": "stream",
     "text": [
      "Epoch 184 - Avg Loss: 1.0011436723868052, Avg PSNR (Teacher): 0.0\n",
      "Epoch 184/500, Avg Loss: 1.001144, Avg Teacher PSNR: 0.00\n",
      "Saved Best Model (Loss: 1.001144, PSNR: 0.00)\n",
      "Epoch 185/500\n"
     ]
    },
    {
     "name": "stdout",
     "output_type": "stream",
     "text": [
      "Epoch 185 - Avg Loss: 1.0011430481274923, Avg PSNR (Teacher): 0.0\n",
      "Epoch 185/500, Avg Loss: 1.001143, Avg Teacher PSNR: 0.00\n",
      "Saved Best Model (Loss: 1.001143, PSNR: 0.00)\n",
      "Epoch 186/500\n"
     ]
    },
    {
     "name": "stdout",
     "output_type": "stream",
     "text": [
      "Epoch 186 - Avg Loss: 1.0011434707641602, Avg PSNR (Teacher): 0.0\n",
      "Epoch 186/500, Avg Loss: 1.001143, Avg Teacher PSNR: 0.00\n",
      "Saved Best Model (Loss: 1.001143, PSNR: 0.00)\n",
      "Epoch 187/500\n"
     ]
    },
    {
     "name": "stdout",
     "output_type": "stream",
     "text": [
      "Epoch 187 - Avg Loss: 1.0011428308486938, Avg PSNR (Teacher): 0.0\n",
      "Epoch 187/500, Avg Loss: 1.001143, Avg Teacher PSNR: 0.00\n",
      "Saved Best Model (Loss: 1.001143, PSNR: 0.00)\n",
      "Epoch 188/500\n"
     ]
    },
    {
     "name": "stdout",
     "output_type": "stream",
     "text": [
      "Epoch 188 - Avg Loss: 1.0011429419517517, Avg PSNR (Teacher): 0.0\n",
      "Epoch 188/500, Avg Loss: 1.001143, Avg Teacher PSNR: 0.00\n",
      "Saved Best Model (Loss: 1.001143, PSNR: 0.00)\n",
      "Epoch 189/500\n"
     ]
    },
    {
     "name": "stdout",
     "output_type": "stream",
     "text": [
      "Epoch 189 - Avg Loss: 1.001143771648407, Avg PSNR (Teacher): 0.0\n",
      "Epoch 189/500, Avg Loss: 1.001144, Avg Teacher PSNR: 0.00\n",
      "Saved Best Model (Loss: 1.001144, PSNR: 0.00)\n",
      "Epoch 190/500\n"
     ]
    },
    {
     "name": "stdout",
     "output_type": "stream",
     "text": [
      "Epoch 190 - Avg Loss: 1.0011431988080342, Avg PSNR (Teacher): 0.0\n",
      "Epoch 190/500, Avg Loss: 1.001143, Avg Teacher PSNR: 0.00\n",
      "Saved Best Model (Loss: 1.001143, PSNR: 0.00)\n",
      "Epoch 191/500\n"
     ]
    },
    {
     "name": "stdout",
     "output_type": "stream",
     "text": [
      "Epoch 191 - Avg Loss: 1.0011433420181275, Avg PSNR (Teacher): 0.0\n",
      "Epoch 191/500, Avg Loss: 1.001143, Avg Teacher PSNR: 0.00\n",
      "Saved Best Model (Loss: 1.001143, PSNR: 0.00)\n",
      "Epoch 192/500\n"
     ]
    },
    {
     "name": "stdout",
     "output_type": "stream",
     "text": [
      "Epoch 192 - Avg Loss: 1.001143209695816, Avg PSNR (Teacher): 0.0\n",
      "Epoch 192/500, Avg Loss: 1.001143, Avg Teacher PSNR: 0.00\n",
      "Saved Best Model (Loss: 1.001143, PSNR: 0.00)\n",
      "Epoch 193/500\n"
     ]
    },
    {
     "name": "stdout",
     "output_type": "stream",
     "text": [
      "Epoch 193 - Avg Loss: 1.0011437530517577, Avg PSNR (Teacher): 0.0\n",
      "Epoch 193/500, Avg Loss: 1.001144, Avg Teacher PSNR: 0.00\n",
      "Saved Best Model (Loss: 1.001144, PSNR: 0.00)\n",
      "Epoch 194/500\n"
     ]
    },
    {
     "name": "stdout",
     "output_type": "stream",
     "text": [
      "Epoch 194 - Avg Loss: 1.001143522898356, Avg PSNR (Teacher): 0.0\n",
      "Epoch 194/500, Avg Loss: 1.001144, Avg Teacher PSNR: 0.00\n",
      "Saved Best Model (Loss: 1.001144, PSNR: 0.00)\n",
      "Epoch 195/500\n"
     ]
    },
    {
     "name": "stdout",
     "output_type": "stream",
     "text": [
      "Epoch 195 - Avg Loss: 1.0011439658006032, Avg PSNR (Teacher): 0.0\n",
      "Epoch 195/500, Avg Loss: 1.001144, Avg Teacher PSNR: 0.00\n",
      "Saved Best Model (Loss: 1.001144, PSNR: 0.00)\n",
      "Epoch 196/500\n"
     ]
    },
    {
     "name": "stdout",
     "output_type": "stream",
     "text": [
      "Epoch 196 - Avg Loss: 1.0011435349782307, Avg PSNR (Teacher): 0.0\n",
      "Epoch 196/500, Avg Loss: 1.001144, Avg Teacher PSNR: 0.00\n",
      "Saved Best Model (Loss: 1.001144, PSNR: 0.00)\n",
      "Epoch 197/500\n"
     ]
    },
    {
     "name": "stdout",
     "output_type": "stream",
     "text": [
      "Epoch 197 - Avg Loss: 1.0011432445049286, Avg PSNR (Teacher): 0.0\n",
      "Epoch 197/500, Avg Loss: 1.001143, Avg Teacher PSNR: 0.00\n",
      "Saved Best Model (Loss: 1.001143, PSNR: 0.00)\n",
      "Epoch 198/500\n"
     ]
    },
    {
     "name": "stdout",
     "output_type": "stream",
     "text": [
      "Epoch 198 - Avg Loss: 1.0011437067985534, Avg PSNR (Teacher): 0.0\n",
      "Epoch 198/500, Avg Loss: 1.001144, Avg Teacher PSNR: 0.00\n",
      "Saved Best Model (Loss: 1.001144, PSNR: 0.00)\n",
      "Epoch 199/500\n"
     ]
    },
    {
     "name": "stdout",
     "output_type": "stream",
     "text": [
      "Epoch 199 - Avg Loss: 1.0011431000232696, Avg PSNR (Teacher): 0.0\n",
      "Epoch 199/500, Avg Loss: 1.001143, Avg Teacher PSNR: 0.00\n",
      "Saved Best Model (Loss: 1.001143, PSNR: 0.00)\n",
      "Epoch 200/500\n"
     ]
    },
    {
     "name": "stdout",
     "output_type": "stream",
     "text": [
      "Epoch 200 - Avg Loss: 1.001143320163091, Avg PSNR (Teacher): 0.0\n",
      "Epoch 200/500, Avg Loss: 1.001143, Avg Teacher PSNR: 0.00\n",
      "Saved Best Model (Loss: 1.001143, PSNR: 0.00)\n",
      "Epoch 201/500\n"
     ]
    },
    {
     "name": "stdout",
     "output_type": "stream",
     "text": [
      "Epoch 201 - Avg Loss: 1.0011432514190675, Avg PSNR (Teacher): 0.0\n",
      "Epoch 201/500, Avg Loss: 1.001143, Avg Teacher PSNR: 0.00\n",
      "Saved Best Model (Loss: 1.001143, PSNR: 0.00)\n",
      "Epoch 202/500\n"
     ]
    },
    {
     "name": "stdout",
     "output_type": "stream",
     "text": [
      "Epoch 202 - Avg Loss: 1.0011430474122365, Avg PSNR (Teacher): 0.0\n",
      "Epoch 202/500, Avg Loss: 1.001143, Avg Teacher PSNR: 0.00\n",
      "Saved Best Model (Loss: 1.001143, PSNR: 0.00)\n",
      "Epoch 203/500\n"
     ]
    },
    {
     "name": "stdout",
     "output_type": "stream",
     "text": [
      "Epoch 203 - Avg Loss: 1.0011431047121684, Avg PSNR (Teacher): 0.0\n",
      "Epoch 203/500, Avg Loss: 1.001143, Avg Teacher PSNR: 0.00\n",
      "Saved Best Model (Loss: 1.001143, PSNR: 0.00)\n",
      "Epoch 204/500\n"
     ]
    },
    {
     "name": "stdout",
     "output_type": "stream",
     "text": [
      "Epoch 204 - Avg Loss: 1.0011437074343363, Avg PSNR (Teacher): 0.0\n",
      "Epoch 204/500, Avg Loss: 1.001144, Avg Teacher PSNR: 0.00\n",
      "Saved Best Model (Loss: 1.001144, PSNR: 0.00)\n",
      "Epoch 205/500\n"
     ]
    },
    {
     "name": "stdout",
     "output_type": "stream",
     "text": [
      "Epoch 205 - Avg Loss: 1.0011430778503418, Avg PSNR (Teacher): 0.0\n",
      "Epoch 205/500, Avg Loss: 1.001143, Avg Teacher PSNR: 0.00\n",
      "Saved Best Model (Loss: 1.001143, PSNR: 0.00)\n",
      "Epoch 206/500\n"
     ]
    },
    {
     "name": "stdout",
     "output_type": "stream",
     "text": [
      "Epoch 206 - Avg Loss: 1.0011428621610006, Avg PSNR (Teacher): 0.0\n",
      "Epoch 206/500, Avg Loss: 1.001143, Avg Teacher PSNR: 0.00\n",
      "Saved Best Model (Loss: 1.001143, PSNR: 0.00)\n",
      "Epoch 207/500\n"
     ]
    },
    {
     "name": "stdout",
     "output_type": "stream",
     "text": [
      "Epoch 207 - Avg Loss: 1.0011434489091238, Avg PSNR (Teacher): 0.0\n",
      "Epoch 207/500, Avg Loss: 1.001143, Avg Teacher PSNR: 0.00\n",
      "Saved Best Model (Loss: 1.001143, PSNR: 0.00)\n",
      "Epoch 208/500\n"
     ]
    },
    {
     "name": "stdout",
     "output_type": "stream",
     "text": [
      "Epoch 208 - Avg Loss: 1.0011434375445047, Avg PSNR (Teacher): 0.0\n",
      "Epoch 208/500, Avg Loss: 1.001143, Avg Teacher PSNR: 0.00\n",
      "Saved Best Model (Loss: 1.001143, PSNR: 0.00)\n",
      "Epoch 209/500\n"
     ]
    },
    {
     "name": "stdout",
     "output_type": "stream",
     "text": [
      "Epoch 209 - Avg Loss: 1.0011432296435039, Avg PSNR (Teacher): 0.0\n",
      "Epoch 209/500, Avg Loss: 1.001143, Avg Teacher PSNR: 0.00\n",
      "Saved Best Model (Loss: 1.001143, PSNR: 0.00)\n",
      "Epoch 210/500\n"
     ]
    },
    {
     "name": "stdout",
     "output_type": "stream",
     "text": [
      "Epoch 210 - Avg Loss: 1.0011433136463166, Avg PSNR (Teacher): 0.0\n",
      "Epoch 210/500, Avg Loss: 1.001143, Avg Teacher PSNR: 0.00\n",
      "Saved Best Model (Loss: 1.001143, PSNR: 0.00)\n",
      "Epoch 211/500\n"
     ]
    },
    {
     "name": "stdout",
     "output_type": "stream",
     "text": [
      "Epoch 211 - Avg Loss: 1.0011432576974233, Avg PSNR (Teacher): 0.0\n",
      "Epoch 211/500, Avg Loss: 1.001143, Avg Teacher PSNR: 0.00\n",
      "Saved Best Model (Loss: 1.001143, PSNR: 0.00)\n",
      "Epoch 212/500\n"
     ]
    },
    {
     "name": "stdout",
     "output_type": "stream",
     "text": [
      "Epoch 212 - Avg Loss: 1.0011431645552318, Avg PSNR (Teacher): 0.0\n",
      "Epoch 212/500, Avg Loss: 1.001143, Avg Teacher PSNR: 0.00\n",
      "Saved Best Model (Loss: 1.001143, PSNR: 0.00)\n",
      "Epoch 213/500\n"
     ]
    },
    {
     "name": "stdout",
     "output_type": "stream",
     "text": [
      "Epoch 213 - Avg Loss: 1.001143138329188, Avg PSNR (Teacher): 0.0\n",
      "Epoch 213/500, Avg Loss: 1.001143, Avg Teacher PSNR: 0.00\n",
      "Saved Best Model (Loss: 1.001143, PSNR: 0.00)\n",
      "Epoch 214/500\n"
     ]
    },
    {
     "name": "stdout",
     "output_type": "stream",
     "text": [
      "Epoch 214 - Avg Loss: 1.001143098115921, Avg PSNR (Teacher): 0.0\n",
      "Epoch 214/500, Avg Loss: 1.001143, Avg Teacher PSNR: 0.00\n",
      "Saved Best Model (Loss: 1.001143, PSNR: 0.00)\n",
      "Epoch 215/500\n"
     ]
    },
    {
     "name": "stdout",
     "output_type": "stream",
     "text": [
      "Epoch 215 - Avg Loss: 1.001143178542455, Avg PSNR (Teacher): 0.0\n",
      "Epoch 215/500, Avg Loss: 1.001143, Avg Teacher PSNR: 0.00\n",
      "Saved Best Model (Loss: 1.001143, PSNR: 0.00)\n",
      "Epoch 216/500\n"
     ]
    },
    {
     "name": "stdout",
     "output_type": "stream",
     "text": [
      "Epoch 216 - Avg Loss: 1.001143243233363, Avg PSNR (Teacher): 0.0\n",
      "Epoch 216/500, Avg Loss: 1.001143, Avg Teacher PSNR: 0.00\n",
      "Saved Best Model (Loss: 1.001143, PSNR: 0.00)\n",
      "Epoch 217/500\n"
     ]
    },
    {
     "name": "stdout",
     "output_type": "stream",
     "text": [
      "Epoch 217 - Avg Loss: 1.0011429748535157, Avg PSNR (Teacher): 0.0\n",
      "Epoch 217/500, Avg Loss: 1.001143, Avg Teacher PSNR: 0.00\n",
      "Saved Best Model (Loss: 1.001143, PSNR: 0.00)\n",
      "Epoch 218/500\n"
     ]
    },
    {
     "name": "stdout",
     "output_type": "stream",
     "text": [
      "Epoch 218 - Avg Loss: 1.0011422878106435, Avg PSNR (Teacher): 0.0\n",
      "Epoch 218/500, Avg Loss: 1.001142, Avg Teacher PSNR: 0.00\n",
      "Saved Best Model (Loss: 1.001142, PSNR: 0.00)\n",
      "Epoch 219/500\n"
     ]
    },
    {
     "name": "stdout",
     "output_type": "stream",
     "text": [
      "Epoch 219 - Avg Loss: 1.0011435182889303, Avg PSNR (Teacher): 0.0\n",
      "Epoch 219/500, Avg Loss: 1.001144, Avg Teacher PSNR: 0.00\n",
      "Saved Best Model (Loss: 1.001144, PSNR: 0.00)\n",
      "Epoch 220/500\n"
     ]
    },
    {
     "name": "stdout",
     "output_type": "stream",
     "text": [
      "Epoch 220 - Avg Loss: 1.0011431426207225, Avg PSNR (Teacher): 0.0\n",
      "Epoch 220/500, Avg Loss: 1.001143, Avg Teacher PSNR: 0.00\n",
      "Saved Best Model (Loss: 1.001143, PSNR: 0.00)\n",
      "Epoch 221/500\n"
     ]
    },
    {
     "name": "stdout",
     "output_type": "stream",
     "text": [
      "Epoch 221 - Avg Loss: 1.0011435378392537, Avg PSNR (Teacher): 0.0\n",
      "Epoch 221/500, Avg Loss: 1.001144, Avg Teacher PSNR: 0.00\n",
      "Saved Best Model (Loss: 1.001144, PSNR: 0.00)\n",
      "Epoch 222/500\n"
     ]
    },
    {
     "name": "stdout",
     "output_type": "stream",
     "text": [
      "Epoch 222 - Avg Loss: 1.0011430717309315, Avg PSNR (Teacher): 0.0\n",
      "Epoch 222/500, Avg Loss: 1.001143, Avg Teacher PSNR: 0.00\n",
      "Saved Best Model (Loss: 1.001143, PSNR: 0.00)\n",
      "Epoch 223/500\n"
     ]
    },
    {
     "name": "stdout",
     "output_type": "stream",
     "text": [
      "Epoch 223 - Avg Loss: 1.001143046617508, Avg PSNR (Teacher): 0.0\n",
      "Epoch 223/500, Avg Loss: 1.001143, Avg Teacher PSNR: 0.00\n",
      "Saved Best Model (Loss: 1.001143, PSNR: 0.00)\n",
      "Epoch 224/500\n"
     ]
    },
    {
     "name": "stdout",
     "output_type": "stream",
     "text": [
      "Epoch 224 - Avg Loss: 1.0011428911685945, Avg PSNR (Teacher): 0.0\n",
      "Epoch 224/500, Avg Loss: 1.001143, Avg Teacher PSNR: 0.00\n",
      "Saved Best Model (Loss: 1.001143, PSNR: 0.00)\n",
      "Epoch 225/500\n"
     ]
    },
    {
     "name": "stdout",
     "output_type": "stream",
     "text": [
      "Epoch 225 - Avg Loss: 1.0011432059605916, Avg PSNR (Teacher): 0.0\n",
      "Epoch 225/500, Avg Loss: 1.001143, Avg Teacher PSNR: 0.00\n",
      "Saved Best Model (Loss: 1.001143, PSNR: 0.00)\n",
      "Epoch 226/500\n"
     ]
    },
    {
     "name": "stdout",
     "output_type": "stream",
     "text": [
      "Epoch 226 - Avg Loss: 1.0011429668267569, Avg PSNR (Teacher): 0.0\n",
      "Epoch 226/500, Avg Loss: 1.001143, Avg Teacher PSNR: 0.00\n",
      "Saved Best Model (Loss: 1.001143, PSNR: 0.00)\n",
      "Epoch 227/500\n"
     ]
    },
    {
     "name": "stdout",
     "output_type": "stream",
     "text": [
      "Epoch 227 - Avg Loss: 1.0011432507832845, Avg PSNR (Teacher): 0.0\n",
      "Epoch 227/500, Avg Loss: 1.001143, Avg Teacher PSNR: 0.00\n",
      "Saved Best Model (Loss: 1.001143, PSNR: 0.00)\n",
      "Epoch 228/500\n"
     ]
    },
    {
     "name": "stdout",
     "output_type": "stream",
     "text": [
      "Epoch 228 - Avg Loss: 1.0011429643630982, Avg PSNR (Teacher): 0.0\n",
      "Epoch 228/500, Avg Loss: 1.001143, Avg Teacher PSNR: 0.00\n",
      "Saved Best Model (Loss: 1.001143, PSNR: 0.00)\n",
      "Epoch 229/500\n"
     ]
    },
    {
     "name": "stdout",
     "output_type": "stream",
     "text": [
      "Epoch 229 - Avg Loss: 1.0011431512037914, Avg PSNR (Teacher): 0.0\n",
      "Epoch 229/500, Avg Loss: 1.001143, Avg Teacher PSNR: 0.00\n",
      "Saved Best Model (Loss: 1.001143, PSNR: 0.00)\n",
      "Epoch 230/500\n"
     ]
    },
    {
     "name": "stdout",
     "output_type": "stream",
     "text": [
      "Epoch 230 - Avg Loss: 1.0011434100468954, Avg PSNR (Teacher): 0.0\n",
      "Epoch 230/500, Avg Loss: 1.001143, Avg Teacher PSNR: 0.00\n",
      "Saved Best Model (Loss: 1.001143, PSNR: 0.00)\n",
      "Epoch 231/500\n"
     ]
    },
    {
     "name": "stdout",
     "output_type": "stream",
     "text": [
      "Epoch 231 - Avg Loss: 1.0011426985263825, Avg PSNR (Teacher): 0.0\n",
      "Epoch 231/500, Avg Loss: 1.001143, Avg Teacher PSNR: 0.00\n",
      "Saved Best Model (Loss: 1.001143, PSNR: 0.00)\n",
      "Epoch 232/500\n"
     ]
    },
    {
     "name": "stdout",
     "output_type": "stream",
     "text": [
      "Epoch 232 - Avg Loss: 1.0011431221961975, Avg PSNR (Teacher): 0.0\n",
      "Epoch 232/500, Avg Loss: 1.001143, Avg Teacher PSNR: 0.00\n",
      "Saved Best Model (Loss: 1.001143, PSNR: 0.00)\n",
      "Epoch 233/500\n"
     ]
    },
    {
     "name": "stdout",
     "output_type": "stream",
     "text": [
      "Epoch 233 - Avg Loss: 1.0011431960264843, Avg PSNR (Teacher): 0.0\n",
      "Epoch 233/500, Avg Loss: 1.001143, Avg Teacher PSNR: 0.00\n",
      "Saved Best Model (Loss: 1.001143, PSNR: 0.00)\n",
      "Epoch 234/500\n"
     ]
    },
    {
     "name": "stdout",
     "output_type": "stream",
     "text": [
      "Epoch 234 - Avg Loss: 1.0011429676214854, Avg PSNR (Teacher): 0.0\n",
      "Epoch 234/500, Avg Loss: 1.001143, Avg Teacher PSNR: 0.00\n",
      "Saved Best Model (Loss: 1.001143, PSNR: 0.00)\n",
      "Epoch 235/500\n"
     ]
    },
    {
     "name": "stdout",
     "output_type": "stream",
     "text": [
      "Epoch 235 - Avg Loss: 1.0011434194246929, Avg PSNR (Teacher): 0.0\n",
      "Epoch 235/500, Avg Loss: 1.001143, Avg Teacher PSNR: 0.00\n",
      "Saved Best Model (Loss: 1.001143, PSNR: 0.00)\n",
      "Epoch 236/500\n"
     ]
    },
    {
     "name": "stdout",
     "output_type": "stream",
     "text": [
      "Epoch 236 - Avg Loss: 1.001143778483073, Avg PSNR (Teacher): 0.0\n",
      "Epoch 236/500, Avg Loss: 1.001144, Avg Teacher PSNR: 0.00\n",
      "Saved Best Model (Loss: 1.001144, PSNR: 0.00)\n",
      "Epoch 237/500\n"
     ]
    },
    {
     "name": "stdout",
     "output_type": "stream",
     "text": [
      "Epoch 237 - Avg Loss: 1.0011435740788777, Avg PSNR (Teacher): 0.0\n",
      "Epoch 237/500, Avg Loss: 1.001144, Avg Teacher PSNR: 0.00\n",
      "Saved Best Model (Loss: 1.001144, PSNR: 0.00)\n",
      "Epoch 238/500\n"
     ]
    },
    {
     "name": "stdout",
     "output_type": "stream",
     "text": [
      "Epoch 238 - Avg Loss: 1.0011432661215465, Avg PSNR (Teacher): 0.0\n",
      "Epoch 238/500, Avg Loss: 1.001143, Avg Teacher PSNR: 0.00\n",
      "Saved Best Model (Loss: 1.001143, PSNR: 0.00)\n",
      "Epoch 239/500\n"
     ]
    },
    {
     "name": "stdout",
     "output_type": "stream",
     "text": [
      "Epoch 239 - Avg Loss: 1.0011435333887737, Avg PSNR (Teacher): 0.0\n",
      "Epoch 239/500, Avg Loss: 1.001144, Avg Teacher PSNR: 0.00\n",
      "Saved Best Model (Loss: 1.001144, PSNR: 0.00)\n",
      "Epoch 240/500\n"
     ]
    },
    {
     "name": "stdout",
     "output_type": "stream",
     "text": [
      "Epoch 240 - Avg Loss: 1.0011431388060252, Avg PSNR (Teacher): 0.0\n",
      "Epoch 240/500, Avg Loss: 1.001143, Avg Teacher PSNR: 0.00\n",
      "Saved Best Model (Loss: 1.001143, PSNR: 0.00)\n",
      "Epoch 241/500\n"
     ]
    },
    {
     "name": "stdout",
     "output_type": "stream",
     "text": [
      "Epoch 241 - Avg Loss: 1.0011435236930848, Avg PSNR (Teacher): 0.0\n",
      "Epoch 241/500, Avg Loss: 1.001144, Avg Teacher PSNR: 0.00\n",
      "Saved Best Model (Loss: 1.001144, PSNR: 0.00)\n",
      "Epoch 242/500\n"
     ]
    },
    {
     "name": "stdout",
     "output_type": "stream",
     "text": [
      "Epoch 242 - Avg Loss: 1.0011434128284455, Avg PSNR (Teacher): 0.0\n",
      "Epoch 242/500, Avg Loss: 1.001143, Avg Teacher PSNR: 0.00\n",
      "Saved Best Model (Loss: 1.001143, PSNR: 0.00)\n",
      "Epoch 243/500\n"
     ]
    },
    {
     "name": "stdout",
     "output_type": "stream",
     "text": [
      "Epoch 243 - Avg Loss: 1.001143316189448, Avg PSNR (Teacher): 0.0\n",
      "Epoch 243/500, Avg Loss: 1.001143, Avg Teacher PSNR: 0.00\n",
      "Saved Best Model (Loss: 1.001143, PSNR: 0.00)\n",
      "Epoch 244/500\n"
     ]
    },
    {
     "name": "stdout",
     "output_type": "stream",
     "text": [
      "Epoch 244 - Avg Loss: 1.0011428155104318, Avg PSNR (Teacher): 0.0\n",
      "Epoch 244/500, Avg Loss: 1.001143, Avg Teacher PSNR: 0.00\n",
      "Saved Best Model (Loss: 1.001143, PSNR: 0.00)\n",
      "Epoch 245/500\n"
     ]
    },
    {
     "name": "stdout",
     "output_type": "stream",
     "text": [
      "Epoch 245 - Avg Loss: 1.0011434663931529, Avg PSNR (Teacher): 0.0\n",
      "Epoch 245/500, Avg Loss: 1.001143, Avg Teacher PSNR: 0.00\n",
      "Saved Best Model (Loss: 1.001143, PSNR: 0.00)\n",
      "Epoch 246/500\n"
     ]
    },
    {
     "name": "stdout",
     "output_type": "stream",
     "text": [
      "Epoch 246 - Avg Loss: 1.0011436097621917, Avg PSNR (Teacher): 0.0\n",
      "Epoch 246/500, Avg Loss: 1.001144, Avg Teacher PSNR: 0.00\n",
      "Saved Best Model (Loss: 1.001144, PSNR: 0.00)\n",
      "Epoch 247/500\n"
     ]
    },
    {
     "name": "stdout",
     "output_type": "stream",
     "text": [
      "Epoch 247 - Avg Loss: 1.0011436819235484, Avg PSNR (Teacher): 0.0\n",
      "Epoch 247/500, Avg Loss: 1.001144, Avg Teacher PSNR: 0.00\n",
      "Saved Best Model (Loss: 1.001144, PSNR: 0.00)\n",
      "Epoch 248/500\n"
     ]
    },
    {
     "name": "stdout",
     "output_type": "stream",
     "text": [
      "Epoch 248 - Avg Loss: 1.001143027305603, Avg PSNR (Teacher): 0.0\n",
      "Epoch 248/500, Avg Loss: 1.001143, Avg Teacher PSNR: 0.00\n",
      "Saved Best Model (Loss: 1.001143, PSNR: 0.00)\n",
      "Epoch 249/500\n"
     ]
    },
    {
     "name": "stdout",
     "output_type": "stream",
     "text": [
      "Epoch 249 - Avg Loss: 1.0011431860923767, Avg PSNR (Teacher): 0.0\n",
      "Epoch 249/500, Avg Loss: 1.001143, Avg Teacher PSNR: 0.00\n",
      "Saved Best Model (Loss: 1.001143, PSNR: 0.00)\n",
      "Epoch 250/500\n"
     ]
    },
    {
     "name": "stdout",
     "output_type": "stream",
     "text": [
      "Epoch 250 - Avg Loss: 1.0011433885097503, Avg PSNR (Teacher): 0.0\n",
      "Epoch 250/500, Avg Loss: 1.001143, Avg Teacher PSNR: 0.00\n",
      "Saved Best Model (Loss: 1.001143, PSNR: 0.00)\n",
      "Epoch 251/500\n"
     ]
    },
    {
     "name": "stdout",
     "output_type": "stream",
     "text": [
      "Epoch 251 - Avg Loss: 1.0011432804266611, Avg PSNR (Teacher): 0.0\n",
      "Epoch 251/500, Avg Loss: 1.001143, Avg Teacher PSNR: 0.00\n",
      "Saved Best Model (Loss: 1.001143, PSNR: 0.00)\n",
      "Epoch 252/500\n"
     ]
    },
    {
     "name": "stdout",
     "output_type": "stream",
     "text": [
      "Epoch 252 - Avg Loss: 1.001143098195394, Avg PSNR (Teacher): 0.0\n",
      "Epoch 252/500, Avg Loss: 1.001143, Avg Teacher PSNR: 0.00\n",
      "Saved Best Model (Loss: 1.001143, PSNR: 0.00)\n",
      "Epoch 253/500\n"
     ]
    },
    {
     "name": "stdout",
     "output_type": "stream",
     "text": [
      "Epoch 253 - Avg Loss: 1.0011436733404795, Avg PSNR (Teacher): 0.0\n",
      "Epoch 253/500, Avg Loss: 1.001144, Avg Teacher PSNR: 0.00\n",
      "Saved Best Model (Loss: 1.001144, PSNR: 0.00)\n",
      "Epoch 254/500\n"
     ]
    },
    {
     "name": "stdout",
     "output_type": "stream",
     "text": [
      "Epoch 254 - Avg Loss: 1.0011430915196737, Avg PSNR (Teacher): 0.0\n",
      "Epoch 254/500, Avg Loss: 1.001143, Avg Teacher PSNR: 0.00\n",
      "Saved Best Model (Loss: 1.001143, PSNR: 0.00)\n",
      "Epoch 255/500\n"
     ]
    },
    {
     "name": "stdout",
     "output_type": "stream",
     "text": [
      "Epoch 255 - Avg Loss: 1.001143082857132, Avg PSNR (Teacher): 0.0\n",
      "Epoch 255/500, Avg Loss: 1.001143, Avg Teacher PSNR: 0.00\n",
      "Saved Best Model (Loss: 1.001143, PSNR: 0.00)\n",
      "Epoch 256/500\n"
     ]
    },
    {
     "name": "stdout",
     "output_type": "stream",
     "text": [
      "Epoch 256 - Avg Loss: 1.001143604596456, Avg PSNR (Teacher): 0.0\n",
      "Epoch 256/500, Avg Loss: 1.001144, Avg Teacher PSNR: 0.00\n",
      "Saved Best Model (Loss: 1.001144, PSNR: 0.00)\n",
      "Epoch 257/500\n"
     ]
    },
    {
     "name": "stdout",
     "output_type": "stream",
     "text": [
      "Epoch 257 - Avg Loss: 1.001143117427826, Avg PSNR (Teacher): 0.0\n",
      "Epoch 257/500, Avg Loss: 1.001143, Avg Teacher PSNR: 0.00\n",
      "Saved Best Model (Loss: 1.001143, PSNR: 0.00)\n",
      "Epoch 258/500\n"
     ]
    },
    {
     "name": "stdout",
     "output_type": "stream",
     "text": [
      "Epoch 258 - Avg Loss: 1.0011433375676473, Avg PSNR (Teacher): 0.0\n",
      "Epoch 258/500, Avg Loss: 1.001143, Avg Teacher PSNR: 0.00\n",
      "Saved Best Model (Loss: 1.001143, PSNR: 0.00)\n",
      "Epoch 259/500\n"
     ]
    },
    {
     "name": "stdout",
     "output_type": "stream",
     "text": [
      "Epoch 259 - Avg Loss: 1.0011426241397858, Avg PSNR (Teacher): 0.0\n",
      "Epoch 259/500, Avg Loss: 1.001143, Avg Teacher PSNR: 0.00\n",
      "Saved Best Model (Loss: 1.001143, PSNR: 0.00)\n",
      "Epoch 260/500\n"
     ]
    },
    {
     "name": "stdout",
     "output_type": "stream",
     "text": [
      "Epoch 260 - Avg Loss: 1.0011435367266337, Avg PSNR (Teacher): 0.0\n",
      "Epoch 260/500, Avg Loss: 1.001144, Avg Teacher PSNR: 0.00\n",
      "Saved Best Model (Loss: 1.001144, PSNR: 0.00)\n",
      "Epoch 261/500\n"
     ]
    },
    {
     "name": "stdout",
     "output_type": "stream",
     "text": [
      "Epoch 261 - Avg Loss: 1.001143464565277, Avg PSNR (Teacher): 0.0\n",
      "Epoch 261/500, Avg Loss: 1.001143, Avg Teacher PSNR: 0.00\n",
      "Saved Best Model (Loss: 1.001143, PSNR: 0.00)\n",
      "Epoch 262/500\n"
     ]
    },
    {
     "name": "stdout",
     "output_type": "stream",
     "text": [
      "Epoch 262 - Avg Loss: 1.0011437539259593, Avg PSNR (Teacher): 0.0\n",
      "Epoch 262/500, Avg Loss: 1.001144, Avg Teacher PSNR: 0.00\n",
      "Saved Best Model (Loss: 1.001144, PSNR: 0.00)\n",
      "Epoch 263/500\n"
     ]
    },
    {
     "name": "stdout",
     "output_type": "stream",
     "text": [
      "Epoch 263 - Avg Loss: 1.0011430858771007, Avg PSNR (Teacher): 0.0\n",
      "Epoch 263/500, Avg Loss: 1.001143, Avg Teacher PSNR: 0.00\n",
      "Saved Best Model (Loss: 1.001143, PSNR: 0.00)\n",
      "Epoch 264/500\n"
     ]
    },
    {
     "name": "stdout",
     "output_type": "stream",
     "text": [
      "Epoch 264 - Avg Loss: 1.0011430622736612, Avg PSNR (Teacher): 0.0\n",
      "Epoch 264/500, Avg Loss: 1.001143, Avg Teacher PSNR: 0.00\n",
      "Saved Best Model (Loss: 1.001143, PSNR: 0.00)\n",
      "Epoch 265/500\n"
     ]
    },
    {
     "name": "stdout",
     "output_type": "stream",
     "text": [
      "Epoch 265 - Avg Loss: 1.0011437033812205, Avg PSNR (Teacher): 0.0\n",
      "Epoch 265/500, Avg Loss: 1.001144, Avg Teacher PSNR: 0.00\n",
      "Saved Best Model (Loss: 1.001144, PSNR: 0.00)\n",
      "Epoch 266/500\n"
     ]
    },
    {
     "name": "stdout",
     "output_type": "stream",
     "text": [
      "Epoch 266 - Avg Loss: 1.0011434342861176, Avg PSNR (Teacher): 0.0\n",
      "Epoch 266/500, Avg Loss: 1.001143, Avg Teacher PSNR: 0.00\n",
      "Saved Best Model (Loss: 1.001143, PSNR: 0.00)\n",
      "Epoch 267/500\n"
     ]
    },
    {
     "name": "stdout",
     "output_type": "stream",
     "text": [
      "Epoch 267 - Avg Loss: 1.0011437287330627, Avg PSNR (Teacher): 0.0\n",
      "Epoch 267/500, Avg Loss: 1.001144, Avg Teacher PSNR: 0.00\n",
      "Saved Best Model (Loss: 1.001144, PSNR: 0.00)\n",
      "Epoch 268/500\n"
     ]
    },
    {
     "name": "stdout",
     "output_type": "stream",
     "text": [
      "Epoch 268 - Avg Loss: 1.001143362124761, Avg PSNR (Teacher): 0.0\n",
      "Epoch 268/500, Avg Loss: 1.001143, Avg Teacher PSNR: 0.00\n",
      "Saved Best Model (Loss: 1.001143, PSNR: 0.00)\n",
      "Epoch 269/500\n"
     ]
    },
    {
     "name": "stdout",
     "output_type": "stream",
     "text": [
      "Epoch 269 - Avg Loss: 1.0011436595916747, Avg PSNR (Teacher): 0.0\n",
      "Epoch 269/500, Avg Loss: 1.001144, Avg Teacher PSNR: 0.00\n",
      "Saved Best Model (Loss: 1.001144, PSNR: 0.00)\n",
      "Epoch 270/500\n"
     ]
    },
    {
     "name": "stdout",
     "output_type": "stream",
     "text": [
      "Epoch 270 - Avg Loss: 1.0011440269152323, Avg PSNR (Teacher): 0.0\n",
      "Epoch 270/500, Avg Loss: 1.001144, Avg Teacher PSNR: 0.00\n",
      "Saved Best Model (Loss: 1.001144, PSNR: 0.00)\n",
      "Epoch 271/500\n"
     ]
    },
    {
     "name": "stdout",
     "output_type": "stream",
     "text": [
      "Epoch 271 - Avg Loss: 1.0011438833077748, Avg PSNR (Teacher): 0.0\n",
      "Epoch 271/500, Avg Loss: 1.001144, Avg Teacher PSNR: 0.00\n",
      "Saved Best Model (Loss: 1.001144, PSNR: 0.00)\n",
      "Epoch 272/500\n"
     ]
    },
    {
     "name": "stdout",
     "output_type": "stream",
     "text": [
      "Epoch 272 - Avg Loss: 1.0011431815624237, Avg PSNR (Teacher): 0.0\n",
      "Epoch 272/500, Avg Loss: 1.001143, Avg Teacher PSNR: 0.00\n",
      "Saved Best Model (Loss: 1.001143, PSNR: 0.00)\n",
      "Epoch 273/500\n"
     ]
    },
    {
     "name": "stdout",
     "output_type": "stream",
     "text": [
      "Epoch 273 - Avg Loss: 1.0011434008280435, Avg PSNR (Teacher): 0.0\n",
      "Epoch 273/500, Avg Loss: 1.001143, Avg Teacher PSNR: 0.00\n",
      "Saved Best Model (Loss: 1.001143, PSNR: 0.00)\n",
      "Epoch 274/500\n"
     ]
    },
    {
     "name": "stdout",
     "output_type": "stream",
     "text": [
      "Epoch 274 - Avg Loss: 1.0011440886656444, Avg PSNR (Teacher): 0.0\n",
      "Epoch 274/500, Avg Loss: 1.001144, Avg Teacher PSNR: 0.00\n",
      "Saved Best Model (Loss: 1.001144, PSNR: 0.00)\n",
      "Epoch 275/500\n"
     ]
    },
    {
     "name": "stdout",
     "output_type": "stream",
     "text": [
      "Epoch 275 - Avg Loss: 1.001142766157786, Avg PSNR (Teacher): 0.0\n",
      "Epoch 275/500, Avg Loss: 1.001143, Avg Teacher PSNR: 0.00\n",
      "Saved Best Model (Loss: 1.001143, PSNR: 0.00)\n",
      "Epoch 276/500\n"
     ]
    },
    {
     "name": "stdout",
     "output_type": "stream",
     "text": [
      "Epoch 276 - Avg Loss: 1.001143295844396, Avg PSNR (Teacher): 0.0\n",
      "Epoch 276/500, Avg Loss: 1.001143, Avg Teacher PSNR: 0.00\n",
      "Saved Best Model (Loss: 1.001143, PSNR: 0.00)\n",
      "Epoch 277/500\n"
     ]
    },
    {
     "name": "stdout",
     "output_type": "stream",
     "text": [
      "Epoch 277 - Avg Loss: 1.001142396291097, Avg PSNR (Teacher): 0.0\n",
      "Epoch 277/500, Avg Loss: 1.001142, Avg Teacher PSNR: 0.00\n",
      "Saved Best Model (Loss: 1.001142, PSNR: 0.00)\n",
      "Epoch 278/500\n"
     ]
    },
    {
     "name": "stdout",
     "output_type": "stream",
     "text": [
      "Epoch 278 - Avg Loss: 1.0011435328324636, Avg PSNR (Teacher): 0.0\n",
      "Epoch 278/500, Avg Loss: 1.001144, Avg Teacher PSNR: 0.00\n",
      "Saved Best Model (Loss: 1.001144, PSNR: 0.00)\n",
      "Epoch 279/500\n"
     ]
    },
    {
     "name": "stdout",
     "output_type": "stream",
     "text": [
      "Epoch 279 - Avg Loss: 1.0011433249314625, Avg PSNR (Teacher): 0.0\n",
      "Epoch 279/500, Avg Loss: 1.001143, Avg Teacher PSNR: 0.00\n",
      "Saved Best Model (Loss: 1.001143, PSNR: 0.00)\n",
      "Epoch 280/500\n"
     ]
    },
    {
     "name": "stdout",
     "output_type": "stream",
     "text": [
      "Epoch 280 - Avg Loss: 1.0011432702541352, Avg PSNR (Teacher): 0.0\n",
      "Epoch 280/500, Avg Loss: 1.001143, Avg Teacher PSNR: 0.00\n",
      "Saved Best Model (Loss: 1.001143, PSNR: 0.00)\n",
      "Epoch 281/500\n"
     ]
    },
    {
     "name": "stdout",
     "output_type": "stream",
     "text": [
      "Epoch 281 - Avg Loss: 1.0011433389981588, Avg PSNR (Teacher): 0.0\n",
      "Epoch 281/500, Avg Loss: 1.001143, Avg Teacher PSNR: 0.00\n",
      "Saved Best Model (Loss: 1.001143, PSNR: 0.00)\n",
      "Epoch 282/500\n"
     ]
    },
    {
     "name": "stdout",
     "output_type": "stream",
     "text": [
      "Epoch 282 - Avg Loss: 1.0011438523928324, Avg PSNR (Teacher): 0.0\n",
      "Epoch 282/500, Avg Loss: 1.001144, Avg Teacher PSNR: 0.00\n",
      "Saved Best Model (Loss: 1.001144, PSNR: 0.00)\n",
      "Epoch 283/500\n"
     ]
    },
    {
     "name": "stdout",
     "output_type": "stream",
     "text": [
      "Epoch 283 - Avg Loss: 1.0011436614195506, Avg PSNR (Teacher): 0.0\n",
      "Epoch 283/500, Avg Loss: 1.001144, Avg Teacher PSNR: 0.00\n",
      "Saved Best Model (Loss: 1.001144, PSNR: 0.00)\n",
      "Epoch 284/500\n"
     ]
    },
    {
     "name": "stdout",
     "output_type": "stream",
     "text": [
      "Epoch 284 - Avg Loss: 1.0011436984539033, Avg PSNR (Teacher): 0.0\n",
      "Epoch 284/500, Avg Loss: 1.001144, Avg Teacher PSNR: 0.00\n",
      "Saved Best Model (Loss: 1.001144, PSNR: 0.00)\n",
      "Epoch 285/500\n"
     ]
    },
    {
     "name": "stdout",
     "output_type": "stream",
     "text": [
      "Epoch 285 - Avg Loss: 1.0011438320477803, Avg PSNR (Teacher): 0.0\n",
      "Epoch 285/500, Avg Loss: 1.001144, Avg Teacher PSNR: 0.00\n",
      "Saved Best Model (Loss: 1.001144, PSNR: 0.00)\n",
      "Epoch 286/500\n"
     ]
    },
    {
     "name": "stdout",
     "output_type": "stream",
     "text": [
      "Epoch 286 - Avg Loss: 1.001143252213796, Avg PSNR (Teacher): 0.0\n",
      "Epoch 286/500, Avg Loss: 1.001143, Avg Teacher PSNR: 0.00\n",
      "Saved Best Model (Loss: 1.001143, PSNR: 0.00)\n",
      "Epoch 287/500\n"
     ]
    },
    {
     "name": "stdout",
     "output_type": "stream",
     "text": [
      "Epoch 287 - Avg Loss: 1.0011432813803356, Avg PSNR (Teacher): 0.0\n",
      "Epoch 287/500, Avg Loss: 1.001143, Avg Teacher PSNR: 0.00\n",
      "Saved Best Model (Loss: 1.001143, PSNR: 0.00)\n",
      "Epoch 288/500\n"
     ]
    },
    {
     "name": "stdout",
     "output_type": "stream",
     "text": [
      "Epoch 288 - Avg Loss: 1.0011429874102276, Avg PSNR (Teacher): 0.0\n",
      "Epoch 288/500, Avg Loss: 1.001143, Avg Teacher PSNR: 0.00\n",
      "Saved Best Model (Loss: 1.001143, PSNR: 0.00)\n",
      "Epoch 289/500\n"
     ]
    },
    {
     "name": "stdout",
     "output_type": "stream",
     "text": [
      "Epoch 289 - Avg Loss: 1.0011435675621032, Avg PSNR (Teacher): 0.0\n",
      "Epoch 289/500, Avg Loss: 1.001144, Avg Teacher PSNR: 0.00\n",
      "Saved Best Model (Loss: 1.001144, PSNR: 0.00)\n",
      "Epoch 290/500\n"
     ]
    },
    {
     "name": "stdout",
     "output_type": "stream",
     "text": [
      "Epoch 290 - Avg Loss: 1.0011432964007059, Avg PSNR (Teacher): 0.0\n",
      "Epoch 290/500, Avg Loss: 1.001143, Avg Teacher PSNR: 0.00\n",
      "Saved Best Model (Loss: 1.001143, PSNR: 0.00)\n",
      "Epoch 291/500\n"
     ]
    },
    {
     "name": "stdout",
     "output_type": "stream",
     "text": [
      "Epoch 291 - Avg Loss: 1.0011438659826914, Avg PSNR (Teacher): 0.0\n",
      "Epoch 291/500, Avg Loss: 1.001144, Avg Teacher PSNR: 0.00\n",
      "Saved Best Model (Loss: 1.001144, PSNR: 0.00)\n",
      "Epoch 292/500\n"
     ]
    },
    {
     "name": "stdout",
     "output_type": "stream",
     "text": [
      "Epoch 292 - Avg Loss: 1.0011432849566142, Avg PSNR (Teacher): 0.0\n",
      "Epoch 292/500, Avg Loss: 1.001143, Avg Teacher PSNR: 0.00\n",
      "Saved Best Model (Loss: 1.001143, PSNR: 0.00)\n",
      "Epoch 293/500\n"
     ]
    },
    {
     "name": "stdout",
     "output_type": "stream",
     "text": [
      "Epoch 293 - Avg Loss: 1.0011434415181477, Avg PSNR (Teacher): 0.0\n",
      "Epoch 293/500, Avg Loss: 1.001143, Avg Teacher PSNR: 0.00\n",
      "Saved Best Model (Loss: 1.001143, PSNR: 0.00)\n",
      "Epoch 294/500\n"
     ]
    },
    {
     "name": "stdout",
     "output_type": "stream",
     "text": [
      "Epoch 294 - Avg Loss: 1.0011436158021292, Avg PSNR (Teacher): 0.0\n",
      "Epoch 294/500, Avg Loss: 1.001144, Avg Teacher PSNR: 0.00\n",
      "Saved Best Model (Loss: 1.001144, PSNR: 0.00)\n",
      "Epoch 295/500\n"
     ]
    },
    {
     "name": "stdout",
     "output_type": "stream",
     "text": [
      "Epoch 295 - Avg Loss: 1.0011436038812, Avg PSNR (Teacher): 0.0\n",
      "Epoch 295/500, Avg Loss: 1.001144, Avg Teacher PSNR: 0.00\n",
      "Saved Best Model (Loss: 1.001144, PSNR: 0.00)\n",
      "Epoch 296/500\n"
     ]
    },
    {
     "name": "stdout",
     "output_type": "stream",
     "text": [
      "Epoch 296 - Avg Loss: 1.0011424979368846, Avg PSNR (Teacher): 0.0\n",
      "Epoch 296/500, Avg Loss: 1.001142, Avg Teacher PSNR: 0.00\n",
      "Saved Best Model (Loss: 1.001142, PSNR: 0.00)\n",
      "Epoch 297/500\n"
     ]
    },
    {
     "name": "stdout",
     "output_type": "stream",
     "text": [
      "Epoch 297 - Avg Loss: 1.0011428022384643, Avg PSNR (Teacher): 0.0\n",
      "Epoch 297/500, Avg Loss: 1.001143, Avg Teacher PSNR: 0.00\n",
      "Saved Best Model (Loss: 1.001143, PSNR: 0.00)\n",
      "Epoch 298/500\n"
     ]
    },
    {
     "name": "stdout",
     "output_type": "stream",
     "text": [
      "Epoch 298 - Avg Loss: 1.00114346853892, Avg PSNR (Teacher): 0.0\n",
      "Epoch 298/500, Avg Loss: 1.001143, Avg Teacher PSNR: 0.00\n",
      "Saved Best Model (Loss: 1.001143, PSNR: 0.00)\n",
      "Epoch 299/500\n"
     ]
    },
    {
     "name": "stdout",
     "output_type": "stream",
     "text": [
      "Epoch 299 - Avg Loss: 1.0011429863770802, Avg PSNR (Teacher): 0.0\n",
      "Epoch 299/500, Avg Loss: 1.001143, Avg Teacher PSNR: 0.00\n",
      "Saved Best Model (Loss: 1.001143, PSNR: 0.00)\n",
      "Epoch 300/500\n"
     ]
    },
    {
     "name": "stdout",
     "output_type": "stream",
     "text": [
      "Epoch 300 - Avg Loss: 1.0011434191862743, Avg PSNR (Teacher): 0.0\n",
      "Epoch 300/500, Avg Loss: 1.001143, Avg Teacher PSNR: 0.00\n",
      "Saved Best Model (Loss: 1.001143, PSNR: 0.00)\n",
      "Epoch 301/500\n"
     ]
    },
    {
     "name": "stdout",
     "output_type": "stream",
     "text": [
      "Epoch 301 - Avg Loss: 1.0011434381802877, Avg PSNR (Teacher): 0.0\n",
      "Epoch 301/500, Avg Loss: 1.001143, Avg Teacher PSNR: 0.00\n",
      "Saved Best Model (Loss: 1.001143, PSNR: 0.00)\n",
      "Epoch 302/500\n"
     ]
    },
    {
     "name": "stdout",
     "output_type": "stream",
     "text": [
      "Epoch 302 - Avg Loss: 1.0011430609226226, Avg PSNR (Teacher): 0.0\n",
      "Epoch 302/500, Avg Loss: 1.001143, Avg Teacher PSNR: 0.00\n",
      "Saved Best Model (Loss: 1.001143, PSNR: 0.00)\n",
      "Epoch 303/500\n"
     ]
    },
    {
     "name": "stdout",
     "output_type": "stream",
     "text": [
      "Epoch 303 - Avg Loss: 1.0011436506907145, Avg PSNR (Teacher): 0.0\n",
      "Epoch 303/500, Avg Loss: 1.001144, Avg Teacher PSNR: 0.00\n",
      "Saved Best Model (Loss: 1.001144, PSNR: 0.00)\n",
      "Epoch 304/500\n"
     ]
    },
    {
     "name": "stdout",
     "output_type": "stream",
     "text": [
      "Epoch 304 - Avg Loss: 1.001143079519272, Avg PSNR (Teacher): 0.0\n",
      "Epoch 304/500, Avg Loss: 1.001143, Avg Teacher PSNR: 0.00\n",
      "Saved Best Model (Loss: 1.001143, PSNR: 0.00)\n",
      "Epoch 305/500\n"
     ]
    },
    {
     "name": "stdout",
     "output_type": "stream",
     "text": [
      "Epoch 305 - Avg Loss: 1.0011432509422302, Avg PSNR (Teacher): 0.0\n",
      "Epoch 305/500, Avg Loss: 1.001143, Avg Teacher PSNR: 0.00\n",
      "Saved Best Model (Loss: 1.001143, PSNR: 0.00)\n",
      "Epoch 306/500\n"
     ]
    },
    {
     "name": "stdout",
     "output_type": "stream",
     "text": [
      "Epoch 306 - Avg Loss: 1.001143698612849, Avg PSNR (Teacher): 0.0\n",
      "Epoch 306/500, Avg Loss: 1.001144, Avg Teacher PSNR: 0.00\n",
      "Saved Best Model (Loss: 1.001144, PSNR: 0.00)\n",
      "Epoch 307/500\n"
     ]
    },
    {
     "name": "stdout",
     "output_type": "stream",
     "text": [
      "Epoch 307 - Avg Loss: 1.0011431679725646, Avg PSNR (Teacher): 0.0\n",
      "Epoch 307/500, Avg Loss: 1.001143, Avg Teacher PSNR: 0.00\n",
      "Saved Best Model (Loss: 1.001143, PSNR: 0.00)\n",
      "Epoch 308/500\n"
     ]
    },
    {
     "name": "stdout",
     "output_type": "stream",
     "text": [
      "Epoch 308 - Avg Loss: 1.0011434864203135, Avg PSNR (Teacher): 0.0\n",
      "Epoch 308/500, Avg Loss: 1.001143, Avg Teacher PSNR: 0.00\n",
      "Saved Best Model (Loss: 1.001143, PSNR: 0.00)\n",
      "Epoch 309/500\n"
     ]
    },
    {
     "name": "stdout",
     "output_type": "stream",
     "text": [
      "Epoch 309 - Avg Loss: 1.001143316189448, Avg PSNR (Teacher): 0.0\n",
      "Epoch 309/500, Avg Loss: 1.001143, Avg Teacher PSNR: 0.00\n",
      "Saved Best Model (Loss: 1.001143, PSNR: 0.00)\n",
      "Epoch 310/500\n"
     ]
    },
    {
     "name": "stdout",
     "output_type": "stream",
     "text": [
      "Epoch 310 - Avg Loss: 1.0011431034406026, Avg PSNR (Teacher): 0.0\n",
      "Epoch 310/500, Avg Loss: 1.001143, Avg Teacher PSNR: 0.00\n",
      "Saved Best Model (Loss: 1.001143, PSNR: 0.00)\n",
      "Epoch 311/500\n"
     ]
    },
    {
     "name": "stdout",
     "output_type": "stream",
     "text": [
      "Epoch 311 - Avg Loss: 1.0011436801751454, Avg PSNR (Teacher): 0.0\n",
      "Epoch 311/500, Avg Loss: 1.001144, Avg Teacher PSNR: 0.00\n",
      "Saved Best Model (Loss: 1.001144, PSNR: 0.00)\n",
      "Epoch 312/500\n"
     ]
    },
    {
     "name": "stdout",
     "output_type": "stream",
     "text": [
      "Epoch 312 - Avg Loss: 1.0011430068016052, Avg PSNR (Teacher): 0.0\n",
      "Epoch 312/500, Avg Loss: 1.001143, Avg Teacher PSNR: 0.00\n",
      "Saved Best Model (Loss: 1.001143, PSNR: 0.00)\n",
      "Epoch 313/500\n"
     ]
    },
    {
     "name": "stdout",
     "output_type": "stream",
     "text": [
      "Epoch 313 - Avg Loss: 1.0011439775625866, Avg PSNR (Teacher): 0.0\n",
      "Epoch 313/500, Avg Loss: 1.001144, Avg Teacher PSNR: 0.00\n",
      "Saved Best Model (Loss: 1.001144, PSNR: 0.00)\n",
      "Epoch 314/500\n"
     ]
    },
    {
     "name": "stdout",
     "output_type": "stream",
     "text": [
      "Epoch 314 - Avg Loss: 1.0011436796983084, Avg PSNR (Teacher): 0.0\n",
      "Epoch 314/500, Avg Loss: 1.001144, Avg Teacher PSNR: 0.00\n",
      "Saved Best Model (Loss: 1.001144, PSNR: 0.00)\n",
      "Epoch 315/500\n"
     ]
    },
    {
     "name": "stdout",
     "output_type": "stream",
     "text": [
      "Epoch 315 - Avg Loss: 1.0011438031991322, Avg PSNR (Teacher): 0.0\n",
      "Epoch 315/500, Avg Loss: 1.001144, Avg Teacher PSNR: 0.00\n",
      "Saved Best Model (Loss: 1.001144, PSNR: 0.00)\n",
      "Epoch 316/500\n"
     ]
    },
    {
     "name": "stdout",
     "output_type": "stream",
     "text": [
      "Epoch 316 - Avg Loss: 1.0011430445512135, Avg PSNR (Teacher): 0.0\n",
      "Epoch 316/500, Avg Loss: 1.001143, Avg Teacher PSNR: 0.00\n",
      "Saved Best Model (Loss: 1.001143, PSNR: 0.00)\n",
      "Epoch 317/500\n"
     ]
    },
    {
     "name": "stdout",
     "output_type": "stream",
     "text": [
      "Epoch 317 - Avg Loss: 1.0011435345013937, Avg PSNR (Teacher): 0.0\n",
      "Epoch 317/500, Avg Loss: 1.001144, Avg Teacher PSNR: 0.00\n",
      "Saved Best Model (Loss: 1.001144, PSNR: 0.00)\n",
      "Epoch 318/500\n"
     ]
    },
    {
     "name": "stdout",
     "output_type": "stream",
     "text": [
      "Epoch 318 - Avg Loss: 1.0011428240140279, Avg PSNR (Teacher): 0.0\n",
      "Epoch 318/500, Avg Loss: 1.001143, Avg Teacher PSNR: 0.00\n",
      "Saved Best Model (Loss: 1.001143, PSNR: 0.00)\n",
      "Epoch 319/500\n"
     ]
    },
    {
     "name": "stdout",
     "output_type": "stream",
     "text": [
      "Epoch 319 - Avg Loss: 1.0011432836055756, Avg PSNR (Teacher): 0.0\n",
      "Epoch 319/500, Avg Loss: 1.001143, Avg Teacher PSNR: 0.00\n",
      "Saved Best Model (Loss: 1.001143, PSNR: 0.00)\n",
      "Epoch 320/500\n"
     ]
    },
    {
     "name": "stdout",
     "output_type": "stream",
     "text": [
      "Epoch 320 - Avg Loss: 1.0011432174841564, Avg PSNR (Teacher): 0.0\n",
      "Epoch 320/500, Avg Loss: 1.001143, Avg Teacher PSNR: 0.00\n",
      "Saved Best Model (Loss: 1.001143, PSNR: 0.00)\n",
      "Epoch 321/500\n"
     ]
    },
    {
     "name": "stdout",
     "output_type": "stream",
     "text": [
      "Epoch 321 - Avg Loss: 1.0011435419718424, Avg PSNR (Teacher): 0.0\n",
      "Epoch 321/500, Avg Loss: 1.001144, Avg Teacher PSNR: 0.00\n",
      "Saved Best Model (Loss: 1.001144, PSNR: 0.00)\n",
      "Epoch 322/500\n"
     ]
    },
    {
     "name": "stdout",
     "output_type": "stream",
     "text": [
      "Epoch 322 - Avg Loss: 1.0011438881556194, Avg PSNR (Teacher): 0.0\n",
      "Epoch 322/500, Avg Loss: 1.001144, Avg Teacher PSNR: 0.00\n",
      "Saved Best Model (Loss: 1.001144, PSNR: 0.00)\n",
      "Epoch 323/500\n"
     ]
    },
    {
     "name": "stdout",
     "output_type": "stream",
     "text": [
      "Epoch 323 - Avg Loss: 1.0011432129542033, Avg PSNR (Teacher): 0.0\n",
      "Epoch 323/500, Avg Loss: 1.001143, Avg Teacher PSNR: 0.00\n",
      "Saved Best Model (Loss: 1.001143, PSNR: 0.00)\n",
      "Epoch 324/500\n"
     ]
    },
    {
     "name": "stdout",
     "output_type": "stream",
     "text": [
      "Epoch 324 - Avg Loss: 1.0011433804829915, Avg PSNR (Teacher): 0.0\n",
      "Epoch 324/500, Avg Loss: 1.001143, Avg Teacher PSNR: 0.00\n",
      "Saved Best Model (Loss: 1.001143, PSNR: 0.00)\n",
      "Epoch 325/500\n"
     ]
    },
    {
     "name": "stdout",
     "output_type": "stream",
     "text": [
      "Epoch 325 - Avg Loss: 1.0011434911886852, Avg PSNR (Teacher): 0.0\n",
      "Epoch 325/500, Avg Loss: 1.001143, Avg Teacher PSNR: 0.00\n",
      "Saved Best Model (Loss: 1.001143, PSNR: 0.00)\n",
      "Epoch 326/500\n"
     ]
    },
    {
     "name": "stdout",
     "output_type": "stream",
     "text": [
      "Epoch 326 - Avg Loss: 1.0011432027816773, Avg PSNR (Teacher): 0.0\n",
      "Epoch 326/500, Avg Loss: 1.001143, Avg Teacher PSNR: 0.00\n",
      "Saved Best Model (Loss: 1.001143, PSNR: 0.00)\n",
      "Epoch 327/500\n"
     ]
    },
    {
     "name": "stdout",
     "output_type": "stream",
     "text": [
      "Epoch 327 - Avg Loss: 1.0011427449385326, Avg PSNR (Teacher): 0.0\n",
      "Epoch 327/500, Avg Loss: 1.001143, Avg Teacher PSNR: 0.00\n",
      "Saved Best Model (Loss: 1.001143, PSNR: 0.00)\n",
      "Epoch 328/500\n"
     ]
    },
    {
     "name": "stdout",
     "output_type": "stream",
     "text": [
      "Epoch 328 - Avg Loss: 1.0011429565747578, Avg PSNR (Teacher): 0.0\n",
      "Epoch 328/500, Avg Loss: 1.001143, Avg Teacher PSNR: 0.00\n",
      "Saved Best Model (Loss: 1.001143, PSNR: 0.00)\n",
      "Epoch 329/500\n"
     ]
    },
    {
     "name": "stdout",
     "output_type": "stream",
     "text": [
      "Epoch 329 - Avg Loss: 1.0011431504090627, Avg PSNR (Teacher): 0.0\n",
      "Epoch 329/500, Avg Loss: 1.001143, Avg Teacher PSNR: 0.00\n",
      "Saved Best Model (Loss: 1.001143, PSNR: 0.00)\n",
      "Epoch 330/500\n"
     ]
    },
    {
     "name": "stdout",
     "output_type": "stream",
     "text": [
      "Epoch 330 - Avg Loss: 1.0011431788603464, Avg PSNR (Teacher): 0.0\n",
      "Epoch 330/500, Avg Loss: 1.001143, Avg Teacher PSNR: 0.00\n",
      "Saved Best Model (Loss: 1.001143, PSNR: 0.00)\n",
      "Epoch 331/500\n"
     ]
    },
    {
     "name": "stdout",
     "output_type": "stream",
     "text": [
      "Epoch 331 - Avg Loss: 1.001143221696218, Avg PSNR (Teacher): 0.0\n",
      "Epoch 331/500, Avg Loss: 1.001143, Avg Teacher PSNR: 0.00\n",
      "Saved Best Model (Loss: 1.001143, PSNR: 0.00)\n",
      "Epoch 332/500\n"
     ]
    },
    {
     "name": "stdout",
     "output_type": "stream",
     "text": [
      "Epoch 332 - Avg Loss: 1.001143173376719, Avg PSNR (Teacher): 0.0\n",
      "Epoch 332/500, Avg Loss: 1.001143, Avg Teacher PSNR: 0.00\n",
      "Saved Best Model (Loss: 1.001143, PSNR: 0.00)\n",
      "Epoch 333/500\n"
     ]
    },
    {
     "name": "stdout",
     "output_type": "stream",
     "text": [
      "Epoch 333 - Avg Loss: 1.0011432138284047, Avg PSNR (Teacher): 0.0\n",
      "Epoch 333/500, Avg Loss: 1.001143, Avg Teacher PSNR: 0.00\n",
      "Saved Best Model (Loss: 1.001143, PSNR: 0.00)\n",
      "Epoch 334/500\n"
     ]
    },
    {
     "name": "stdout",
     "output_type": "stream",
     "text": [
      "Epoch 334 - Avg Loss: 1.0011430071194967, Avg PSNR (Teacher): 0.0\n",
      "Epoch 334/500, Avg Loss: 1.001143, Avg Teacher PSNR: 0.00\n",
      "Saved Best Model (Loss: 1.001143, PSNR: 0.00)\n",
      "Epoch 335/500\n"
     ]
    },
    {
     "name": "stdout",
     "output_type": "stream",
     "text": [
      "Epoch 335 - Avg Loss: 1.0011434250672657, Avg PSNR (Teacher): 0.0\n",
      "Epoch 335/500, Avg Loss: 1.001143, Avg Teacher PSNR: 0.00\n",
      "Saved Best Model (Loss: 1.001143, PSNR: 0.00)\n",
      "Epoch 336/500\n"
     ]
    },
    {
     "name": "stdout",
     "output_type": "stream",
     "text": [
      "Epoch 336 - Avg Loss: 1.0011430597305297, Avg PSNR (Teacher): 0.0\n",
      "Epoch 336/500, Avg Loss: 1.001143, Avg Teacher PSNR: 0.00\n",
      "Saved Best Model (Loss: 1.001143, PSNR: 0.00)\n",
      "Epoch 337/500\n"
     ]
    },
    {
     "name": "stdout",
     "output_type": "stream",
     "text": [
      "Epoch 337 - Avg Loss: 1.001143504222234, Avg PSNR (Teacher): 0.0\n",
      "Epoch 337/500, Avg Loss: 1.001144, Avg Teacher PSNR: 0.00\n",
      "Saved Best Model (Loss: 1.001144, PSNR: 0.00)\n",
      "Epoch 338/500\n"
     ]
    },
    {
     "name": "stdout",
     "output_type": "stream",
     "text": [
      "Epoch 338 - Avg Loss: 1.0011430756251016, Avg PSNR (Teacher): 0.0\n",
      "Epoch 338/500, Avg Loss: 1.001143, Avg Teacher PSNR: 0.00\n",
      "Saved Best Model (Loss: 1.001143, PSNR: 0.00)\n",
      "Epoch 339/500\n"
     ]
    },
    {
     "name": "stdout",
     "output_type": "stream",
     "text": [
      "Epoch 339 - Avg Loss: 1.001143207470576, Avg PSNR (Teacher): 0.0\n",
      "Epoch 339/500, Avg Loss: 1.001143, Avg Teacher PSNR: 0.00\n",
      "Saved Best Model (Loss: 1.001143, PSNR: 0.00)\n",
      "Epoch 340/500\n"
     ]
    },
    {
     "name": "stdout",
     "output_type": "stream",
     "text": [
      "Epoch 340 - Avg Loss: 1.0011436382929484, Avg PSNR (Teacher): 0.0\n",
      "Epoch 340/500, Avg Loss: 1.001144, Avg Teacher PSNR: 0.00\n",
      "Saved Best Model (Loss: 1.001144, PSNR: 0.00)\n",
      "Epoch 341/500\n"
     ]
    },
    {
     "name": "stdout",
     "output_type": "stream",
     "text": [
      "Epoch 341 - Avg Loss: 1.0011431619326274, Avg PSNR (Teacher): 0.0\n",
      "Epoch 341/500, Avg Loss: 1.001143, Avg Teacher PSNR: 0.00\n",
      "Saved Best Model (Loss: 1.001143, PSNR: 0.00)\n",
      "Epoch 342/500\n"
     ]
    },
    {
     "name": "stdout",
     "output_type": "stream",
     "text": [
      "Epoch 342 - Avg Loss: 1.0011437496344249, Avg PSNR (Teacher): 0.0\n",
      "Epoch 342/500, Avg Loss: 1.001144, Avg Teacher PSNR: 0.00\n",
      "Saved Best Model (Loss: 1.001144, PSNR: 0.00)\n",
      "Epoch 343/500\n"
     ]
    },
    {
     "name": "stdout",
     "output_type": "stream",
     "text": [
      "Epoch 343 - Avg Loss: 1.0011435233751933, Avg PSNR (Teacher): 0.0\n",
      "Epoch 343/500, Avg Loss: 1.001144, Avg Teacher PSNR: 0.00\n",
      "Saved Best Model (Loss: 1.001144, PSNR: 0.00)\n",
      "Epoch 344/500\n"
     ]
    },
    {
     "name": "stdout",
     "output_type": "stream",
     "text": [
      "Epoch 344 - Avg Loss: 1.001143853108088, Avg PSNR (Teacher): 0.0\n",
      "Epoch 344/500, Avg Loss: 1.001144, Avg Teacher PSNR: 0.00\n",
      "Saved Best Model (Loss: 1.001144, PSNR: 0.00)\n",
      "Epoch 345/500\n"
     ]
    },
    {
     "name": "stdout",
     "output_type": "stream",
     "text": [
      "Epoch 345 - Avg Loss: 1.001143185297648, Avg PSNR (Teacher): 0.0\n",
      "Epoch 345/500, Avg Loss: 1.001143, Avg Teacher PSNR: 0.00\n",
      "Saved Best Model (Loss: 1.001143, PSNR: 0.00)\n",
      "Epoch 346/500\n"
     ]
    },
    {
     "name": "stdout",
     "output_type": "stream",
     "text": [
      "Epoch 346 - Avg Loss: 1.0011431795756023, Avg PSNR (Teacher): 0.0\n",
      "Epoch 346/500, Avg Loss: 1.001143, Avg Teacher PSNR: 0.00\n",
      "Saved Best Model (Loss: 1.001143, PSNR: 0.00)\n",
      "Epoch 347/500\n"
     ]
    },
    {
     "name": "stdout",
     "output_type": "stream",
     "text": [
      "Epoch 347 - Avg Loss: 1.0011436301867167, Avg PSNR (Teacher): 0.0\n",
      "Epoch 347/500, Avg Loss: 1.001144, Avg Teacher PSNR: 0.00\n",
      "Saved Best Model (Loss: 1.001144, PSNR: 0.00)\n",
      "Epoch 348/500\n"
     ]
    },
    {
     "name": "stdout",
     "output_type": "stream",
     "text": [
      "Epoch 348 - Avg Loss: 1.0011429655551911, Avg PSNR (Teacher): 0.0\n",
      "Epoch 348/500, Avg Loss: 1.001143, Avg Teacher PSNR: 0.00\n",
      "Saved Best Model (Loss: 1.001143, PSNR: 0.00)\n",
      "Epoch 349/500\n"
     ]
    },
    {
     "name": "stdout",
     "output_type": "stream",
     "text": [
      "Epoch 349 - Avg Loss: 1.0011428521474202, Avg PSNR (Teacher): 0.0\n",
      "Epoch 349/500, Avg Loss: 1.001143, Avg Teacher PSNR: 0.00\n",
      "Saved Best Model (Loss: 1.001143, PSNR: 0.00)\n",
      "Epoch 350/500\n"
     ]
    },
    {
     "name": "stdout",
     "output_type": "stream",
     "text": [
      "Epoch 350 - Avg Loss: 1.0011430919965107, Avg PSNR (Teacher): 0.0\n",
      "Epoch 350/500, Avg Loss: 1.001143, Avg Teacher PSNR: 0.00\n",
      "Saved Best Model (Loss: 1.001143, PSNR: 0.00)\n",
      "Epoch 351/500\n"
     ]
    },
    {
     "name": "stdout",
     "output_type": "stream",
     "text": [
      "Epoch 351 - Avg Loss: 1.0011435322761535, Avg PSNR (Teacher): 0.0\n",
      "Epoch 351/500, Avg Loss: 1.001144, Avg Teacher PSNR: 0.00\n",
      "Saved Best Model (Loss: 1.001144, PSNR: 0.00)\n",
      "Epoch 352/500\n"
     ]
    },
    {
     "name": "stdout",
     "output_type": "stream",
     "text": [
      "Epoch 352 - Avg Loss: 1.0011430826981862, Avg PSNR (Teacher): 0.0\n",
      "Epoch 352/500, Avg Loss: 1.001143, Avg Teacher PSNR: 0.00\n",
      "Saved Best Model (Loss: 1.001143, PSNR: 0.00)\n",
      "Epoch 353/500\n"
     ]
    },
    {
     "name": "stdout",
     "output_type": "stream",
     "text": [
      "Epoch 353 - Avg Loss: 1.0011435087521872, Avg PSNR (Teacher): 0.0\n",
      "Epoch 353/500, Avg Loss: 1.001144, Avg Teacher PSNR: 0.00\n",
      "Saved Best Model (Loss: 1.001144, PSNR: 0.00)\n",
      "Epoch 354/500\n"
     ]
    }
   ],
   "source": [
    "train(net,teacher_model, student_model, fam_module, dataloader, num_epochs=500)"
   ]
  },
  {
   "cell_type": "code",
   "execution_count": null,
   "id": "8f3ad3d5",
   "metadata": {
    "execution": {
     "iopub.execute_input": "2025-03-09T14:50:16.212877Z",
     "iopub.status.busy": "2025-03-09T14:50:16.212595Z",
     "iopub.status.idle": "2025-03-09T14:50:16.230297Z",
     "shell.execute_reply": "2025-03-09T14:50:16.229095Z",
     "shell.execute_reply.started": "2025-03-09T14:50:16.212850Z"
    },
    "papermill": {
     "duration": null,
     "end_time": null,
     "exception": null,
     "start_time": null,
     "status": "pending"
    },
    "tags": []
   },
   "outputs": [],
   "source": [
    "# # -----------------------------\n",
    "# # LOAD MODEL\n",
    "# # -----------------------------\n",
    "# # model_path = \"/kaggle/input/dehazing_sr/pytorch/default/1/best_dehazing_student.pth\"\n",
    "# model_path = \"/kaggle/input/sr-reside-500/50best_dehazing_student.pth\"\n",
    "# device = torch.device(\"cuda\" if torch.cuda.is_available() else \"cpu\")"
   ]
  },
  {
   "cell_type": "code",
   "execution_count": null,
   "id": "e15e995b",
   "metadata": {
    "execution": {
     "iopub.execute_input": "2025-03-09T14:52:20.786695Z",
     "iopub.status.busy": "2025-03-09T14:52:20.786304Z",
     "iopub.status.idle": "2025-03-09T14:52:20.829802Z",
     "shell.execute_reply": "2025-03-09T14:52:20.828489Z",
     "shell.execute_reply.started": "2025-03-09T14:52:20.786663Z"
    },
    "papermill": {
     "duration": null,
     "end_time": null,
     "exception": null,
     "start_time": null,
     "status": "pending"
    },
    "tags": []
   },
   "outputs": [],
   "source": [
    "# # Initialize model\n",
    "# # model = DehazingNet().to(device)\n",
    "# model = SR_model(upscale_factor=1).to(device)\n",
    "# model.load_state_dict(torch.load(model_path, map_location=device))\n",
    "# model.eval()"
   ]
  },
  {
   "cell_type": "code",
   "execution_count": null,
   "id": "bcce3711",
   "metadata": {
    "execution": {
     "iopub.status.busy": "2025-03-09T14:50:16.369858Z",
     "iopub.status.idle": "2025-03-09T14:50:16.370198Z",
     "shell.execute_reply": "2025-03-09T14:50:16.370063Z"
    },
    "papermill": {
     "duration": null,
     "end_time": null,
     "exception": null,
     "start_time": null,
     "status": "pending"
    },
    "tags": []
   },
   "outputs": [],
   "source": [
    "# # -----------------------------\n",
    "# # LOAD TEST DATA\n",
    "# # -----------------------------\n",
    "# test_hazy_dir = \"/kaggle/input/reside6k/RESIDE-6K/test/hazy\"\n",
    "# test_gt_dir = \"/kaggle/input/reside6k/RESIDE-6K/test/GT\"\n",
    "# # test_hazy_dir = \"/kaggle/input/nh-dense-haze/NH-HAZE-T/NH-HAZE-T/IN\"\n",
    "# # test_gt_dir = \"/kaggle/input/nh-dense-haze/NH-HAZE-T/NH-HAZE-T/GT\"\n",
    "\n",
    "# hazy_images = sorted(glob.glob(os.path.join(test_hazy_dir, \"*.*\")))\n",
    "# gt_images = sorted(glob.glob(os.path.join(test_gt_dir, \"*.*\")))\n",
    "\n",
    "# transform = Compose([\n",
    "#     ToTensor(),\n",
    "#     Normalize((0.5, 0.5, 0.5), (0.5, 0.5, 0.5))\n",
    "# ])\n",
    "\n",
    "# to_pil = ToPILImage()"
   ]
  },
  {
   "cell_type": "code",
   "execution_count": null,
   "id": "b272b822",
   "metadata": {
    "execution": {
     "iopub.status.busy": "2025-03-09T14:50:16.371104Z",
     "iopub.status.idle": "2025-03-09T14:50:16.371432Z",
     "shell.execute_reply": "2025-03-09T14:50:16.371313Z"
    },
    "papermill": {
     "duration": null,
     "end_time": null,
     "exception": null,
     "start_time": null,
     "status": "pending"
    },
    "tags": []
   },
   "outputs": [],
   "source": [
    "# # -----------------------------\n",
    "# # INFERENCE & VISUALIZATION\n",
    "# # -----------------------------\n",
    "# num_samples = 20  # Change as needed\n",
    "# plt.figure(figsize=(10, num_samples * 5))\n",
    "\n",
    "# for i in range(num_samples):\n",
    "#     hazy_img = Image.open(hazy_images[i])\n",
    "\n",
    "#     # Transform for model input\n",
    "#     input_tensor = transform(hazy_img).unsqueeze(0).to(device)\n",
    "\n",
    "#     # Inference\n",
    "#     with torch.no_grad():\n",
    "#         output_tensor = model(input_tensor).cpu().squeeze(0)\n",
    "\n",
    "#     # Convert back to image\n",
    "#     output_img = to_pil(output_tensor)\n",
    "\n",
    "#     # Display results\n",
    "#     plt.subplot(num_samples, 2, 2 * i + 1)\n",
    "#     plt.imshow(hazy_img)\n",
    "#     plt.title(\"Hazy Input\")\n",
    "#     plt.axis(\"off\")\n",
    "\n",
    "#     plt.subplot(num_samples, 2, 2 * i + 2)\n",
    "#     plt.imshow(output_img)\n",
    "#     plt.title(\"Output\")\n",
    "#     plt.axis(\"off\")\n",
    "\n",
    "# plt.tight_layout()\n",
    "# plt.show()\n"
   ]
  },
  {
   "cell_type": "code",
   "execution_count": null,
   "id": "915ac08e",
   "metadata": {
    "execution": {
     "iopub.status.busy": "2025-03-09T14:50:16.372017Z",
     "iopub.status.idle": "2025-03-09T14:50:16.372377Z",
     "shell.execute_reply": "2025-03-09T14:50:16.372211Z"
    },
    "papermill": {
     "duration": null,
     "end_time": null,
     "exception": null,
     "start_time": null,
     "status": "pending"
    },
    "tags": []
   },
   "outputs": [],
   "source": [
    "# # -----------------------------\n",
    "# # INFERENCE & VISUALIZATION FOR SPECIFIC IMAGES\n",
    "# # -----------------------------\n",
    "# image_indices = [70, 75, 89, 100]  # Indices of images to visualize\n",
    "\n",
    "# plt.figure(figsize=(10, len(image_indices) * 5))\n",
    "\n",
    "# for idx, i in enumerate(image_indices):\n",
    "#     hazy_img = Image.open(hazy_images[i+1])\n",
    "#     gt_img = Image.open(gt_images[i+1])\n",
    "\n",
    "#     # Transform for model input\n",
    "#     input_tensor = transform(hazy_img).unsqueeze(0).to(device)\n",
    "\n",
    "#     # Inference\n",
    "#     with torch.no_grad():\n",
    "#         output_tensor = model(input_tensor).cpu().squeeze(0)\n",
    "\n",
    "#     # Convert back to image\n",
    "#     output_img = to_pil(output_tensor)\n",
    "\n",
    "#     # Display results\n",
    "#     plt.subplot(len(image_indices), 3, 3 * idx + 1)\n",
    "#     plt.imshow(hazy_img)\n",
    "#     plt.title(f\"Hazy Input {i}\")\n",
    "#     plt.axis(\"off\")\n",
    "\n",
    "#     plt.subplot(len(image_indices), 3, 3 * idx + 2)\n",
    "#     plt.imshow(output_img)\n",
    "#     plt.title(f\"Dehazed Output {i}\")\n",
    "#     plt.axis(\"off\")\n",
    "\n",
    "#     plt.subplot(len(image_indices), 3, 3 * idx + 3)\n",
    "#     plt.imshow(gt_img)\n",
    "#     plt.title(f\"Ground Truth {i}\")\n",
    "#     plt.axis(\"off\")\n",
    "\n",
    "# plt.tight_layout()\n",
    "# plt.show()\n"
   ]
  },
  {
   "cell_type": "code",
   "execution_count": null,
   "id": "790b12bc",
   "metadata": {
    "execution": {
     "iopub.status.busy": "2025-03-09T14:50:16.373556Z",
     "iopub.status.idle": "2025-03-09T14:50:16.373966Z",
     "shell.execute_reply": "2025-03-09T14:50:16.373801Z"
    },
    "papermill": {
     "duration": null,
     "end_time": null,
     "exception": null,
     "start_time": null,
     "status": "pending"
    },
    "tags": []
   },
   "outputs": [],
   "source": [
    "# # -----------------------------\n",
    "# # INFERENCE & VISUALIZATION\n",
    "# # -----------------------------\n",
    "# num_samples = 5  # Change as needed\n",
    "# plt.figure(figsize=(10, num_samples * 5))\n",
    "\n",
    "# for i in range(num_samples):\n",
    "#     hazy_img = Image.open(hazy_images[i]).convert('RGB')\n",
    "#     gt_img = Image.open(gt_images[i]).convert('RGB')\n",
    "\n",
    "#     # Transform for model input\n",
    "#     input_tensor = transform(hazy_img).unsqueeze(0).to(device)\n",
    "\n",
    "#     # Inference\n",
    "#     with torch.no_grad():\n",
    "#         output_tensor = teacher_model(input_tensor).cpu().squeeze(0)\n",
    "    \n",
    "#     # Convert back to image\n",
    "#     output_img = to_pil(output_tensor)\n",
    "\n",
    "#     # Display results\n",
    "#     plt.subplot(num_samples, 3, 3 * i + 1)\n",
    "#     plt.imshow(hazy_img)\n",
    "#     plt.title(\"Hazy Input\")\n",
    "#     plt.axis(\"off\")\n",
    "\n",
    "#     plt.subplot(num_samples, 3, 3 * i + 2)\n",
    "#     plt.imshow(output_img)\n",
    "#     plt.title(\"Dehazed Output\")\n",
    "#     plt.axis(\"off\")\n",
    "\n",
    "#     plt.subplot(num_samples, 3, 3 * i + 3)\n",
    "#     plt.imshow(gt_img)\n",
    "#     plt.title(\"Ground Truth\")\n",
    "#     plt.axis(\"off\")\n",
    "\n",
    "# plt.tight_layout()\n",
    "# plt.show()"
   ]
  },
  {
   "cell_type": "code",
   "execution_count": null,
   "id": "827d9dba",
   "metadata": {
    "execution": {
     "iopub.status.busy": "2025-03-09T14:50:16.374809Z",
     "iopub.status.idle": "2025-03-09T14:50:16.375176Z",
     "shell.execute_reply": "2025-03-09T14:50:16.375000Z"
    },
    "papermill": {
     "duration": null,
     "end_time": null,
     "exception": null,
     "start_time": null,
     "status": "pending"
    },
    "tags": []
   },
   "outputs": [],
   "source": [
    "# model_path = \"/kaggle/input/dehazing_sr/pytorch/default/4/9best_dehazing_student.pth\"\n",
    "# model = DehazingNet().to(device)\n",
    "# # model = SR_model(upscale_factor=1).to(device)\n",
    "# model.load_state_dict(torch.load(model_path, map_location=device))\n",
    "# model.eval()\n"
   ]
  },
  {
   "cell_type": "code",
   "execution_count": null,
   "id": "1b124ee5",
   "metadata": {
    "execution": {
     "iopub.status.busy": "2025-03-09T14:50:16.375968Z",
     "iopub.status.idle": "2025-03-09T14:50:16.376350Z",
     "shell.execute_reply": "2025-03-09T14:50:16.376207Z"
    },
    "papermill": {
     "duration": null,
     "end_time": null,
     "exception": null,
     "start_time": null,
     "status": "pending"
    },
    "tags": []
   },
   "outputs": [],
   "source": [
    "# # -----------------------------\n",
    "# # INFERENCE & VISUALIZATION\n",
    "# # -----------------------------\n",
    "# num_samples = 20  # Change as needed\n",
    "# plt.figure(figsize=(10, num_samples * 5))\n",
    "\n",
    "# for i in range(num_samples):\n",
    "#     hazy_img = Image.open(hazy_images[i])\n",
    "\n",
    "#     # Transform for model input\n",
    "#     input_tensor = transform(hazy_img).unsqueeze(0).to(device)\n",
    "\n",
    "#     # Inference\n",
    "#     with torch.no_grad():\n",
    "#         output_tensor = model(input_tensor).cpu().squeeze(0)\n",
    "\n",
    "#     # Convert back to image\n",
    "#     output_img = to_pil(output_tensor)\n",
    "\n",
    "#     # Display results\n",
    "#     plt.subplot(num_samples, 2, 2 * i + 1)\n",
    "#     plt.imshow(hazy_img)\n",
    "#     plt.title(\"Hazy Input\")\n",
    "#     plt.axis(\"off\")\n",
    "\n",
    "#     plt.subplot(num_samples, 2, 2 * i + 2)\n",
    "#     plt.imshow(output_img)\n",
    "#     plt.title(\"Output\")\n",
    "#     plt.axis(\"off\")\n",
    "\n",
    "# plt.tight_layout()\n",
    "# plt.show()\n"
   ]
  },
  {
   "cell_type": "code",
   "execution_count": null,
   "id": "b10af549",
   "metadata": {
    "execution": {
     "iopub.status.busy": "2025-03-09T14:50:16.377067Z",
     "iopub.status.idle": "2025-03-09T14:50:16.377382Z",
     "shell.execute_reply": "2025-03-09T14:50:16.377255Z"
    },
    "papermill": {
     "duration": null,
     "end_time": null,
     "exception": null,
     "start_time": null,
     "status": "pending"
    },
    "tags": []
   },
   "outputs": [],
   "source": [
    "# # -----------------------------\n",
    "# # INFERENCE & VISUALIZATION\n",
    "# # -----------------------------\n",
    "# num_samples = 5  # Change as needed\n",
    "# plt.figure(figsize=(10, num_samples * 5))\n",
    "\n",
    "# for i in range(num_samples):\n",
    "#     hazy_img = Image.open(hazy_images[i]).convert('RGB')\n",
    "#     gt_img = Image.open(gt_images[i]).convert('RGB')\n",
    "\n",
    "#     # Transform for model input\n",
    "#     input_tensor = transform(hazy_img).unsqueeze(0).to(device)\n",
    "\n",
    "#     # Inference\n",
    "#     with torch.no_grad():\n",
    "#         output_tensor = teacher_model(input_tensor).cpu().squeeze(0)\n",
    "    \n",
    "#     # Convert back to image\n",
    "#     output_img = to_pil(output_tensor)\n",
    "\n",
    "#     # Display results\n",
    "#     plt.subplot(num_samples, 3, 3 * i + 1)\n",
    "#     plt.imshow(hazy_img)\n",
    "#     plt.title(\"Hazy Input\")\n",
    "#     plt.axis(\"off\")\n",
    "\n",
    "#     plt.subplot(num_samples, 3, 3 * i + 2)\n",
    "#     plt.imshow(output_img)\n",
    "#     plt.title(\"Dehazed Output\")\n",
    "#     plt.axis(\"off\")\n",
    "\n",
    "#     plt.subplot(num_samples, 3, 3 * i + 3)\n",
    "#     plt.imshow(gt_img)\n",
    "#     plt.title(\"Ground Truth\")\n",
    "#     plt.axis(\"off\")\n",
    "\n",
    "# plt.tight_layout()\n",
    "# plt.show()"
   ]
  },
  {
   "cell_type": "code",
   "execution_count": null,
   "id": "9697d34d",
   "metadata": {
    "execution": {
     "iopub.status.busy": "2025-03-09T14:50:16.378150Z",
     "iopub.status.idle": "2025-03-09T14:50:16.378448Z",
     "shell.execute_reply": "2025-03-09T14:50:16.378324Z"
    },
    "papermill": {
     "duration": null,
     "end_time": null,
     "exception": null,
     "start_time": null,
     "status": "pending"
    },
    "tags": []
   },
   "outputs": [],
   "source": [
    "# # -----------------------------\n",
    "# # INFERENCE & VISUALIZATION FOR SPECIFIC IMAGES\n",
    "# # -----------------------------\n",
    "# image_indices = [70, 75, 89, 100]  # Indices of images to visualize\n",
    "\n",
    "# plt.figure(figsize=(10, len(image_indices) * 5))\n",
    "\n",
    "# for idx, i in enumerate(image_indices):\n",
    "#     hazy_img = Image.open(hazy_images[i+1])\n",
    "#     gt_img = Image.open(gt_images[i+1])\n",
    "\n",
    "#     # Transform for model input\n",
    "#     input_tensor = transform(hazy_img).unsqueeze(0).to(device)\n",
    "\n",
    "#     # Inference\n",
    "#     with torch.no_grad():\n",
    "#         output_tensor = model(input_tensor).cpu().squeeze(0)\n",
    "\n",
    "#     # Convert back to image\n",
    "#     output_img = to_pil(output_tensor)\n",
    "\n",
    "#     # Display results\n",
    "#     plt.subplot(len(image_indices), 3, 3 * idx + 1)\n",
    "#     plt.imshow(hazy_img)\n",
    "#     plt.title(f\"Hazy Input {i}\")\n",
    "#     plt.axis(\"off\")\n",
    "\n",
    "#     plt.subplot(len(image_indices), 3, 3 * idx + 2)\n",
    "#     plt.imshow(output_img)\n",
    "#     plt.title(f\"Dehazed Output {i}\")\n",
    "#     plt.axis(\"off\")\n",
    "\n",
    "#     plt.subplot(len(image_indices), 3, 3 * idx + 3)\n",
    "#     plt.imshow(gt_img)\n",
    "#     plt.title(f\"Ground Truth {i}\")\n",
    "#     plt.axis(\"off\")\n",
    "\n",
    "# plt.tight_layout()\n",
    "# plt.show()\n"
   ]
  }
 ],
 "metadata": {
  "kaggle": {
   "accelerator": "none",
   "dataSources": [
    {
     "datasetId": 6456606,
     "sourceId": 10417877,
     "sourceType": "datasetVersion"
    },
    {
     "datasetId": 6464114,
     "sourceId": 10443410,
     "sourceType": "datasetVersion"
    },
    {
     "datasetId": 6826564,
     "sourceId": 10971106,
     "sourceType": "datasetVersion"
    },
    {
     "isSourceIdPinned": false,
     "modelId": 255960,
     "modelInstanceId": 234257,
     "sourceId": 273590,
     "sourceType": "modelInstanceVersion"
    },
    {
     "isSourceIdPinned": true,
     "modelId": 255960,
     "modelInstanceId": 234257,
     "sourceId": 274811,
     "sourceType": "modelInstanceVersion"
    },
    {
     "isSourceIdPinned": true,
     "modelId": 255960,
     "modelInstanceId": 234257,
     "sourceId": 274976,
     "sourceType": "modelInstanceVersion"
    },
    {
     "isSourceIdPinned": true,
     "modelId": 255960,
     "modelInstanceId": 234257,
     "sourceId": 279190,
     "sourceType": "modelInstanceVersion"
    }
   ],
   "dockerImageVersionId": 30918,
   "isGpuEnabled": false,
   "isInternetEnabled": true,
   "language": "python",
   "sourceType": "notebook"
  },
  "kernelspec": {
   "display_name": "Python 3",
   "language": "python",
   "name": "python3"
  },
  "language_info": {
   "codemirror_mode": {
    "name": "ipython",
    "version": 3
   },
   "file_extension": ".py",
   "mimetype": "text/x-python",
   "name": "python",
   "nbconvert_exporter": "python",
   "pygments_lexer": "ipython3",
   "version": "3.10.12"
  },
  "papermill": {
   "default_parameters": {},
   "duration": null,
   "end_time": null,
   "environment_variables": {},
   "exception": null,
   "input_path": "__notebook__.ipynb",
   "output_path": "__notebook__.ipynb",
   "parameters": {},
   "start_time": "2025-03-10T11:52:01.237083",
   "version": "2.6.0"
  }
 },
 "nbformat": 4,
 "nbformat_minor": 5
}
