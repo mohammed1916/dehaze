{
 "cells": [
  {
   "cell_type": "code",
   "execution_count": 1,
   "metadata": {},
   "outputs": [],
   "source": [
    "import torch\n",
    "import torch.nn as nn"
   ]
  },
  {
   "cell_type": "code",
   "execution_count": 2,
   "metadata": {},
   "outputs": [],
   "source": [
    "\n",
    "\n",
    "class AdaptiveInstanceNorm(nn.Module):\n",
    "    def __init__(self, n):\n",
    "        super(AdaptiveInstanceNorm, self).__init__()\n",
    "\n",
    "        self.w_0 = nn.Parameter(torch.Tensor([1.0]))\n",
    "        self.w_1 = nn.Parameter(torch.Tensor([0.0]))\n",
    "\n",
    "        self.ins_norm = nn.InstanceNorm2d(n, momentum=0.999, eps=0.001, affine=True)\n",
    "\n",
    "    def forward(self, x):\n",
    "        return self.w_0 * x + self.w_1 * self.ins_norm(x)\n",
    "\n",
    "\n",
    "class PALayer(nn.Module):\n",
    "    def __init__(self, channel: int):\n",
    "        super(PALayer, self).__init__()\n",
    "        self.pa = nn.Sequential(\n",
    "            nn.Conv2d(channel, channel // 8, 1, padding=0, bias=True),\n",
    "            nn.LeakyReLU(0.2, inplace=True),\n",
    "            nn.Conv2d(channel // 8, 1, 1, padding=0, bias=True),\n",
    "            nn.Sigmoid(),\n",
    "        )\n",
    "\n",
    "    def forward(self, x):\n",
    "        y = self.pa(x)\n",
    "        return x * y\n",
    "\n",
    "\n",
    "class CALayer(nn.Module):\n",
    "    def __init__(self, channel: int):\n",
    "        super(CALayer, self).__init__()\n",
    "        self.avg_pool = nn.AdaptiveAvgPool2d(1)\n",
    "        self.ca = nn.Sequential(\n",
    "            nn.Conv2d(channel, channel // 8, 1, padding=0, bias=True),\n",
    "            nn.LeakyReLU(0.2, inplace=True),\n",
    "            nn.Conv2d(channel // 8, channel, 1, padding=0, bias=True),\n",
    "            nn.Sigmoid(),\n",
    "        )\n",
    "\n",
    "    def forward(self, x):\n",
    "        y = self.avg_pool(x)\n",
    "        y = self.ca(y)\n",
    "        return x * y"
   ]
  },
  {
   "cell_type": "code",
   "execution_count": 3,
   "metadata": {},
   "outputs": [],
   "source": [
    "class RDB(nn.Module):\n",
    "    def __init__(self, in_channels, num_dense_layer, growth_rate):\n",
    "        super(RDB, self).__init__()\n",
    "        \n",
    "        modules = []\n",
    "        self.split_channel=in_channels//4\n",
    "        kernel_size=3\n",
    "        dilation=1\n",
    "        self.conv1 = nn.Conv2d(self.split_channel*1, self.split_channel, kernel_size=kernel_size, padding=dilation, dilation=dilation)\n",
    "        dilation=2\n",
    "        self.conv2 = nn.Conv2d(self.split_channel*2, self.split_channel, kernel_size=kernel_size, padding=dilation, dilation=dilation)\n",
    "        dilation=4\n",
    "        self.conv3 = nn.Conv2d(self.split_channel*3, self.split_channel, kernel_size=kernel_size,  padding=dilation, dilation=dilation)\n",
    "        dilation=8\n",
    "        self.conv4 = nn.Conv2d(self.split_channel*4, self.split_channel, kernel_size=kernel_size, padding=dilation, dilation=dilation)\n",
    "\n",
    "            \n",
    "        #self.residual_dense_layers = nn.Sequential(*modules)\n",
    "        _in_channels=in_channels\n",
    "        self.calayer=CALayer(in_channels)\n",
    "        self.palayer=PALayer(in_channels)\n",
    "        self.conv_1x1 = nn.Conv2d(_in_channels, in_channels, kernel_size=1, padding=0)\n",
    "\n",
    "    def forward(self, x):\n",
    "        splited = torch.split(x, self.split_channel, dim=1)\n",
    "        x0=F.relu(self.conv1(splited[0]))\n",
    "        tmp= torch.cat((splited[1], x0), 1)\n",
    "        x1=F.relu(self.conv2(tmp))\n",
    "        tmp= torch.cat((splited[2], x0, x1), 1)\n",
    "        x2=F.relu(self.conv3(tmp))\n",
    "        tmp= torch.cat((splited[3], x0, x1, x2), 1)\n",
    "        x3=F.relu(self.conv4(tmp))\n",
    "        tmp= torch.cat(( x0, x1, x2, x3), 1)\n",
    "        \n",
    "        out = self.conv_1x1(tmp)\n",
    "        out=self.calayer(out)\n",
    "        out=self.palayer(out)\n",
    "        #print(out.shape, x.shape)\n",
    "        out=out+x\n",
    "        return out"
   ]
  },
  {
   "cell_type": "code",
   "execution_count": 4,
   "metadata": {},
   "outputs": [
    {
     "name": "stdout",
     "output_type": "stream",
     "text": [
      "torch.Size([1, 64, 128, 128])\n"
     ]
    }
   ],
   "source": [
    "import torch.nn.functional as F\n",
    "\n",
    "# Define the input tensor\n",
    "input_tensor = torch.randn(1, 64, 128, 128)  # Example input tensor with shape (batch_size, channels, height, width)\n",
    "\n",
    "# Create an instance of the RDB class\n",
    "rdb = RDB(in_channels=64, num_dense_layer=4, growth_rate=32)\n",
    "\n",
    "# Pass the input tensor through the RDB instance\n",
    "output_tensor = rdb(input_tensor)\n",
    "\n",
    "# Print the output tensor shape\n",
    "print(output_tensor.shape)"
   ]
  }
 ],
 "metadata": {
  "kernelspec": {
   "display_name": "Python 3",
   "language": "python",
   "name": "python3"
  },
  "language_info": {
   "codemirror_mode": {
    "name": "ipython",
    "version": 3
   },
   "file_extension": ".py",
   "mimetype": "text/x-python",
   "name": "python",
   "nbconvert_exporter": "python",
   "pygments_lexer": "ipython3",
   "version": "3.10.11"
  }
 },
 "nbformat": 4,
 "nbformat_minor": 2
}
